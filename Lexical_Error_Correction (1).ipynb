{
  "nbformat": 4,
  "nbformat_minor": 0,
  "metadata": {
    "colab": {
      "name": "Lexical_Error_Correction.ipynb",
      "provenance": [],
      "collapsed_sections": [
        "lbxGt84pWE1w",
        "cWzzHJ2QYk1s",
        "4KJ-EbESYnS7",
        "GZLXABL2Beol",
        "aWv_A49pBjc8",
        "amFE3k1iBmyU",
        "6NBa7yG6Bqq2",
        "eGRkQ2fiBvsz",
        "zq11rGDDyNHQ",
        "dvudWNA4O-p8",
        "K9-nye2hWKI5",
        "vBx1xEBuMLsh",
        "4KsAI4tpY-1u",
        "qIWUs-jcZDtZ",
        "-C6oTK-VZHZG",
        "Z2VmSL0Tgv1p",
        "Ixn5DXWsh4y1",
        "VdzVXVWS-93L",
        "ZcWtmoYJZVl2",
        "8TKGExyjSobD"
      ]
    },
    "kernelspec": {
      "name": "python3",
      "display_name": "Python 3"
    },
    "language_info": {
      "name": "python"
    },
    "accelerator": "GPU"
  },
  "cells": [
    {
      "cell_type": "markdown",
      "source": [
        "## Импорты"
      ],
      "metadata": {
        "id": "O6ZVOfJDpaXr"
      }
    },
    {
      "cell_type": "code",
      "source": [
        "import pandas as pd\n",
        "import numpy as np\n",
        "import random\n",
        "import re\n",
        "import string\n",
        "import itertools\n",
        "from tqdm import tqdm\n",
        "from collections import Counter\n",
        "\n",
        "import matplotlib.pyplot as plt\n",
        "import matplotlib as mpl\n",
        "mpl.rcParams['axes.prop_cycle'] = mpl.cycler(color=[\"grey\", \"#e94cdc\", \"blue\", \"orange\"]) \n",
        "\n",
        "random.seed(1)\n",
        "SEED = 1"
      ],
      "metadata": {
        "id": "m0ZinnJVQCQ9"
      },
      "execution_count": 1,
      "outputs": []
    },
    {
      "cell_type": "code",
      "source": [
        "#!python -m spacy download en_core_web_lg\n",
        "#restart runtime after this"
      ],
      "metadata": {
        "id": "_9WdTH1kdPD4"
      },
      "execution_count": 2,
      "outputs": []
    },
    {
      "cell_type": "code",
      "source": [
        "import spacy\n",
        "nlp = spacy.load('en_core_web_lg')\n",
        "\n",
        "import nltk\n",
        "nltk.download('punkt')\n",
        "from nltk import word_tokenize, sent_tokenize"
      ],
      "metadata": {
        "colab": {
          "base_uri": "https://localhost:8080/"
        },
        "id": "4DvFegAxdVio",
        "outputId": "09da23f7-8e78-45ed-93d6-83ee65c3da33"
      },
      "execution_count": 3,
      "outputs": [
        {
          "output_type": "stream",
          "name": "stdout",
          "text": [
            "[nltk_data] Downloading package punkt to /root/nltk_data...\n",
            "[nltk_data]   Package punkt is already up-to-date!\n"
          ]
        }
      ]
    },
    {
      "cell_type": "markdown",
      "source": [
        "# REALEC data"
      ],
      "metadata": {
        "id": "lbxGt84pWE1w"
      }
    },
    {
      "cell_type": "code",
      "source": [
        "!wget https://raw.githubusercontent.com/yuagorshkova/realec_lexical_error_correction/main/realec_lexical_errors.csv"
      ],
      "metadata": {
        "colab": {
          "base_uri": "https://localhost:8080/"
        },
        "id": "U8Tcd5qLayz-",
        "outputId": "06e3af32-8006-4317-c12d-bf6e0e1d221d"
      },
      "execution_count": 76,
      "outputs": [
        {
          "output_type": "stream",
          "name": "stdout",
          "text": [
            "--2022-05-26 20:53:39--  https://raw.githubusercontent.com/yuagorshkova/realec_lexical_error_correction/main/realec_lexical_errors.csv\n",
            "Resolving raw.githubusercontent.com (raw.githubusercontent.com)... 185.199.108.133, 185.199.109.133, 185.199.110.133, ...\n",
            "Connecting to raw.githubusercontent.com (raw.githubusercontent.com)|185.199.108.133|:443... connected.\n",
            "HTTP request sent, awaiting response... 200 OK\n",
            "Length: 3336235 (3.2M) [text/plain]\n",
            "Saving to: ‘realec_lexical_errors.csv’\n",
            "\n",
            "realec_lexical_erro 100%[===================>]   3.18M  --.-KB/s    in 0.07s   \n",
            "\n",
            "2022-05-26 20:53:39 (45.1 MB/s) - ‘realec_lexical_errors.csv’ saved [3336235/3336235]\n",
            "\n"
          ]
        }
      ]
    },
    {
      "cell_type": "code",
      "source": [
        "data = pd.read_csv('realec_lexical_errors.csv')\n",
        "data.rename(columns={c:c.lower() for c  in data.columns}, inplace=True)\n",
        "print(f\"Number of objects: {data.shape[0]}\")\n",
        "data.sample(5, random_state=SEED)"
      ],
      "metadata": {
        "colab": {
          "base_uri": "https://localhost:8080/",
          "height": 224
        },
        "id": "r6CBw6fGaybk",
        "outputId": "ffd95dc8-ca60-4bf7-9453-619773a303c8"
      },
      "execution_count": 78,
      "outputs": [
        {
          "output_type": "stream",
          "name": "stdout",
          "text": [
            "Number of objects: 17055\n"
          ]
        },
        {
          "output_type": "execute_result",
          "data": {
            "text/plain": [
              "                text_name                                         error_type  \\\n",
              "5726    2016_EKu_23_1.txt  Change, addition, deletion of a part of colloc...   \n",
              "13902   2017_OBy_52_2.txt                             Choice of lexical item   \n",
              "4161   2014_TSha_10_1.txt                             Choice of lexical item   \n",
              "9119     2017_DOv_4_1.txt                             Choice of lexical item   \n",
              "15656  2019_ABu_224_2.txt                             Choice of lexical item   \n",
              "\n",
              "      error_span      correction  \\\n",
              "5726        kind         kind of   \n",
              "13902    illness        diseases   \n",
              "4161      amount  the percentage   \n",
              "9119     reveals        displays   \n",
              "15656     create         develop   \n",
              "\n",
              "                                          error_sentence  \n",
              "5726   The line graph illustrates the information abo...  \n",
              "13902  Overall, human have not reduced illness before...  \n",
              "4161   Then we can see that amount of people aged 65 ...  \n",
              "9119   The graph reveals information about proportion...  \n",
              "15656  Furthermore, the children who have just starte...  "
            ],
            "text/html": [
              "\n",
              "  <div id=\"df-91b1ee8b-cbf0-4f83-8c95-eb49da355bcd\">\n",
              "    <div class=\"colab-df-container\">\n",
              "      <div>\n",
              "<style scoped>\n",
              "    .dataframe tbody tr th:only-of-type {\n",
              "        vertical-align: middle;\n",
              "    }\n",
              "\n",
              "    .dataframe tbody tr th {\n",
              "        vertical-align: top;\n",
              "    }\n",
              "\n",
              "    .dataframe thead th {\n",
              "        text-align: right;\n",
              "    }\n",
              "</style>\n",
              "<table border=\"1\" class=\"dataframe\">\n",
              "  <thead>\n",
              "    <tr style=\"text-align: right;\">\n",
              "      <th></th>\n",
              "      <th>text_name</th>\n",
              "      <th>error_type</th>\n",
              "      <th>error_span</th>\n",
              "      <th>correction</th>\n",
              "      <th>error_sentence</th>\n",
              "    </tr>\n",
              "  </thead>\n",
              "  <tbody>\n",
              "    <tr>\n",
              "      <th>5726</th>\n",
              "      <td>2016_EKu_23_1.txt</td>\n",
              "      <td>Change, addition, deletion of a part of colloc...</td>\n",
              "      <td>kind</td>\n",
              "      <td>kind of</td>\n",
              "      <td>The line graph illustrates the information abo...</td>\n",
              "    </tr>\n",
              "    <tr>\n",
              "      <th>13902</th>\n",
              "      <td>2017_OBy_52_2.txt</td>\n",
              "      <td>Choice of lexical item</td>\n",
              "      <td>illness</td>\n",
              "      <td>diseases</td>\n",
              "      <td>Overall, human have not reduced illness before...</td>\n",
              "    </tr>\n",
              "    <tr>\n",
              "      <th>4161</th>\n",
              "      <td>2014_TSha_10_1.txt</td>\n",
              "      <td>Choice of lexical item</td>\n",
              "      <td>amount</td>\n",
              "      <td>the percentage</td>\n",
              "      <td>Then we can see that amount of people aged 65 ...</td>\n",
              "    </tr>\n",
              "    <tr>\n",
              "      <th>9119</th>\n",
              "      <td>2017_DOv_4_1.txt</td>\n",
              "      <td>Choice of lexical item</td>\n",
              "      <td>reveals</td>\n",
              "      <td>displays</td>\n",
              "      <td>The graph reveals information about proportion...</td>\n",
              "    </tr>\n",
              "    <tr>\n",
              "      <th>15656</th>\n",
              "      <td>2019_ABu_224_2.txt</td>\n",
              "      <td>Choice of lexical item</td>\n",
              "      <td>create</td>\n",
              "      <td>develop</td>\n",
              "      <td>Furthermore, the children who have just starte...</td>\n",
              "    </tr>\n",
              "  </tbody>\n",
              "</table>\n",
              "</div>\n",
              "      <button class=\"colab-df-convert\" onclick=\"convertToInteractive('df-91b1ee8b-cbf0-4f83-8c95-eb49da355bcd')\"\n",
              "              title=\"Convert this dataframe to an interactive table.\"\n",
              "              style=\"display:none;\">\n",
              "        \n",
              "  <svg xmlns=\"http://www.w3.org/2000/svg\" height=\"24px\"viewBox=\"0 0 24 24\"\n",
              "       width=\"24px\">\n",
              "    <path d=\"M0 0h24v24H0V0z\" fill=\"none\"/>\n",
              "    <path d=\"M18.56 5.44l.94 2.06.94-2.06 2.06-.94-2.06-.94-.94-2.06-.94 2.06-2.06.94zm-11 1L8.5 8.5l.94-2.06 2.06-.94-2.06-.94L8.5 2.5l-.94 2.06-2.06.94zm10 10l.94 2.06.94-2.06 2.06-.94-2.06-.94-.94-2.06-.94 2.06-2.06.94z\"/><path d=\"M17.41 7.96l-1.37-1.37c-.4-.4-.92-.59-1.43-.59-.52 0-1.04.2-1.43.59L10.3 9.45l-7.72 7.72c-.78.78-.78 2.05 0 2.83L4 21.41c.39.39.9.59 1.41.59.51 0 1.02-.2 1.41-.59l7.78-7.78 2.81-2.81c.8-.78.8-2.07 0-2.86zM5.41 20L4 18.59l7.72-7.72 1.47 1.35L5.41 20z\"/>\n",
              "  </svg>\n",
              "      </button>\n",
              "      \n",
              "  <style>\n",
              "    .colab-df-container {\n",
              "      display:flex;\n",
              "      flex-wrap:wrap;\n",
              "      gap: 12px;\n",
              "    }\n",
              "\n",
              "    .colab-df-convert {\n",
              "      background-color: #E8F0FE;\n",
              "      border: none;\n",
              "      border-radius: 50%;\n",
              "      cursor: pointer;\n",
              "      display: none;\n",
              "      fill: #1967D2;\n",
              "      height: 32px;\n",
              "      padding: 0 0 0 0;\n",
              "      width: 32px;\n",
              "    }\n",
              "\n",
              "    .colab-df-convert:hover {\n",
              "      background-color: #E2EBFA;\n",
              "      box-shadow: 0px 1px 2px rgba(60, 64, 67, 0.3), 0px 1px 3px 1px rgba(60, 64, 67, 0.15);\n",
              "      fill: #174EA6;\n",
              "    }\n",
              "\n",
              "    [theme=dark] .colab-df-convert {\n",
              "      background-color: #3B4455;\n",
              "      fill: #D2E3FC;\n",
              "    }\n",
              "\n",
              "    [theme=dark] .colab-df-convert:hover {\n",
              "      background-color: #434B5C;\n",
              "      box-shadow: 0px 1px 3px 1px rgba(0, 0, 0, 0.15);\n",
              "      filter: drop-shadow(0px 1px 2px rgba(0, 0, 0, 0.3));\n",
              "      fill: #FFFFFF;\n",
              "    }\n",
              "  </style>\n",
              "\n",
              "      <script>\n",
              "        const buttonEl =\n",
              "          document.querySelector('#df-91b1ee8b-cbf0-4f83-8c95-eb49da355bcd button.colab-df-convert');\n",
              "        buttonEl.style.display =\n",
              "          google.colab.kernel.accessAllowed ? 'block' : 'none';\n",
              "\n",
              "        async function convertToInteractive(key) {\n",
              "          const element = document.querySelector('#df-91b1ee8b-cbf0-4f83-8c95-eb49da355bcd');\n",
              "          const dataTable =\n",
              "            await google.colab.kernel.invokeFunction('convertToInteractive',\n",
              "                                                     [key], {});\n",
              "          if (!dataTable) return;\n",
              "\n",
              "          const docLinkHtml = 'Like what you see? Visit the ' +\n",
              "            '<a target=\"_blank\" href=https://colab.research.google.com/notebooks/data_table.ipynb>data table notebook</a>'\n",
              "            + ' to learn more about interactive tables.';\n",
              "          element.innerHTML = '';\n",
              "          dataTable['output_type'] = 'display_data';\n",
              "          await google.colab.output.renderOutput(dataTable, element);\n",
              "          const docLink = document.createElement('div');\n",
              "          docLink.innerHTML = docLinkHtml;\n",
              "          element.appendChild(docLink);\n",
              "        }\n",
              "      </script>\n",
              "    </div>\n",
              "  </div>\n",
              "  "
            ]
          },
          "metadata": {},
          "execution_count": 78
        }
      ]
    },
    {
      "cell_type": "markdown",
      "source": [
        "## Duplicates"
      ],
      "metadata": {
        "id": "cWzzHJ2QYk1s"
      }
    },
    {
      "cell_type": "code",
      "source": [
        "len_before = data.shape[0]\n",
        "data.drop_duplicates(keep='first', inplace=True)\n",
        "print(f\"Dropped {len_before - data.shape[0]} rows, {data.shape[0]} left\")"
      ],
      "metadata": {
        "colab": {
          "base_uri": "https://localhost:8080/"
        },
        "id": "69Jspn4JX7Bd",
        "outputId": "6acfd630-cea4-4679-bd90-f14ddc9cfe63"
      },
      "execution_count": 79,
      "outputs": [
        {
          "output_type": "stream",
          "name": "stdout",
          "text": [
            "Dropped 120 rows, 16935 left\n"
          ]
        }
      ]
    },
    {
      "cell_type": "code",
      "source": [
        "plt.figure(figsize=(15,7))\n",
        "\n",
        "data_value_counts = data.text_name.value_counts()\n",
        "data_value_counts.plot(kind='hist', \n",
        "                       bins=np.unique(data_value_counts).shape[0])\n",
        "\n",
        "plt.show()"
      ],
      "metadata": {
        "colab": {
          "base_uri": "https://localhost:8080/",
          "height": 0
        },
        "id": "qJZ8QZvrQ8Vr",
        "outputId": "8e54e002-2c8b-45b3-fa2d-0dd657fd2ebf"
      },
      "execution_count": 80,
      "outputs": [
        {
          "output_type": "display_data",
          "data": {
            "text/plain": [
              "<Figure size 1080x504 with 1 Axes>"
            ],
            "image/png": "[encoded data removed]"
          },
          "metadata": {
            "needs_background": "light"
          }
        }
      ]
    },
    {
      "cell_type": "code",
      "source": [
        "from sklearn.preprocessing import LabelEncoder\n",
        "\n",
        "le = LabelEncoder()\n",
        "data['sentence_id'] = le.fit_transform(data['error_sentence'])\n",
        "\n",
        "plt.figure(figsize=(15,7))\n",
        "data_value_counts = data['sentence_id'].value_counts()\n",
        "data_value_counts.plot(kind='hist', \n",
        "                       bins=np.unique(data_value_counts).shape[0])\n",
        "\n",
        "plt.show()"
      ],
      "metadata": {
        "colab": {
          "base_uri": "https://localhost:8080/",
          "height": 0
        },
        "id": "_w3-W7HRWQ_F",
        "outputId": "e8d0e4dc-9650-418f-dbaa-8530077b837b"
      },
      "execution_count": 81,
      "outputs": [
        {
          "output_type": "display_data",
          "data": {
            "text/plain": [
              "<Figure size 1080x504 with 1 Axes>"
            ],
            "image/png": "[encoded data removed]"
          },
          "metadata": {
            "needs_background": "light"
          }
        }
      ]
    },
    {
      "cell_type": "code",
      "source": [
        "error_spans_per_sentence = data.groupby(['sentence_id', 'error_span']).size()\n",
        "error_spans_per_sentence = pd.DataFrame(error_spans_per_sentence)\n",
        "error_spans_per_sentence.sample(2)"
      ],
      "metadata": {
        "colab": {
          "base_uri": "https://localhost:8080/",
          "height": 0
        },
        "id": "4yMuh0HUZuma",
        "outputId": "14d25fa2-2e9b-43ca-a6af-16a356879fe5"
      },
      "execution_count": 82,
      "outputs": [
        {
          "output_type": "execute_result",
          "data": {
            "text/plain": [
              "                        0\n",
              "sentence_id error_span   \n",
              "2288        was         1\n",
              "2101        than        1"
            ],
            "text/html": [
              "\n",
              "  <div id=\"df-bd163e7c-ebc3-4be0-a1d8-abee791a9ebf\">\n",
              "    <div class=\"colab-df-container\">\n",
              "      <div>\n",
              "<style scoped>\n",
              "    .dataframe tbody tr th:only-of-type {\n",
              "        vertical-align: middle;\n",
              "    }\n",
              "\n",
              "    .dataframe tbody tr th {\n",
              "        vertical-align: top;\n",
              "    }\n",
              "\n",
              "    .dataframe thead th {\n",
              "        text-align: right;\n",
              "    }\n",
              "</style>\n",
              "<table border=\"1\" class=\"dataframe\">\n",
              "  <thead>\n",
              "    <tr style=\"text-align: right;\">\n",
              "      <th></th>\n",
              "      <th></th>\n",
              "      <th>0</th>\n",
              "    </tr>\n",
              "    <tr>\n",
              "      <th>sentence_id</th>\n",
              "      <th>error_span</th>\n",
              "      <th></th>\n",
              "    </tr>\n",
              "  </thead>\n",
              "  <tbody>\n",
              "    <tr>\n",
              "      <th>2288</th>\n",
              "      <th>was</th>\n",
              "      <td>1</td>\n",
              "    </tr>\n",
              "    <tr>\n",
              "      <th>2101</th>\n",
              "      <th>than</th>\n",
              "      <td>1</td>\n",
              "    </tr>\n",
              "  </tbody>\n",
              "</table>\n",
              "</div>\n",
              "      <button class=\"colab-df-convert\" onclick=\"convertToInteractive('df-bd163e7c-ebc3-4be0-a1d8-abee791a9ebf')\"\n",
              "              title=\"Convert this dataframe to an interactive table.\"\n",
              "              style=\"display:none;\">\n",
              "        \n",
              "  <svg xmlns=\"http://www.w3.org/2000/svg\" height=\"24px\"viewBox=\"0 0 24 24\"\n",
              "       width=\"24px\">\n",
              "    <path d=\"M0 0h24v24H0V0z\" fill=\"none\"/>\n",
              "    <path d=\"M18.56 5.44l.94 2.06.94-2.06 2.06-.94-2.06-.94-.94-2.06-.94 2.06-2.06.94zm-11 1L8.5 8.5l.94-2.06 2.06-.94-2.06-.94L8.5 2.5l-.94 2.06-2.06.94zm10 10l.94 2.06.94-2.06 2.06-.94-2.06-.94-.94-2.06-.94 2.06-2.06.94z\"/><path d=\"M17.41 7.96l-1.37-1.37c-.4-.4-.92-.59-1.43-.59-.52 0-1.04.2-1.43.59L10.3 9.45l-7.72 7.72c-.78.78-.78 2.05 0 2.83L4 21.41c.39.39.9.59 1.41.59.51 0 1.02-.2 1.41-.59l7.78-7.78 2.81-2.81c.8-.78.8-2.07 0-2.86zM5.41 20L4 18.59l7.72-7.72 1.47 1.35L5.41 20z\"/>\n",
              "  </svg>\n",
              "      </button>\n",
              "      \n",
              "  <style>\n",
              "    .colab-df-container {\n",
              "      display:flex;\n",
              "      flex-wrap:wrap;\n",
              "      gap: 12px;\n",
              "    }\n",
              "\n",
              "    .colab-df-convert {\n",
              "      background-color: #E8F0FE;\n",
              "      border: none;\n",
              "      border-radius: 50%;\n",
              "      cursor: pointer;\n",
              "      display: none;\n",
              "      fill: #1967D2;\n",
              "      height: 32px;\n",
              "      padding: 0 0 0 0;\n",
              "      width: 32px;\n",
              "    }\n",
              "\n",
              "    .colab-df-convert:hover {\n",
              "      background-color: #E2EBFA;\n",
              "      box-shadow: 0px 1px 2px rgba(60, 64, 67, 0.3), 0px 1px 3px 1px rgba(60, 64, 67, 0.15);\n",
              "      fill: #174EA6;\n",
              "    }\n",
              "\n",
              "    [theme=dark] .colab-df-convert {\n",
              "      background-color: #3B4455;\n",
              "      fill: #D2E3FC;\n",
              "    }\n",
              "\n",
              "    [theme=dark] .colab-df-convert:hover {\n",
              "      background-color: #434B5C;\n",
              "      box-shadow: 0px 1px 3px 1px rgba(0, 0, 0, 0.15);\n",
              "      filter: drop-shadow(0px 1px 2px rgba(0, 0, 0, 0.3));\n",
              "      fill: #FFFFFF;\n",
              "    }\n",
              "  </style>\n",
              "\n",
              "      <script>\n",
              "        const buttonEl =\n",
              "          document.querySelector('#df-bd163e7c-ebc3-4be0-a1d8-abee791a9ebf button.colab-df-convert');\n",
              "        buttonEl.style.display =\n",
              "          google.colab.kernel.accessAllowed ? 'block' : 'none';\n",
              "\n",
              "        async function convertToInteractive(key) {\n",
              "          const element = document.querySelector('#df-bd163e7c-ebc3-4be0-a1d8-abee791a9ebf');\n",
              "          const dataTable =\n",
              "            await google.colab.kernel.invokeFunction('convertToInteractive',\n",
              "                                                     [key], {});\n",
              "          if (!dataTable) return;\n",
              "\n",
              "          const docLinkHtml = 'Like what you see? Visit the ' +\n",
              "            '<a target=\"_blank\" href=https://colab.research.google.com/notebooks/data_table.ipynb>data table notebook</a>'\n",
              "            + ' to learn more about interactive tables.';\n",
              "          element.innerHTML = '';\n",
              "          dataTable['output_type'] = 'display_data';\n",
              "          await google.colab.output.renderOutput(dataTable, element);\n",
              "          const docLink = document.createElement('div');\n",
              "          docLink.innerHTML = docLinkHtml;\n",
              "          element.appendChild(docLink);\n",
              "        }\n",
              "      </script>\n",
              "    </div>\n",
              "  </div>\n",
              "  "
            ]
          },
          "metadata": {},
          "execution_count": 82
        }
      ]
    },
    {
      "cell_type": "code",
      "source": [
        "same_span_several_errors = data.groupby(['sentence_id', 'error_span']).size()\n",
        "data['same_span_several_errors'] = data[['sentence_id', 'error_span']].apply(lambda x: error_spans_per_sentence.loc[x.values[0]].loc[x.values[1]], axis=1)\n",
        "data['same_span_several_errors'].value_counts()"
      ],
      "metadata": {
        "colab": {
          "base_uri": "https://localhost:8080/"
        },
        "id": "QJfRE0CHTu-Q",
        "outputId": "1d101b45-661e-46df-eace-b9bbc09a31d1"
      },
      "execution_count": 83,
      "outputs": [
        {
          "output_type": "execute_result",
          "data": {
            "text/plain": [
              "1    16741\n",
              "2      188\n",
              "3        6\n",
              "Name: same_span_several_errors, dtype: int64"
            ]
          },
          "metadata": {},
          "execution_count": 83
        }
      ]
    },
    {
      "cell_type": "code",
      "source": [
        "# В первом случае исправляются разные слова, во втором были разные разметчики\n",
        "pd.options.display.max_colwidth = 120\n",
        "data[data['same_span_several_errors'] == 3][['error_span', 'correction', 'error_sentence']].head(15)"
      ],
      "metadata": {
        "colab": {
          "base_uri": "https://localhost:8080/",
          "height": 0
        },
        "id": "0UziFqraVMwY",
        "outputId": "854745ad-a5b9-4a9e-906d-97e0abf28bbf"
      },
      "execution_count": 84,
      "outputs": [
        {
          "output_type": "execute_result",
          "data": {
            "text/plain": [
              "      error_span  correction  \\\n",
              "15425        you    somebody   \n",
              "15426        you   he or she   \n",
              "15427        you      person   \n",
              "16274     shares  percentage   \n",
              "16275     shares       level   \n",
              "16276     shares       level   \n",
              "\n",
              "                                                                                                          error_sentence  \n",
              "15425        That means, if you have money, you can have any service, any product or any thing that you could wish for.   \n",
              "15426        That means, if you have money, you can have any service, any product or any thing that you could wish for.   \n",
              "15427        That means, if you have money, you can have any service, any product or any thing that you could wish for.   \n",
              "16274  In 1995 the trend of level of obesity among both children levelled off and reached the same shares (nearly 15%).   \n",
              "16275  In 1995 the trend of level of obesity among both children levelled off and reached the same shares (nearly 15%).   \n",
              "16276  In 1995 the trend of level of obesity among both children levelled off and reached the same shares (nearly 15%).   "
            ],
            "text/html": [
              "\n",
              "  <div id=\"df-7c9e0f4e-b754-4cc3-8bf3-5867e9dc6fe8\">\n",
              "    <div class=\"colab-df-container\">\n",
              "      <div>\n",
              "<style scoped>\n",
              "    .dataframe tbody tr th:only-of-type {\n",
              "        vertical-align: middle;\n",
              "    }\n",
              "\n",
              "    .dataframe tbody tr th {\n",
              "        vertical-align: top;\n",
              "    }\n",
              "\n",
              "    .dataframe thead th {\n",
              "        text-align: right;\n",
              "    }\n",
              "</style>\n",
              "<table border=\"1\" class=\"dataframe\">\n",
              "  <thead>\n",
              "    <tr style=\"text-align: right;\">\n",
              "      <th></th>\n",
              "      <th>error_span</th>\n",
              "      <th>correction</th>\n",
              "      <th>error_sentence</th>\n",
              "    </tr>\n",
              "  </thead>\n",
              "  <tbody>\n",
              "    <tr>\n",
              "      <th>15425</th>\n",
              "      <td>you</td>\n",
              "      <td>somebody</td>\n",
              "      <td>That means, if you have money, you can have any service, any product or any thing that you could wish for.</td>\n",
              "    </tr>\n",
              "    <tr>\n",
              "      <th>15426</th>\n",
              "      <td>you</td>\n",
              "      <td>he or she</td>\n",
              "      <td>That means, if you have money, you can have any service, any product or any thing that you could wish for.</td>\n",
              "    </tr>\n",
              "    <tr>\n",
              "      <th>15427</th>\n",
              "      <td>you</td>\n",
              "      <td>person</td>\n",
              "      <td>That means, if you have money, you can have any service, any product or any thing that you could wish for.</td>\n",
              "    </tr>\n",
              "    <tr>\n",
              "      <th>16274</th>\n",
              "      <td>shares</td>\n",
              "      <td>percentage</td>\n",
              "      <td>In 1995 the trend of level of obesity among both children levelled off and reached the same shares (nearly 15%).</td>\n",
              "    </tr>\n",
              "    <tr>\n",
              "      <th>16275</th>\n",
              "      <td>shares</td>\n",
              "      <td>level</td>\n",
              "      <td>In 1995 the trend of level of obesity among both children levelled off and reached the same shares (nearly 15%).</td>\n",
              "    </tr>\n",
              "    <tr>\n",
              "      <th>16276</th>\n",
              "      <td>shares</td>\n",
              "      <td>level</td>\n",
              "      <td>In 1995 the trend of level of obesity among both children levelled off and reached the same shares (nearly 15%).</td>\n",
              "    </tr>\n",
              "  </tbody>\n",
              "</table>\n",
              "</div>\n",
              "      <button class=\"colab-df-convert\" onclick=\"convertToInteractive('df-7c9e0f4e-b754-4cc3-8bf3-5867e9dc6fe8')\"\n",
              "              title=\"Convert this dataframe to an interactive table.\"\n",
              "              style=\"display:none;\">\n",
              "        \n",
              "  <svg xmlns=\"http://www.w3.org/2000/svg\" height=\"24px\"viewBox=\"0 0 24 24\"\n",
              "       width=\"24px\">\n",
              "    <path d=\"M0 0h24v24H0V0z\" fill=\"none\"/>\n",
              "    <path d=\"M18.56 5.44l.94 2.06.94-2.06 2.06-.94-2.06-.94-.94-2.06-.94 2.06-2.06.94zm-11 1L8.5 8.5l.94-2.06 2.06-.94-2.06-.94L8.5 2.5l-.94 2.06-2.06.94zm10 10l.94 2.06.94-2.06 2.06-.94-2.06-.94-.94-2.06-.94 2.06-2.06.94z\"/><path d=\"M17.41 7.96l-1.37-1.37c-.4-.4-.92-.59-1.43-.59-.52 0-1.04.2-1.43.59L10.3 9.45l-7.72 7.72c-.78.78-.78 2.05 0 2.83L4 21.41c.39.39.9.59 1.41.59.51 0 1.02-.2 1.41-.59l7.78-7.78 2.81-2.81c.8-.78.8-2.07 0-2.86zM5.41 20L4 18.59l7.72-7.72 1.47 1.35L5.41 20z\"/>\n",
              "  </svg>\n",
              "      </button>\n",
              "      \n",
              "  <style>\n",
              "    .colab-df-container {\n",
              "      display:flex;\n",
              "      flex-wrap:wrap;\n",
              "      gap: 12px;\n",
              "    }\n",
              "\n",
              "    .colab-df-convert {\n",
              "      background-color: #E8F0FE;\n",
              "      border: none;\n",
              "      border-radius: 50%;\n",
              "      cursor: pointer;\n",
              "      display: none;\n",
              "      fill: #1967D2;\n",
              "      height: 32px;\n",
              "      padding: 0 0 0 0;\n",
              "      width: 32px;\n",
              "    }\n",
              "\n",
              "    .colab-df-convert:hover {\n",
              "      background-color: #E2EBFA;\n",
              "      box-shadow: 0px 1px 2px rgba(60, 64, 67, 0.3), 0px 1px 3px 1px rgba(60, 64, 67, 0.15);\n",
              "      fill: #174EA6;\n",
              "    }\n",
              "\n",
              "    [theme=dark] .colab-df-convert {\n",
              "      background-color: #3B4455;\n",
              "      fill: #D2E3FC;\n",
              "    }\n",
              "\n",
              "    [theme=dark] .colab-df-convert:hover {\n",
              "      background-color: #434B5C;\n",
              "      box-shadow: 0px 1px 3px 1px rgba(0, 0, 0, 0.15);\n",
              "      filter: drop-shadow(0px 1px 2px rgba(0, 0, 0, 0.3));\n",
              "      fill: #FFFFFF;\n",
              "    }\n",
              "  </style>\n",
              "\n",
              "      <script>\n",
              "        const buttonEl =\n",
              "          document.querySelector('#df-7c9e0f4e-b754-4cc3-8bf3-5867e9dc6fe8 button.colab-df-convert');\n",
              "        buttonEl.style.display =\n",
              "          google.colab.kernel.accessAllowed ? 'block' : 'none';\n",
              "\n",
              "        async function convertToInteractive(key) {\n",
              "          const element = document.querySelector('#df-7c9e0f4e-b754-4cc3-8bf3-5867e9dc6fe8');\n",
              "          const dataTable =\n",
              "            await google.colab.kernel.invokeFunction('convertToInteractive',\n",
              "                                                     [key], {});\n",
              "          if (!dataTable) return;\n",
              "\n",
              "          const docLinkHtml = 'Like what you see? Visit the ' +\n",
              "            '<a target=\"_blank\" href=https://colab.research.google.com/notebooks/data_table.ipynb>data table notebook</a>'\n",
              "            + ' to learn more about interactive tables.';\n",
              "          element.innerHTML = '';\n",
              "          dataTable['output_type'] = 'display_data';\n",
              "          await google.colab.output.renderOutput(dataTable, element);\n",
              "          const docLink = document.createElement('div');\n",
              "          docLink.innerHTML = docLinkHtml;\n",
              "          element.appendChild(docLink);\n",
              "        }\n",
              "      </script>\n",
              "    </div>\n",
              "  </div>\n",
              "  "
            ]
          },
          "metadata": {},
          "execution_count": 84
        }
      ]
    },
    {
      "cell_type": "code",
      "source": [
        "#в основном разыне разметчики\n",
        "data[data['same_span_several_errors'] == 2][['error_span', 'correction', 'error_sentence']].head(15)"
      ],
      "metadata": {
        "colab": {
          "base_uri": "https://localhost:8080/",
          "height": 0
        },
        "id": "TeXoRqGjuI4W",
        "outputId": "d3ee7f61-96e0-4fab-fe76-9fc4f26a3c08"
      },
      "execution_count": 85,
      "outputs": [
        {
          "output_type": "execute_result",
          "data": {
            "text/plain": [
              "                 error_span                                   correction  \\\n",
              "431                     are                                 consisted of   \n",
              "432                     are                               was made up by   \n",
              "675                  amount                       the highest proportion   \n",
              "676                  amount                                   proportion   \n",
              "680   Undergraduate diploma                undergraduate diploma holders   \n",
              "681   Undergraduate diploma  the number of undergraduate diploma holders   \n",
              "1098                   peck                                         peak   \n",
              "1099                   peck                                      peak of   \n",
              "1351                     is                                         with   \n",
              "1352                     is                                          has   \n",
              "1411               percents                                   percentage   \n",
              "1488                    not                                          NaN   \n",
              "1489                    not                                           no   \n",
              "1490                    not                                           no   \n",
              "1491                    not                                          NaN   \n",
              "\n",
              "                                                                                                               error_sentence  \n",
              "431   The number of this people are 21303 and the small group in this sector are people from 56 to 65 years, this fact ill...  \n",
              "432   The number of this people are 21303 and the small group in this sector are people from 56 to 65 years, this fact ill...  \n",
              "675                                                                       While amount of male firstly has spent 90 percent.   \n",
              "676                                                                       While amount of male firstly has spent 90 percent.   \n",
              "680                                                       Undergraduate diploma was just less half past from all percentage.   \n",
              "681                                                       Undergraduate diploma was just less half past from all percentage.   \n",
              "1098                                                        The curve heats a peck 25%, and heats a low approximately in 7%.   \n",
              "1099                                                        The curve heats a peck 25%, and heats a low approximately in 7%.   \n",
              "1351  The one which is in London was opened in 1863 and is 394 kilometers while the one in Paris which was opened in 37 ye...  \n",
              "1352  The one which is in London was opened in 1863 and is 394 kilometers while the one in Paris which was opened in 37 ye...  \n",
              "1411                                                                                    The information is given in percent.   \n",
              "1488  To sum up, I would like to point out that humanity should try to get rid of old stereotypes and to take a new lifest...  \n",
              "1489                                                   There are not any subjects, which are suitable only for men or women.   \n",
              "1490  To sum up, I would like to point out that humanity should try to get rid of old stereotypes and to take a new lifest...  \n",
              "1491                                                   There are not any subjects, which are suitable only for men or women.   "
            ],
            "text/html": [
              "\n",
              "  <div id=\"df-7a1d187a-e961-4599-88b5-ed3e2497c677\">\n",
              "    <div class=\"colab-df-container\">\n",
              "      <div>\n",
              "<style scoped>\n",
              "    .dataframe tbody tr th:only-of-type {\n",
              "        vertical-align: middle;\n",
              "    }\n",
              "\n",
              "    .dataframe tbody tr th {\n",
              "        vertical-align: top;\n",
              "    }\n",
              "\n",
              "    .dataframe thead th {\n",
              "        text-align: right;\n",
              "    }\n",
              "</style>\n",
              "<table border=\"1\" class=\"dataframe\">\n",
              "  <thead>\n",
              "    <tr style=\"text-align: right;\">\n",
              "      <th></th>\n",
              "      <th>error_span</th>\n",
              "      <th>correction</th>\n",
              "      <th>error_sentence</th>\n",
              "    </tr>\n",
              "  </thead>\n",
              "  <tbody>\n",
              "    <tr>\n",
              "      <th>431</th>\n",
              "      <td>are</td>\n",
              "      <td>consisted of</td>\n",
              "      <td>The number of this people are 21303 and the small group in this sector are people from 56 to 65 years, this fact ill...</td>\n",
              "    </tr>\n",
              "    <tr>\n",
              "      <th>432</th>\n",
              "      <td>are</td>\n",
              "      <td>was made up by</td>\n",
              "      <td>The number of this people are 21303 and the small group in this sector are people from 56 to 65 years, this fact ill...</td>\n",
              "    </tr>\n",
              "    <tr>\n",
              "      <th>675</th>\n",
              "      <td>amount</td>\n",
              "      <td>the highest proportion</td>\n",
              "      <td>While amount of male firstly has spent 90 percent.</td>\n",
              "    </tr>\n",
              "    <tr>\n",
              "      <th>676</th>\n",
              "      <td>amount</td>\n",
              "      <td>proportion</td>\n",
              "      <td>While amount of male firstly has spent 90 percent.</td>\n",
              "    </tr>\n",
              "    <tr>\n",
              "      <th>680</th>\n",
              "      <td>Undergraduate diploma</td>\n",
              "      <td>undergraduate diploma holders</td>\n",
              "      <td>Undergraduate diploma was just less half past from all percentage.</td>\n",
              "    </tr>\n",
              "    <tr>\n",
              "      <th>681</th>\n",
              "      <td>Undergraduate diploma</td>\n",
              "      <td>the number of undergraduate diploma holders</td>\n",
              "      <td>Undergraduate diploma was just less half past from all percentage.</td>\n",
              "    </tr>\n",
              "    <tr>\n",
              "      <th>1098</th>\n",
              "      <td>peck</td>\n",
              "      <td>peak</td>\n",
              "      <td>The curve heats a peck 25%, and heats a low approximately in 7%.</td>\n",
              "    </tr>\n",
              "    <tr>\n",
              "      <th>1099</th>\n",
              "      <td>peck</td>\n",
              "      <td>peak of</td>\n",
              "      <td>The curve heats a peck 25%, and heats a low approximately in 7%.</td>\n",
              "    </tr>\n",
              "    <tr>\n",
              "      <th>1351</th>\n",
              "      <td>is</td>\n",
              "      <td>with</td>\n",
              "      <td>The one which is in London was opened in 1863 and is 394 kilometers while the one in Paris which was opened in 37 ye...</td>\n",
              "    </tr>\n",
              "    <tr>\n",
              "      <th>1352</th>\n",
              "      <td>is</td>\n",
              "      <td>has</td>\n",
              "      <td>The one which is in London was opened in 1863 and is 394 kilometers while the one in Paris which was opened in 37 ye...</td>\n",
              "    </tr>\n",
              "    <tr>\n",
              "      <th>1411</th>\n",
              "      <td>percents</td>\n",
              "      <td>percentage</td>\n",
              "      <td>The information is given in percent.</td>\n",
              "    </tr>\n",
              "    <tr>\n",
              "      <th>1488</th>\n",
              "      <td>not</td>\n",
              "      <td>NaN</td>\n",
              "      <td>To sum up, I would like to point out that humanity should try to get rid of old stereotypes and to take a new lifest...</td>\n",
              "    </tr>\n",
              "    <tr>\n",
              "      <th>1489</th>\n",
              "      <td>not</td>\n",
              "      <td>no</td>\n",
              "      <td>There are not any subjects, which are suitable only for men or women.</td>\n",
              "    </tr>\n",
              "    <tr>\n",
              "      <th>1490</th>\n",
              "      <td>not</td>\n",
              "      <td>no</td>\n",
              "      <td>To sum up, I would like to point out that humanity should try to get rid of old stereotypes and to take a new lifest...</td>\n",
              "    </tr>\n",
              "    <tr>\n",
              "      <th>1491</th>\n",
              "      <td>not</td>\n",
              "      <td>NaN</td>\n",
              "      <td>There are not any subjects, which are suitable only for men or women.</td>\n",
              "    </tr>\n",
              "  </tbody>\n",
              "</table>\n",
              "</div>\n",
              "      <button class=\"colab-df-convert\" onclick=\"convertToInteractive('df-7a1d187a-e961-4599-88b5-ed3e2497c677')\"\n",
              "              title=\"Convert this dataframe to an interactive table.\"\n",
              "              style=\"display:none;\">\n",
              "        \n",
              "  <svg xmlns=\"http://www.w3.org/2000/svg\" height=\"24px\"viewBox=\"0 0 24 24\"\n",
              "       width=\"24px\">\n",
              "    <path d=\"M0 0h24v24H0V0z\" fill=\"none\"/>\n",
              "    <path d=\"M18.56 5.44l.94 2.06.94-2.06 2.06-.94-2.06-.94-.94-2.06-.94 2.06-2.06.94zm-11 1L8.5 8.5l.94-2.06 2.06-.94-2.06-.94L8.5 2.5l-.94 2.06-2.06.94zm10 10l.94 2.06.94-2.06 2.06-.94-2.06-.94-.94-2.06-.94 2.06-2.06.94z\"/><path d=\"M17.41 7.96l-1.37-1.37c-.4-.4-.92-.59-1.43-.59-.52 0-1.04.2-1.43.59L10.3 9.45l-7.72 7.72c-.78.78-.78 2.05 0 2.83L4 21.41c.39.39.9.59 1.41.59.51 0 1.02-.2 1.41-.59l7.78-7.78 2.81-2.81c.8-.78.8-2.07 0-2.86zM5.41 20L4 18.59l7.72-7.72 1.47 1.35L5.41 20z\"/>\n",
              "  </svg>\n",
              "      </button>\n",
              "      \n",
              "  <style>\n",
              "    .colab-df-container {\n",
              "      display:flex;\n",
              "      flex-wrap:wrap;\n",
              "      gap: 12px;\n",
              "    }\n",
              "\n",
              "    .colab-df-convert {\n",
              "      background-color: #E8F0FE;\n",
              "      border: none;\n",
              "      border-radius: 50%;\n",
              "      cursor: pointer;\n",
              "      display: none;\n",
              "      fill: #1967D2;\n",
              "      height: 32px;\n",
              "      padding: 0 0 0 0;\n",
              "      width: 32px;\n",
              "    }\n",
              "\n",
              "    .colab-df-convert:hover {\n",
              "      background-color: #E2EBFA;\n",
              "      box-shadow: 0px 1px 2px rgba(60, 64, 67, 0.3), 0px 1px 3px 1px rgba(60, 64, 67, 0.15);\n",
              "      fill: #174EA6;\n",
              "    }\n",
              "\n",
              "    [theme=dark] .colab-df-convert {\n",
              "      background-color: #3B4455;\n",
              "      fill: #D2E3FC;\n",
              "    }\n",
              "\n",
              "    [theme=dark] .colab-df-convert:hover {\n",
              "      background-color: #434B5C;\n",
              "      box-shadow: 0px 1px 3px 1px rgba(0, 0, 0, 0.15);\n",
              "      filter: drop-shadow(0px 1px 2px rgba(0, 0, 0, 0.3));\n",
              "      fill: #FFFFFF;\n",
              "    }\n",
              "  </style>\n",
              "\n",
              "      <script>\n",
              "        const buttonEl =\n",
              "          document.querySelector('#df-7a1d187a-e961-4599-88b5-ed3e2497c677 button.colab-df-convert');\n",
              "        buttonEl.style.display =\n",
              "          google.colab.kernel.accessAllowed ? 'block' : 'none';\n",
              "\n",
              "        async function convertToInteractive(key) {\n",
              "          const element = document.querySelector('#df-7a1d187a-e961-4599-88b5-ed3e2497c677');\n",
              "          const dataTable =\n",
              "            await google.colab.kernel.invokeFunction('convertToInteractive',\n",
              "                                                     [key], {});\n",
              "          if (!dataTable) return;\n",
              "\n",
              "          const docLinkHtml = 'Like what you see? Visit the ' +\n",
              "            '<a target=\"_blank\" href=https://colab.research.google.com/notebooks/data_table.ipynb>data table notebook</a>'\n",
              "            + ' to learn more about interactive tables.';\n",
              "          element.innerHTML = '';\n",
              "          dataTable['output_type'] = 'display_data';\n",
              "          await google.colab.output.renderOutput(dataTable, element);\n",
              "          const docLink = document.createElement('div');\n",
              "          docLink.innerHTML = docLinkHtml;\n",
              "          element.appendChild(docLink);\n",
              "        }\n",
              "      </script>\n",
              "    </div>\n",
              "  </div>\n",
              "  "
            ]
          },
          "metadata": {},
          "execution_count": 85
        }
      ]
    },
    {
      "cell_type": "code",
      "source": [
        "# в общем я хочу дропнуть эти примеры....\n",
        "len_before = data.shape[0]\n",
        "\n",
        "indices_to_drop = data[data['same_span_several_errors'] == 2].index\n",
        "data.drop(index = indices_to_drop, inplace=True)\n",
        "print(f\"Dropped {len_before - data.shape[0]} rows, {data.shape[0]} left\")"
      ],
      "metadata": {
        "colab": {
          "base_uri": "https://localhost:8080/"
        },
        "id": "SyELyNmLueQr",
        "outputId": "fc56e5b6-1b42-40f7-fa9a-e1120dad3fd1"
      },
      "execution_count": 86,
      "outputs": [
        {
          "output_type": "stream",
          "name": "stdout",
          "text": [
            "Dropped 188 rows, 16747 left\n"
          ]
        }
      ]
    },
    {
      "cell_type": "markdown",
      "source": [
        "## Target"
      ],
      "metadata": {
        "id": "4KJ-EbESYnS7"
      }
    },
    {
      "cell_type": "code",
      "source": [
        "data1 = data.copy()\n",
        "data = data1.copy().reset_index(drop=True)\n",
        "#drop if not latin"
      ],
      "metadata": {
        "id": "E1qQ92DV2Qvd"
      },
      "execution_count": 87,
      "outputs": []
    },
    {
      "cell_type": "code",
      "source": [
        "data.fillna('', inplace=True)\n",
        "data.head(5)"
      ],
      "metadata": {
        "colab": {
          "base_uri": "https://localhost:8080/",
          "height": 0
        },
        "id": "71hAu1ksu9ob",
        "outputId": "d4ec104c-7010-4710-a291-b153a6f36925"
      },
      "execution_count": 88,
      "outputs": [
        {
          "output_type": "execute_result",
          "data": {
            "text/plain": [
              "           text_name              error_type    error_span  \\\n",
              "0  2014_AAl_10_1.txt  Choice of lexical item       incline   \n",
              "1  2014_AAl_10_1.txt  Choice of lexical item           old   \n",
              "2  2014_AAl_10_1.txt             Word choice  Sweden chart   \n",
              "3  2014_AAl_10_1.txt  Choice of lexical item     visualize   \n",
              "4  2014_AAl_10_1.txt  Choice of lexical item          part   \n",
              "\n",
              "             correction  \\\n",
              "0              increase   \n",
              "1               elderly   \n",
              "2  The graph for Sweden   \n",
              "3          demonstrates   \n",
              "4            percentage   \n",
              "\n",
              "                                                                                                            error_sentence  \\\n",
              "0                               After a stable period, we see a huge incline that would occur in Japan from 2020 to 2040.    \n",
              "1  USA, however, had bigger part of old people throughout the century, having 10% in 1960 and even 15% in 1980, but the...   \n",
              "2   Sweden chart is almost equal to the US one, only big discrepancy is 20% in 2020 in Sweden versus below 15% in the US.    \n",
              "3  Given diagram visualize the proportion of population aged 65 and over in Japan, Sweden and the United States from 19...   \n",
              "4  USA, however, had bigger part of old people throughout the century, having 10% in 1960 and even 15% in 1980, but the...   \n",
              "\n",
              "   sentence_id  same_span_several_errors  \n",
              "0          253                         1  \n",
              "1        12842                         1  \n",
              "2         9454                         1  \n",
              "3         3487                         1  \n",
              "4        12842                         1  "
            ],
            "text/html": [
              "\n",
              "  <div id=\"df-f894fa2e-11b5-4921-9ba7-4d4c25f2bb9f\">\n",
              "    <div class=\"colab-df-container\">\n",
              "      <div>\n",
              "<style scoped>\n",
              "    .dataframe tbody tr th:only-of-type {\n",
              "        vertical-align: middle;\n",
              "    }\n",
              "\n",
              "    .dataframe tbody tr th {\n",
              "        vertical-align: top;\n",
              "    }\n",
              "\n",
              "    .dataframe thead th {\n",
              "        text-align: right;\n",
              "    }\n",
              "</style>\n",
              "<table border=\"1\" class=\"dataframe\">\n",
              "  <thead>\n",
              "    <tr style=\"text-align: right;\">\n",
              "      <th></th>\n",
              "      <th>text_name</th>\n",
              "      <th>error_type</th>\n",
              "      <th>error_span</th>\n",
              "      <th>correction</th>\n",
              "      <th>error_sentence</th>\n",
              "      <th>sentence_id</th>\n",
              "      <th>same_span_several_errors</th>\n",
              "    </tr>\n",
              "  </thead>\n",
              "  <tbody>\n",
              "    <tr>\n",
              "      <th>0</th>\n",
              "      <td>2014_AAl_10_1.txt</td>\n",
              "      <td>Choice of lexical item</td>\n",
              "      <td>incline</td>\n",
              "      <td>increase</td>\n",
              "      <td>After a stable period, we see a huge incline that would occur in Japan from 2020 to 2040.</td>\n",
              "      <td>253</td>\n",
              "      <td>1</td>\n",
              "    </tr>\n",
              "    <tr>\n",
              "      <th>1</th>\n",
              "      <td>2014_AAl_10_1.txt</td>\n",
              "      <td>Choice of lexical item</td>\n",
              "      <td>old</td>\n",
              "      <td>elderly</td>\n",
              "      <td>USA, however, had bigger part of old people throughout the century, having 10% in 1960 and even 15% in 1980, but the...</td>\n",
              "      <td>12842</td>\n",
              "      <td>1</td>\n",
              "    </tr>\n",
              "    <tr>\n",
              "      <th>2</th>\n",
              "      <td>2014_AAl_10_1.txt</td>\n",
              "      <td>Word choice</td>\n",
              "      <td>Sweden chart</td>\n",
              "      <td>The graph for Sweden</td>\n",
              "      <td>Sweden chart is almost equal to the US one, only big discrepancy is 20% in 2020 in Sweden versus below 15% in the US.</td>\n",
              "      <td>9454</td>\n",
              "      <td>1</td>\n",
              "    </tr>\n",
              "    <tr>\n",
              "      <th>3</th>\n",
              "      <td>2014_AAl_10_1.txt</td>\n",
              "      <td>Choice of lexical item</td>\n",
              "      <td>visualize</td>\n",
              "      <td>demonstrates</td>\n",
              "      <td>Given diagram visualize the proportion of population aged 65 and over in Japan, Sweden and the United States from 19...</td>\n",
              "      <td>3487</td>\n",
              "      <td>1</td>\n",
              "    </tr>\n",
              "    <tr>\n",
              "      <th>4</th>\n",
              "      <td>2014_AAl_10_1.txt</td>\n",
              "      <td>Choice of lexical item</td>\n",
              "      <td>part</td>\n",
              "      <td>percentage</td>\n",
              "      <td>USA, however, had bigger part of old people throughout the century, having 10% in 1960 and even 15% in 1980, but the...</td>\n",
              "      <td>12842</td>\n",
              "      <td>1</td>\n",
              "    </tr>\n",
              "  </tbody>\n",
              "</table>\n",
              "</div>\n",
              "      <button class=\"colab-df-convert\" onclick=\"convertToInteractive('df-f894fa2e-11b5-4921-9ba7-4d4c25f2bb9f')\"\n",
              "              title=\"Convert this dataframe to an interactive table.\"\n",
              "              style=\"display:none;\">\n",
              "        \n",
              "  <svg xmlns=\"http://www.w3.org/2000/svg\" height=\"24px\"viewBox=\"0 0 24 24\"\n",
              "       width=\"24px\">\n",
              "    <path d=\"M0 0h24v24H0V0z\" fill=\"none\"/>\n",
              "    <path d=\"M18.56 5.44l.94 2.06.94-2.06 2.06-.94-2.06-.94-.94-2.06-.94 2.06-2.06.94zm-11 1L8.5 8.5l.94-2.06 2.06-.94-2.06-.94L8.5 2.5l-.94 2.06-2.06.94zm10 10l.94 2.06.94-2.06 2.06-.94-2.06-.94-.94-2.06-.94 2.06-2.06.94z\"/><path d=\"M17.41 7.96l-1.37-1.37c-.4-.4-.92-.59-1.43-.59-.52 0-1.04.2-1.43.59L10.3 9.45l-7.72 7.72c-.78.78-.78 2.05 0 2.83L4 21.41c.39.39.9.59 1.41.59.51 0 1.02-.2 1.41-.59l7.78-7.78 2.81-2.81c.8-.78.8-2.07 0-2.86zM5.41 20L4 18.59l7.72-7.72 1.47 1.35L5.41 20z\"/>\n",
              "  </svg>\n",
              "      </button>\n",
              "      \n",
              "  <style>\n",
              "    .colab-df-container {\n",
              "      display:flex;\n",
              "      flex-wrap:wrap;\n",
              "      gap: 12px;\n",
              "    }\n",
              "\n",
              "    .colab-df-convert {\n",
              "      background-color: #E8F0FE;\n",
              "      border: none;\n",
              "      border-radius: 50%;\n",
              "      cursor: pointer;\n",
              "      display: none;\n",
              "      fill: #1967D2;\n",
              "      height: 32px;\n",
              "      padding: 0 0 0 0;\n",
              "      width: 32px;\n",
              "    }\n",
              "\n",
              "    .colab-df-convert:hover {\n",
              "      background-color: #E2EBFA;\n",
              "      box-shadow: 0px 1px 2px rgba(60, 64, 67, 0.3), 0px 1px 3px 1px rgba(60, 64, 67, 0.15);\n",
              "      fill: #174EA6;\n",
              "    }\n",
              "\n",
              "    [theme=dark] .colab-df-convert {\n",
              "      background-color: #3B4455;\n",
              "      fill: #D2E3FC;\n",
              "    }\n",
              "\n",
              "    [theme=dark] .colab-df-convert:hover {\n",
              "      background-color: #434B5C;\n",
              "      box-shadow: 0px 1px 3px 1px rgba(0, 0, 0, 0.15);\n",
              "      filter: drop-shadow(0px 1px 2px rgba(0, 0, 0, 0.3));\n",
              "      fill: #FFFFFF;\n",
              "    }\n",
              "  </style>\n",
              "\n",
              "      <script>\n",
              "        const buttonEl =\n",
              "          document.querySelector('#df-f894fa2e-11b5-4921-9ba7-4d4c25f2bb9f button.colab-df-convert');\n",
              "        buttonEl.style.display =\n",
              "          google.colab.kernel.accessAllowed ? 'block' : 'none';\n",
              "\n",
              "        async function convertToInteractive(key) {\n",
              "          const element = document.querySelector('#df-f894fa2e-11b5-4921-9ba7-4d4c25f2bb9f');\n",
              "          const dataTable =\n",
              "            await google.colab.kernel.invokeFunction('convertToInteractive',\n",
              "                                                     [key], {});\n",
              "          if (!dataTable) return;\n",
              "\n",
              "          const docLinkHtml = 'Like what you see? Visit the ' +\n",
              "            '<a target=\"_blank\" href=https://colab.research.google.com/notebooks/data_table.ipynb>data table notebook</a>'\n",
              "            + ' to learn more about interactive tables.';\n",
              "          element.innerHTML = '';\n",
              "          dataTable['output_type'] = 'display_data';\n",
              "          await google.colab.output.renderOutput(dataTable, element);\n",
              "          const docLink = document.createElement('div');\n",
              "          docLink.innerHTML = docLinkHtml;\n",
              "          element.appendChild(docLink);\n",
              "        }\n",
              "      </script>\n",
              "    </div>\n",
              "  </div>\n",
              "  "
            ]
          },
          "metadata": {},
          "execution_count": 88
        }
      ]
    },
    {
      "cell_type": "markdown",
      "source": [
        "#### parentheses"
      ],
      "metadata": {
        "id": "GZLXABL2Beol"
      }
    },
    {
      "cell_type": "code",
      "source": [
        "def regex_bool(regexp, text):\n",
        "  return bool(re.search(regexp, text))\n",
        "\n",
        "def make_re(text):\n",
        "  return '[' + '\\\\'.join(list(text)) + ']'\n",
        "\n",
        "PARENTHESES = list('()[]{}<>')\n",
        "PARENTHESES_RE = make_re(PARENTHESES)\n",
        "\n",
        "indices_where_parentheses = np.where(data['correction'].apply(lambda x: regex_bool(PARENTHESES_RE, x)))[0]\n",
        "data.iloc[indices_where_parentheses]"
      ],
      "metadata": {
        "colab": {
          "base_uri": "https://localhost:8080/",
          "height": 0
        },
        "id": "ajJvPRqV0NSX",
        "outputId": "a6ced1ab-eb34-4e5b-df91-70c7bfe46a5e"
      },
      "execution_count": 89,
      "outputs": [
        {
          "output_type": "execute_result",
          "data": {
            "text/plain": [
              "                text_name              error_type               error_span  \\\n",
              "361     2014_ADe_11_2.txt  Choice of lexical item                   enable   \n",
              "1002    2014_ASt_38_1.txt  Choice of lexical item                   amount   \n",
              "3898   2014_MTsy_21_2.txt             Word choice                for money   \n",
              "4837    2014_ZEv_11_1.txt             Word choice                   second   \n",
              "6718    2016_MTsy_7_1.txt  Choice of lexical item   such as boys and girls   \n",
              "10516   2017_EGe_98_1.txt  Choice of lexical item  many billion of dollars   \n",
              "\n",
              "                            correction  \\\n",
              "361       let (OR make) their children   \n",
              "1002     number (words often confused)   \n",
              "3898    for (the sake of) making money   \n",
              "4837                           next(?)   \n",
              "6718           (boys as well as girls)   \n",
              "10516  much money (in billion dollars)   \n",
              "\n",
              "                                                                                                                error_sentence  \\\n",
              "361                       It is a parents business to decide when they should enable their children to learn foreign language.   \n",
              "1002   On contrary, the most significant amount of passengers is registered in Paris and Tokyo with 1191 and 1927 million o...   \n",
              "3898   sportsmen motivate a lot of people to go to gym or sections to be healthier and stronger, to be the best, and not do...   \n",
              "4837     The second two popular countries are Spain and USA which met 9 and 4 million. of tourists from England respectively.    \n",
              "6718   It is immediately clear from the graph, that all numbers of children such as boys and girls, declined from 2000 to 2...   \n",
              "10516  This bar chat presents the data on how many billion of dollars were spent on print and eBook market in the USA, Germ...   \n",
              "\n",
              "       sentence_id  same_span_several_errors  \n",
              "361           5809                         1  \n",
              "1002          7543                         1  \n",
              "3898         13404                         1  \n",
              "4837         11107                         1  \n",
              "6718          5976                         1  \n",
              "10516        11952                         1  "
            ],
            "text/html": [
              "\n",
              "  <div id=\"df-6d3b5387-b99b-4dbf-a20a-02627a4b568f\">\n",
              "    <div class=\"colab-df-container\">\n",
              "      <div>\n",
              "<style scoped>\n",
              "    .dataframe tbody tr th:only-of-type {\n",
              "        vertical-align: middle;\n",
              "    }\n",
              "\n",
              "    .dataframe tbody tr th {\n",
              "        vertical-align: top;\n",
              "    }\n",
              "\n",
              "    .dataframe thead th {\n",
              "        text-align: right;\n",
              "    }\n",
              "</style>\n",
              "<table border=\"1\" class=\"dataframe\">\n",
              "  <thead>\n",
              "    <tr style=\"text-align: right;\">\n",
              "      <th></th>\n",
              "      <th>text_name</th>\n",
              "      <th>error_type</th>\n",
              "      <th>error_span</th>\n",
              "      <th>correction</th>\n",
              "      <th>error_sentence</th>\n",
              "      <th>sentence_id</th>\n",
              "      <th>same_span_several_errors</th>\n",
              "    </tr>\n",
              "  </thead>\n",
              "  <tbody>\n",
              "    <tr>\n",
              "      <th>361</th>\n",
              "      <td>2014_ADe_11_2.txt</td>\n",
              "      <td>Choice of lexical item</td>\n",
              "      <td>enable</td>\n",
              "      <td>let (OR make) their children</td>\n",
              "      <td>It is a parents business to decide when they should enable their children to learn foreign language.</td>\n",
              "      <td>5809</td>\n",
              "      <td>1</td>\n",
              "    </tr>\n",
              "    <tr>\n",
              "      <th>1002</th>\n",
              "      <td>2014_ASt_38_1.txt</td>\n",
              "      <td>Choice of lexical item</td>\n",
              "      <td>amount</td>\n",
              "      <td>number (words often confused)</td>\n",
              "      <td>On contrary, the most significant amount of passengers is registered in Paris and Tokyo with 1191 and 1927 million o...</td>\n",
              "      <td>7543</td>\n",
              "      <td>1</td>\n",
              "    </tr>\n",
              "    <tr>\n",
              "      <th>3898</th>\n",
              "      <td>2014_MTsy_21_2.txt</td>\n",
              "      <td>Word choice</td>\n",
              "      <td>for money</td>\n",
              "      <td>for (the sake of) making money</td>\n",
              "      <td>sportsmen motivate a lot of people to go to gym or sections to be healthier and stronger, to be the best, and not do...</td>\n",
              "      <td>13404</td>\n",
              "      <td>1</td>\n",
              "    </tr>\n",
              "    <tr>\n",
              "      <th>4837</th>\n",
              "      <td>2014_ZEv_11_1.txt</td>\n",
              "      <td>Word choice</td>\n",
              "      <td>second</td>\n",
              "      <td>next(?)</td>\n",
              "      <td>The second two popular countries are Spain and USA which met 9 and 4 million. of tourists from England respectively.</td>\n",
              "      <td>11107</td>\n",
              "      <td>1</td>\n",
              "    </tr>\n",
              "    <tr>\n",
              "      <th>6718</th>\n",
              "      <td>2016_MTsy_7_1.txt</td>\n",
              "      <td>Choice of lexical item</td>\n",
              "      <td>such as boys and girls</td>\n",
              "      <td>(boys as well as girls)</td>\n",
              "      <td>It is immediately clear from the graph, that all numbers of children such as boys and girls, declined from 2000 to 2...</td>\n",
              "      <td>5976</td>\n",
              "      <td>1</td>\n",
              "    </tr>\n",
              "    <tr>\n",
              "      <th>10516</th>\n",
              "      <td>2017_EGe_98_1.txt</td>\n",
              "      <td>Choice of lexical item</td>\n",
              "      <td>many billion of dollars</td>\n",
              "      <td>much money (in billion dollars)</td>\n",
              "      <td>This bar chat presents the data on how many billion of dollars were spent on print and eBook market in the USA, Germ...</td>\n",
              "      <td>11952</td>\n",
              "      <td>1</td>\n",
              "    </tr>\n",
              "  </tbody>\n",
              "</table>\n",
              "</div>\n",
              "      <button class=\"colab-df-convert\" onclick=\"convertToInteractive('df-6d3b5387-b99b-4dbf-a20a-02627a4b568f')\"\n",
              "              title=\"Convert this dataframe to an interactive table.\"\n",
              "              style=\"display:none;\">\n",
              "        \n",
              "  <svg xmlns=\"http://www.w3.org/2000/svg\" height=\"24px\"viewBox=\"0 0 24 24\"\n",
              "       width=\"24px\">\n",
              "    <path d=\"M0 0h24v24H0V0z\" fill=\"none\"/>\n",
              "    <path d=\"M18.56 5.44l.94 2.06.94-2.06 2.06-.94-2.06-.94-.94-2.06-.94 2.06-2.06.94zm-11 1L8.5 8.5l.94-2.06 2.06-.94-2.06-.94L8.5 2.5l-.94 2.06-2.06.94zm10 10l.94 2.06.94-2.06 2.06-.94-2.06-.94-.94-2.06-.94 2.06-2.06.94z\"/><path d=\"M17.41 7.96l-1.37-1.37c-.4-.4-.92-.59-1.43-.59-.52 0-1.04.2-1.43.59L10.3 9.45l-7.72 7.72c-.78.78-.78 2.05 0 2.83L4 21.41c.39.39.9.59 1.41.59.51 0 1.02-.2 1.41-.59l7.78-7.78 2.81-2.81c.8-.78.8-2.07 0-2.86zM5.41 20L4 18.59l7.72-7.72 1.47 1.35L5.41 20z\"/>\n",
              "  </svg>\n",
              "      </button>\n",
              "      \n",
              "  <style>\n",
              "    .colab-df-container {\n",
              "      display:flex;\n",
              "      flex-wrap:wrap;\n",
              "      gap: 12px;\n",
              "    }\n",
              "\n",
              "    .colab-df-convert {\n",
              "      background-color: #E8F0FE;\n",
              "      border: none;\n",
              "      border-radius: 50%;\n",
              "      cursor: pointer;\n",
              "      display: none;\n",
              "      fill: #1967D2;\n",
              "      height: 32px;\n",
              "      padding: 0 0 0 0;\n",
              "      width: 32px;\n",
              "    }\n",
              "\n",
              "    .colab-df-convert:hover {\n",
              "      background-color: #E2EBFA;\n",
              "      box-shadow: 0px 1px 2px rgba(60, 64, 67, 0.3), 0px 1px 3px 1px rgba(60, 64, 67, 0.15);\n",
              "      fill: #174EA6;\n",
              "    }\n",
              "\n",
              "    [theme=dark] .colab-df-convert {\n",
              "      background-color: #3B4455;\n",
              "      fill: #D2E3FC;\n",
              "    }\n",
              "\n",
              "    [theme=dark] .colab-df-convert:hover {\n",
              "      background-color: #434B5C;\n",
              "      box-shadow: 0px 1px 3px 1px rgba(0, 0, 0, 0.15);\n",
              "      filter: drop-shadow(0px 1px 2px rgba(0, 0, 0, 0.3));\n",
              "      fill: #FFFFFF;\n",
              "    }\n",
              "  </style>\n",
              "\n",
              "      <script>\n",
              "        const buttonEl =\n",
              "          document.querySelector('#df-6d3b5387-b99b-4dbf-a20a-02627a4b568f button.colab-df-convert');\n",
              "        buttonEl.style.display =\n",
              "          google.colab.kernel.accessAllowed ? 'block' : 'none';\n",
              "\n",
              "        async function convertToInteractive(key) {\n",
              "          const element = document.querySelector('#df-6d3b5387-b99b-4dbf-a20a-02627a4b568f');\n",
              "          const dataTable =\n",
              "            await google.colab.kernel.invokeFunction('convertToInteractive',\n",
              "                                                     [key], {});\n",
              "          if (!dataTable) return;\n",
              "\n",
              "          const docLinkHtml = 'Like what you see? Visit the ' +\n",
              "            '<a target=\"_blank\" href=https://colab.research.google.com/notebooks/data_table.ipynb>data table notebook</a>'\n",
              "            + ' to learn more about interactive tables.';\n",
              "          element.innerHTML = '';\n",
              "          dataTable['output_type'] = 'display_data';\n",
              "          await google.colab.output.renderOutput(dataTable, element);\n",
              "          const docLink = document.createElement('div');\n",
              "          docLink.innerHTML = docLinkHtml;\n",
              "          element.appendChild(docLink);\n",
              "        }\n",
              "      </script>\n",
              "    </div>\n",
              "  </div>\n",
              "  "
            ]
          },
          "metadata": {},
          "execution_count": 89
        }
      ]
    },
    {
      "cell_type": "code",
      "source": [
        "def delete_parentheses_in_correction(text):\n",
        "  return re.sub(' ?\\(.*\\)', '', text)\n",
        "\n",
        "def replace_parentheses(text):\n",
        "  return re.sub(' ?[\\(\\)] ?', ', ', text)\n",
        "\n",
        "data['correction'] = data['correction'].apply(lambda x: delete_parentheses_in_correction(x))\n",
        "\n",
        "data['error_span'] = data['error_span'].apply(lambda x: replace_parentheses(x))"
      ],
      "metadata": {
        "id": "s2FgNTiokM59"
      },
      "execution_count": 90,
      "outputs": []
    },
    {
      "cell_type": "markdown",
      "source": [
        "#### symbols"
      ],
      "metadata": {
        "id": "aWv_A49pBjc8"
      }
    },
    {
      "cell_type": "code",
      "source": [
        "SYMBOLS = ('$^*^~?')\n",
        "SYMBOLS_RE = make_re(SYMBOLS)\n",
        "\n",
        "indices_where_symbols = np.where(data['correction'].apply(lambda x: regex_bool(SYMBOLS_RE, x)))[0]\n",
        "data.iloc[indices_where_symbols].sample(6)"
      ],
      "metadata": {
        "colab": {
          "base_uri": "https://localhost:8080/",
          "height": 0
        },
        "id": "J4c2cKgfAD-t",
        "outputId": "6ba6afac-c098-47c0-8b59-aae073a7d569"
      },
      "execution_count": 91,
      "outputs": [
        {
          "output_type": "execute_result",
          "data": {
            "text/plain": [
              "                text_name              error_type  error_span  \\\n",
              "996     2014_ASt_35_2.txt             Word choice     picture   \n",
              "3849   2014_MTsy_17_2.txt             Word choice        many   \n",
              "5640    2016_EKu_26_2.txt             Word choice      driven   \n",
              "3959   2014_MTsy_32_1.txt             Word choice    very few   \n",
              "16349  2019_EEr_147_2.txt  Choice of lexical item        raws   \n",
              "5940   2016_JSl_153_1.txt  Choice of lexical item  investment   \n",
              "\n",
              "               correction  \\\n",
              "996                     ?   \n",
              "3849   many/most of them?   \n",
              "5640                    ?   \n",
              "3959              scarce?   \n",
              "16349                 ???   \n",
              "5940                 bn $   \n",
              "\n",
              "                                                                                                                error_sentence  \\\n",
              "996               Summing up, I am absolutely do not agree that our picture mostly depends on our characteristics from birth.    \n",
              "3849   The truth is that a lot of people are too busy or lazy to visit gyms and do sports, so many would prefer to stop smo...   \n",
              "5640   This correlation is driven by our understanding of justice and, therefore, depends on local laws and cultural differ...   \n",
              "3959                                                                         People who are older than 60 years are very few.    \n",
              "16349                    To start with, the rows of typical buildings may influence negatively the emotional state of people.    \n",
              "5940                        The lowest level of investment in developing countries was in 2006 year just round 25 investment.    \n",
              "\n",
              "       sentence_id  same_span_several_errors  \n",
              "996           9436                         1  \n",
              "3849         11241                         1  \n",
              "5640         11979                         1  \n",
              "3959          8395                         1  \n",
              "16349        12497                         1  \n",
              "5940         10448                         1  "
            ],
            "text/html": [
              "\n",
              "  <div id=\"df-3cff044d-a913-470d-b4b0-2132da5fa223\">\n",
              "    <div class=\"colab-df-container\">\n",
              "      <div>\n",
              "<style scoped>\n",
              "    .dataframe tbody tr th:only-of-type {\n",
              "        vertical-align: middle;\n",
              "    }\n",
              "\n",
              "    .dataframe tbody tr th {\n",
              "        vertical-align: top;\n",
              "    }\n",
              "\n",
              "    .dataframe thead th {\n",
              "        text-align: right;\n",
              "    }\n",
              "</style>\n",
              "<table border=\"1\" class=\"dataframe\">\n",
              "  <thead>\n",
              "    <tr style=\"text-align: right;\">\n",
              "      <th></th>\n",
              "      <th>text_name</th>\n",
              "      <th>error_type</th>\n",
              "      <th>error_span</th>\n",
              "      <th>correction</th>\n",
              "      <th>error_sentence</th>\n",
              "      <th>sentence_id</th>\n",
              "      <th>same_span_several_errors</th>\n",
              "    </tr>\n",
              "  </thead>\n",
              "  <tbody>\n",
              "    <tr>\n",
              "      <th>996</th>\n",
              "      <td>2014_ASt_35_2.txt</td>\n",
              "      <td>Word choice</td>\n",
              "      <td>picture</td>\n",
              "      <td>?</td>\n",
              "      <td>Summing up, I am absolutely do not agree that our picture mostly depends on our characteristics from birth.</td>\n",
              "      <td>9436</td>\n",
              "      <td>1</td>\n",
              "    </tr>\n",
              "    <tr>\n",
              "      <th>3849</th>\n",
              "      <td>2014_MTsy_17_2.txt</td>\n",
              "      <td>Word choice</td>\n",
              "      <td>many</td>\n",
              "      <td>many/most of them?</td>\n",
              "      <td>The truth is that a lot of people are too busy or lazy to visit gyms and do sports, so many would prefer to stop smo...</td>\n",
              "      <td>11241</td>\n",
              "      <td>1</td>\n",
              "    </tr>\n",
              "    <tr>\n",
              "      <th>5640</th>\n",
              "      <td>2016_EKu_26_2.txt</td>\n",
              "      <td>Word choice</td>\n",
              "      <td>driven</td>\n",
              "      <td>?</td>\n",
              "      <td>This correlation is driven by our understanding of justice and, therefore, depends on local laws and cultural differ...</td>\n",
              "      <td>11979</td>\n",
              "      <td>1</td>\n",
              "    </tr>\n",
              "    <tr>\n",
              "      <th>3959</th>\n",
              "      <td>2014_MTsy_32_1.txt</td>\n",
              "      <td>Word choice</td>\n",
              "      <td>very few</td>\n",
              "      <td>scarce?</td>\n",
              "      <td>People who are older than 60 years are very few.</td>\n",
              "      <td>8395</td>\n",
              "      <td>1</td>\n",
              "    </tr>\n",
              "    <tr>\n",
              "      <th>16349</th>\n",
              "      <td>2019_EEr_147_2.txt</td>\n",
              "      <td>Choice of lexical item</td>\n",
              "      <td>raws</td>\n",
              "      <td>???</td>\n",
              "      <td>To start with, the rows of typical buildings may influence negatively the emotional state of people.</td>\n",
              "      <td>12497</td>\n",
              "      <td>1</td>\n",
              "    </tr>\n",
              "    <tr>\n",
              "      <th>5940</th>\n",
              "      <td>2016_JSl_153_1.txt</td>\n",
              "      <td>Choice of lexical item</td>\n",
              "      <td>investment</td>\n",
              "      <td>bn $</td>\n",
              "      <td>The lowest level of investment in developing countries was in 2006 year just round 25 investment.</td>\n",
              "      <td>10448</td>\n",
              "      <td>1</td>\n",
              "    </tr>\n",
              "  </tbody>\n",
              "</table>\n",
              "</div>\n",
              "      <button class=\"colab-df-convert\" onclick=\"convertToInteractive('df-3cff044d-a913-470d-b4b0-2132da5fa223')\"\n",
              "              title=\"Convert this dataframe to an interactive table.\"\n",
              "              style=\"display:none;\">\n",
              "        \n",
              "  <svg xmlns=\"http://www.w3.org/2000/svg\" height=\"24px\"viewBox=\"0 0 24 24\"\n",
              "       width=\"24px\">\n",
              "    <path d=\"M0 0h24v24H0V0z\" fill=\"none\"/>\n",
              "    <path d=\"M18.56 5.44l.94 2.06.94-2.06 2.06-.94-2.06-.94-.94-2.06-.94 2.06-2.06.94zm-11 1L8.5 8.5l.94-2.06 2.06-.94-2.06-.94L8.5 2.5l-.94 2.06-2.06.94zm10 10l.94 2.06.94-2.06 2.06-.94-2.06-.94-.94-2.06-.94 2.06-2.06.94z\"/><path d=\"M17.41 7.96l-1.37-1.37c-.4-.4-.92-.59-1.43-.59-.52 0-1.04.2-1.43.59L10.3 9.45l-7.72 7.72c-.78.78-.78 2.05 0 2.83L4 21.41c.39.39.9.59 1.41.59.51 0 1.02-.2 1.41-.59l7.78-7.78 2.81-2.81c.8-.78.8-2.07 0-2.86zM5.41 20L4 18.59l7.72-7.72 1.47 1.35L5.41 20z\"/>\n",
              "  </svg>\n",
              "      </button>\n",
              "      \n",
              "  <style>\n",
              "    .colab-df-container {\n",
              "      display:flex;\n",
              "      flex-wrap:wrap;\n",
              "      gap: 12px;\n",
              "    }\n",
              "\n",
              "    .colab-df-convert {\n",
              "      background-color: #E8F0FE;\n",
              "      border: none;\n",
              "      border-radius: 50%;\n",
              "      cursor: pointer;\n",
              "      display: none;\n",
              "      fill: #1967D2;\n",
              "      height: 32px;\n",
              "      padding: 0 0 0 0;\n",
              "      width: 32px;\n",
              "    }\n",
              "\n",
              "    .colab-df-convert:hover {\n",
              "      background-color: #E2EBFA;\n",
              "      box-shadow: 0px 1px 2px rgba(60, 64, 67, 0.3), 0px 1px 3px 1px rgba(60, 64, 67, 0.15);\n",
              "      fill: #174EA6;\n",
              "    }\n",
              "\n",
              "    [theme=dark] .colab-df-convert {\n",
              "      background-color: #3B4455;\n",
              "      fill: #D2E3FC;\n",
              "    }\n",
              "\n",
              "    [theme=dark] .colab-df-convert:hover {\n",
              "      background-color: #434B5C;\n",
              "      box-shadow: 0px 1px 3px 1px rgba(0, 0, 0, 0.15);\n",
              "      filter: drop-shadow(0px 1px 2px rgba(0, 0, 0, 0.3));\n",
              "      fill: #FFFFFF;\n",
              "    }\n",
              "  </style>\n",
              "\n",
              "      <script>\n",
              "        const buttonEl =\n",
              "          document.querySelector('#df-3cff044d-a913-470d-b4b0-2132da5fa223 button.colab-df-convert');\n",
              "        buttonEl.style.display =\n",
              "          google.colab.kernel.accessAllowed ? 'block' : 'none';\n",
              "\n",
              "        async function convertToInteractive(key) {\n",
              "          const element = document.querySelector('#df-3cff044d-a913-470d-b4b0-2132da5fa223');\n",
              "          const dataTable =\n",
              "            await google.colab.kernel.invokeFunction('convertToInteractive',\n",
              "                                                     [key], {});\n",
              "          if (!dataTable) return;\n",
              "\n",
              "          const docLinkHtml = 'Like what you see? Visit the ' +\n",
              "            '<a target=\"_blank\" href=https://colab.research.google.com/notebooks/data_table.ipynb>data table notebook</a>'\n",
              "            + ' to learn more about interactive tables.';\n",
              "          element.innerHTML = '';\n",
              "          dataTable['output_type'] = 'display_data';\n",
              "          await google.colab.output.renderOutput(dataTable, element);\n",
              "          const docLink = document.createElement('div');\n",
              "          docLink.innerHTML = docLinkHtml;\n",
              "          element.appendChild(docLink);\n",
              "        }\n",
              "      </script>\n",
              "    </div>\n",
              "  </div>\n",
              "  "
            ]
          },
          "metadata": {},
          "execution_count": 91
        }
      ]
    },
    {
      "cell_type": "code",
      "source": [
        "data = data.drop(index = indices_where_symbols).reset_index(drop=True)"
      ],
      "metadata": {
        "id": "AZuWQiMdBV1S"
      },
      "execution_count": 92,
      "outputs": []
    },
    {
      "cell_type": "markdown",
      "source": [
        "#### options"
      ],
      "metadata": {
        "id": "amFE3k1iBmyU"
      }
    },
    {
      "cell_type": "code",
      "source": [
        "SLASH_RE = '[/\\\\\\]'\n",
        "\n",
        "indices_where_slash = np.where(data['correction'].apply(lambda x: regex_bool(SLASH_RE, x)))[0]\n",
        "data.iloc[indices_where_slash].sample(6)"
      ],
      "metadata": {
        "colab": {
          "base_uri": "https://localhost:8080/",
          "height": 0
        },
        "id": "8LKu2gAmcOg0",
        "outputId": "0ee90e0b-3e3f-4ee6-df2b-53b1c3636b7c"
      },
      "execution_count": 93,
      "outputs": [
        {
          "output_type": "execute_result",
          "data": {
            "text/plain": [
              "               text_name              error_type        error_span  \\\n",
              "7702   2016_ZEv_29_2.txt  Choice of lexical item            spread   \n",
              "1054   2014_ASt_42_2.txt             Word choice  work with brains   \n",
              "377    2014_ADe_13_2.txt  Choice of lexical item          prepared   \n",
              "2590    2014_EPa_8_2.txt  Choice of lexical item       undoubtless   \n",
              "3959  2014_MTsy_33_2.txt             Word choice            having   \n",
              "886    2014_ASt_20_2.txt  Choice of lexical item         qualities   \n",
              "\n",
              "                                   correction  \\\n",
              "7702                widespread/popular/common   \n",
              "1054  to make an intellectual work/ brainwork   \n",
              "377                      thought of / studied   \n",
              "2590                   undoubted // doubtless   \n",
              "3959                          doing/taking up   \n",
              "886                     personality/ features   \n",
              "\n",
              "                                                                                                               error_sentence  \\\n",
              "7702               Thus, there is a spread point of view that the number of flights should be controlled by the authorities.    \n",
              "1054  In comparison of first opinion, the second was more power, because a person, who wont work with brains, who will hav...   \n",
              "377                                        One of the most important things that should be prepared is the foreign language.    \n",
              "2590            It is undoubtedly that increasing the number of sports facilities is excellent way to improve public health.    \n",
              "3959  This tendency will have a good effect on public health if people really understand the pluses of having a sport acti...   \n",
              "886   It is believed that our qualities that we have from the moment when we are born play the most significant role in ou...   \n",
              "\n",
              "      sentence_id  same_span_several_errors  \n",
              "7702        12227                         1  \n",
              "1054         4799                         1  \n",
              "377          7906                         1  \n",
              "2590         6149                         1  \n",
              "3959        12161                         1  \n",
              "886          5853                         1  "
            ],
            "text/html": [
              "\n",
              "  <div id=\"df-237c9ad1-1553-47a3-998a-d65ba9a47039\">\n",
              "    <div class=\"colab-df-container\">\n",
              "      <div>\n",
              "<style scoped>\n",
              "    .dataframe tbody tr th:only-of-type {\n",
              "        vertical-align: middle;\n",
              "    }\n",
              "\n",
              "    .dataframe tbody tr th {\n",
              "        vertical-align: top;\n",
              "    }\n",
              "\n",
              "    .dataframe thead th {\n",
              "        text-align: right;\n",
              "    }\n",
              "</style>\n",
              "<table border=\"1\" class=\"dataframe\">\n",
              "  <thead>\n",
              "    <tr style=\"text-align: right;\">\n",
              "      <th></th>\n",
              "      <th>text_name</th>\n",
              "      <th>error_type</th>\n",
              "      <th>error_span</th>\n",
              "      <th>correction</th>\n",
              "      <th>error_sentence</th>\n",
              "      <th>sentence_id</th>\n",
              "      <th>same_span_several_errors</th>\n",
              "    </tr>\n",
              "  </thead>\n",
              "  <tbody>\n",
              "    <tr>\n",
              "      <th>7702</th>\n",
              "      <td>2016_ZEv_29_2.txt</td>\n",
              "      <td>Choice of lexical item</td>\n",
              "      <td>spread</td>\n",
              "      <td>widespread/popular/common</td>\n",
              "      <td>Thus, there is a spread point of view that the number of flights should be controlled by the authorities.</td>\n",
              "      <td>12227</td>\n",
              "      <td>1</td>\n",
              "    </tr>\n",
              "    <tr>\n",
              "      <th>1054</th>\n",
              "      <td>2014_ASt_42_2.txt</td>\n",
              "      <td>Word choice</td>\n",
              "      <td>work with brains</td>\n",
              "      <td>to make an intellectual work/ brainwork</td>\n",
              "      <td>In comparison of first opinion, the second was more power, because a person, who wont work with brains, who will hav...</td>\n",
              "      <td>4799</td>\n",
              "      <td>1</td>\n",
              "    </tr>\n",
              "    <tr>\n",
              "      <th>377</th>\n",
              "      <td>2014_ADe_13_2.txt</td>\n",
              "      <td>Choice of lexical item</td>\n",
              "      <td>prepared</td>\n",
              "      <td>thought of / studied</td>\n",
              "      <td>One of the most important things that should be prepared is the foreign language.</td>\n",
              "      <td>7906</td>\n",
              "      <td>1</td>\n",
              "    </tr>\n",
              "    <tr>\n",
              "      <th>2590</th>\n",
              "      <td>2014_EPa_8_2.txt</td>\n",
              "      <td>Choice of lexical item</td>\n",
              "      <td>undoubtless</td>\n",
              "      <td>undoubted // doubtless</td>\n",
              "      <td>It is undoubtedly that increasing the number of sports facilities is excellent way to improve public health.</td>\n",
              "      <td>6149</td>\n",
              "      <td>1</td>\n",
              "    </tr>\n",
              "    <tr>\n",
              "      <th>3959</th>\n",
              "      <td>2014_MTsy_33_2.txt</td>\n",
              "      <td>Word choice</td>\n",
              "      <td>having</td>\n",
              "      <td>doing/taking up</td>\n",
              "      <td>This tendency will have a good effect on public health if people really understand the pluses of having a sport acti...</td>\n",
              "      <td>12161</td>\n",
              "      <td>1</td>\n",
              "    </tr>\n",
              "    <tr>\n",
              "      <th>886</th>\n",
              "      <td>2014_ASt_20_2.txt</td>\n",
              "      <td>Choice of lexical item</td>\n",
              "      <td>qualities</td>\n",
              "      <td>personality/ features</td>\n",
              "      <td>It is believed that our qualities that we have from the moment when we are born play the most significant role in ou...</td>\n",
              "      <td>5853</td>\n",
              "      <td>1</td>\n",
              "    </tr>\n",
              "  </tbody>\n",
              "</table>\n",
              "</div>\n",
              "      <button class=\"colab-df-convert\" onclick=\"convertToInteractive('df-237c9ad1-1553-47a3-998a-d65ba9a47039')\"\n",
              "              title=\"Convert this dataframe to an interactive table.\"\n",
              "              style=\"display:none;\">\n",
              "        \n",
              "  <svg xmlns=\"http://www.w3.org/2000/svg\" height=\"24px\"viewBox=\"0 0 24 24\"\n",
              "       width=\"24px\">\n",
              "    <path d=\"M0 0h24v24H0V0z\" fill=\"none\"/>\n",
              "    <path d=\"M18.56 5.44l.94 2.06.94-2.06 2.06-.94-2.06-.94-.94-2.06-.94 2.06-2.06.94zm-11 1L8.5 8.5l.94-2.06 2.06-.94-2.06-.94L8.5 2.5l-.94 2.06-2.06.94zm10 10l.94 2.06.94-2.06 2.06-.94-2.06-.94-.94-2.06-.94 2.06-2.06.94z\"/><path d=\"M17.41 7.96l-1.37-1.37c-.4-.4-.92-.59-1.43-.59-.52 0-1.04.2-1.43.59L10.3 9.45l-7.72 7.72c-.78.78-.78 2.05 0 2.83L4 21.41c.39.39.9.59 1.41.59.51 0 1.02-.2 1.41-.59l7.78-7.78 2.81-2.81c.8-.78.8-2.07 0-2.86zM5.41 20L4 18.59l7.72-7.72 1.47 1.35L5.41 20z\"/>\n",
              "  </svg>\n",
              "      </button>\n",
              "      \n",
              "  <style>\n",
              "    .colab-df-container {\n",
              "      display:flex;\n",
              "      flex-wrap:wrap;\n",
              "      gap: 12px;\n",
              "    }\n",
              "\n",
              "    .colab-df-convert {\n",
              "      background-color: #E8F0FE;\n",
              "      border: none;\n",
              "      border-radius: 50%;\n",
              "      cursor: pointer;\n",
              "      display: none;\n",
              "      fill: #1967D2;\n",
              "      height: 32px;\n",
              "      padding: 0 0 0 0;\n",
              "      width: 32px;\n",
              "    }\n",
              "\n",
              "    .colab-df-convert:hover {\n",
              "      background-color: #E2EBFA;\n",
              "      box-shadow: 0px 1px 2px rgba(60, 64, 67, 0.3), 0px 1px 3px 1px rgba(60, 64, 67, 0.15);\n",
              "      fill: #174EA6;\n",
              "    }\n",
              "\n",
              "    [theme=dark] .colab-df-convert {\n",
              "      background-color: #3B4455;\n",
              "      fill: #D2E3FC;\n",
              "    }\n",
              "\n",
              "    [theme=dark] .colab-df-convert:hover {\n",
              "      background-color: #434B5C;\n",
              "      box-shadow: 0px 1px 3px 1px rgba(0, 0, 0, 0.15);\n",
              "      filter: drop-shadow(0px 1px 2px rgba(0, 0, 0, 0.3));\n",
              "      fill: #FFFFFF;\n",
              "    }\n",
              "  </style>\n",
              "\n",
              "      <script>\n",
              "        const buttonEl =\n",
              "          document.querySelector('#df-237c9ad1-1553-47a3-998a-d65ba9a47039 button.colab-df-convert');\n",
              "        buttonEl.style.display =\n",
              "          google.colab.kernel.accessAllowed ? 'block' : 'none';\n",
              "\n",
              "        async function convertToInteractive(key) {\n",
              "          const element = document.querySelector('#df-237c9ad1-1553-47a3-998a-d65ba9a47039');\n",
              "          const dataTable =\n",
              "            await google.colab.kernel.invokeFunction('convertToInteractive',\n",
              "                                                     [key], {});\n",
              "          if (!dataTable) return;\n",
              "\n",
              "          const docLinkHtml = 'Like what you see? Visit the ' +\n",
              "            '<a target=\"_blank\" href=https://colab.research.google.com/notebooks/data_table.ipynb>data table notebook</a>'\n",
              "            + ' to learn more about interactive tables.';\n",
              "          element.innerHTML = '';\n",
              "          dataTable['output_type'] = 'display_data';\n",
              "          await google.colab.output.renderOutput(dataTable, element);\n",
              "          const docLink = document.createElement('div');\n",
              "          docLink.innerHTML = docLinkHtml;\n",
              "          element.appendChild(docLink);\n",
              "        }\n",
              "      </script>\n",
              "    </div>\n",
              "  </div>\n",
              "  "
            ]
          },
          "metadata": {},
          "execution_count": 93
        }
      ]
    },
    {
      "cell_type": "code",
      "source": [
        "def choose_correction(text):\n",
        "  if  not ('\\\\' in text or '/' in text):\n",
        "    return(text)\n",
        "  else:\n",
        "    if '\\\\' in text:\n",
        "      options = text.split('\\\\')\n",
        "    elif '/' in text:\n",
        "      options = text.split('/')\n",
        "    options_lens = [len(o.split(' ')) for o in options]\n",
        "    if max(options_lens) == 2:\n",
        "      return options[options_lens.index(2)]\n",
        "    elif max(options_lens) > 2:\n",
        "      return ' '.join(options[0].split()+options[1].split()[1:])\n",
        "    elif len(set(options_lens)) == 1:\n",
        "      return options[0]\n",
        "    return ''\n",
        "\n",
        "data['correction'] = data['correction'].apply(lambda x: choose_correction(x))\n"
      ],
      "metadata": {
        "id": "DuJBZuyfeVmy"
      },
      "execution_count": 94,
      "outputs": []
    },
    {
      "cell_type": "markdown",
      "source": [
        "#### wrong span"
      ],
      "metadata": {
        "id": "6NBa7yG6Bqq2"
      }
    },
    {
      "cell_type": "code",
      "source": [
        "def span_not_in_sent(span, sent):\n",
        "  return span.lower() not in sent.lower()\n",
        "\n",
        "incorrect_span_indices = np.where(data[['error_span', 'error_sentence']].apply(lambda x: span_not_in_sent(*x), axis=1))[0]\n",
        "data.iloc[incorrect_span_indices]"
      ],
      "metadata": {
        "colab": {
          "base_uri": "https://localhost:8080/",
          "height": 0
        },
        "id": "zov7K84zsBbn",
        "outputId": "e044829e-a34c-406a-d784-ea28704aeb06"
      },
      "execution_count": 95,
      "outputs": [
        {
          "output_type": "execute_result",
          "data": {
            "text/plain": [
              "               text_name                                           error_type  \\\n",
              "11     2014_AAl_11_1.txt                               Choice of lexical item   \n",
              "30     2014_AAl_12_2.txt                               Choice of lexical item   \n",
              "39     2014_AAl_13_1.txt                               Choice of lexical item   \n",
              "46     2014_AAl_15_1.txt                               Choice of lexical item   \n",
              "65     2014_AAl_18_1.txt                               Choice of lexical item   \n",
              "...                  ...                                                  ...   \n",
              "16692  2019_EEr_34_1.txt  Change, addition, deletion of a part of collocation   \n",
              "16707  2019_EEr_77_2.txt                               Choice of lexical item   \n",
              "16710  2019_EEr_93_2.txt                               Choice of lexical item   \n",
              "16726  2019_EEr_99_2.txt                               Choice of lexical item   \n",
              "16727  2019_EEr_99_2.txt                               Choice of lexical item   \n",
              "\n",
              "                 error_span        correction  \\\n",
              "11                 diagramm         the graph   \n",
              "30                 destlict           deprive   \n",
              "39                     then              than   \n",
              "46           was continning  remained as such   \n",
              "65                   fastly           sharply   \n",
              "...                     ...               ...   \n",
              "16692  did sport excersises     did exercises   \n",
              "16707                adress           address   \n",
              "16710                posess              have   \n",
              "16726              beginnig            origin   \n",
              "16727          unneccessity       irrelevance   \n",
              "\n",
              "                                                                                                                error_sentence  \\\n",
              "11     It should be mentioned that diagram shows great increase of the population aged 65 and over in short period of time ...   \n",
              "30     For instance, if we deprive someone in their right for higher education it can cause the termination of woman develo...   \n",
              "39     However, the economic situation has not always been so brilliant, moreover, it was much worse there than in Europe a...   \n",
              "46     The graph also shows that the lowest proportion of population aged 65 and over in USA and Sweden was in 1940 while t...   \n",
              "65     After this point the population of elder people in Japan is surely rising up to ten percent in 2030 and fast increas...   \n",
              "...                                                                                                                        ...   \n",
              "16692                 And we also have a table, which shows how much kids did sport exercise exercise in years 1990 and 2005.    \n",
              "16707  Personally, I believe that both parents and school are equally important and prominent in nurturing children as they...   \n",
              "16710  As soon as they create an account in social networks, they start to posses a wealth of friends from all over the wor...   \n",
              "16726             Those two skills are standing very close to each other, which proves the art beginning of the architecture.    \n",
              "16727                              However, this problem does not prove the nonnecessity of the buildings to be good-looking.    \n",
              "\n",
              "       sentence_id  same_span_several_errors  \n",
              "11            6269                         1  \n",
              "30            3120                         1  \n",
              "39            3834                         1  \n",
              "46           10165                         1  \n",
              "65             300                         1  \n",
              "...            ...                       ...  \n",
              "16692          903                         1  \n",
              "16707         8457                         1  \n",
              "16710         1293                         1  \n",
              "16726        12182                         1  \n",
              "16727         3898                         1  \n",
              "\n",
              "[935 rows x 7 columns]"
            ],
            "text/html": [
              "\n",
              "  <div id=\"df-5c3c5bda-b18c-4298-b7fe-cd0355e3fc5f\">\n",
              "    <div class=\"colab-df-container\">\n",
              "      <div>\n",
              "<style scoped>\n",
              "    .dataframe tbody tr th:only-of-type {\n",
              "        vertical-align: middle;\n",
              "    }\n",
              "\n",
              "    .dataframe tbody tr th {\n",
              "        vertical-align: top;\n",
              "    }\n",
              "\n",
              "    .dataframe thead th {\n",
              "        text-align: right;\n",
              "    }\n",
              "</style>\n",
              "<table border=\"1\" class=\"dataframe\">\n",
              "  <thead>\n",
              "    <tr style=\"text-align: right;\">\n",
              "      <th></th>\n",
              "      <th>text_name</th>\n",
              "      <th>error_type</th>\n",
              "      <th>error_span</th>\n",
              "      <th>correction</th>\n",
              "      <th>error_sentence</th>\n",
              "      <th>sentence_id</th>\n",
              "      <th>same_span_several_errors</th>\n",
              "    </tr>\n",
              "  </thead>\n",
              "  <tbody>\n",
              "    <tr>\n",
              "      <th>11</th>\n",
              "      <td>2014_AAl_11_1.txt</td>\n",
              "      <td>Choice of lexical item</td>\n",
              "      <td>diagramm</td>\n",
              "      <td>the graph</td>\n",
              "      <td>It should be mentioned that diagram shows great increase of the population aged 65 and over in short period of time ...</td>\n",
              "      <td>6269</td>\n",
              "      <td>1</td>\n",
              "    </tr>\n",
              "    <tr>\n",
              "      <th>30</th>\n",
              "      <td>2014_AAl_12_2.txt</td>\n",
              "      <td>Choice of lexical item</td>\n",
              "      <td>destlict</td>\n",
              "      <td>deprive</td>\n",
              "      <td>For instance, if we deprive someone in their right for higher education it can cause the termination of woman develo...</td>\n",
              "      <td>3120</td>\n",
              "      <td>1</td>\n",
              "    </tr>\n",
              "    <tr>\n",
              "      <th>39</th>\n",
              "      <td>2014_AAl_13_1.txt</td>\n",
              "      <td>Choice of lexical item</td>\n",
              "      <td>then</td>\n",
              "      <td>than</td>\n",
              "      <td>However, the economic situation has not always been so brilliant, moreover, it was much worse there than in Europe a...</td>\n",
              "      <td>3834</td>\n",
              "      <td>1</td>\n",
              "    </tr>\n",
              "    <tr>\n",
              "      <th>46</th>\n",
              "      <td>2014_AAl_15_1.txt</td>\n",
              "      <td>Choice of lexical item</td>\n",
              "      <td>was continning</td>\n",
              "      <td>remained as such</td>\n",
              "      <td>The graph also shows that the lowest proportion of population aged 65 and over in USA and Sweden was in 1940 while t...</td>\n",
              "      <td>10165</td>\n",
              "      <td>1</td>\n",
              "    </tr>\n",
              "    <tr>\n",
              "      <th>65</th>\n",
              "      <td>2014_AAl_18_1.txt</td>\n",
              "      <td>Choice of lexical item</td>\n",
              "      <td>fastly</td>\n",
              "      <td>sharply</td>\n",
              "      <td>After this point the population of elder people in Japan is surely rising up to ten percent in 2030 and fast increas...</td>\n",
              "      <td>300</td>\n",
              "      <td>1</td>\n",
              "    </tr>\n",
              "    <tr>\n",
              "      <th>...</th>\n",
              "      <td>...</td>\n",
              "      <td>...</td>\n",
              "      <td>...</td>\n",
              "      <td>...</td>\n",
              "      <td>...</td>\n",
              "      <td>...</td>\n",
              "      <td>...</td>\n",
              "    </tr>\n",
              "    <tr>\n",
              "      <th>16692</th>\n",
              "      <td>2019_EEr_34_1.txt</td>\n",
              "      <td>Change, addition, deletion of a part of collocation</td>\n",
              "      <td>did sport excersises</td>\n",
              "      <td>did exercises</td>\n",
              "      <td>And we also have a table, which shows how much kids did sport exercise exercise in years 1990 and 2005.</td>\n",
              "      <td>903</td>\n",
              "      <td>1</td>\n",
              "    </tr>\n",
              "    <tr>\n",
              "      <th>16707</th>\n",
              "      <td>2019_EEr_77_2.txt</td>\n",
              "      <td>Choice of lexical item</td>\n",
              "      <td>adress</td>\n",
              "      <td>address</td>\n",
              "      <td>Personally, I believe that both parents and school are equally important and prominent in nurturing children as they...</td>\n",
              "      <td>8457</td>\n",
              "      <td>1</td>\n",
              "    </tr>\n",
              "    <tr>\n",
              "      <th>16710</th>\n",
              "      <td>2019_EEr_93_2.txt</td>\n",
              "      <td>Choice of lexical item</td>\n",
              "      <td>posess</td>\n",
              "      <td>have</td>\n",
              "      <td>As soon as they create an account in social networks, they start to posses a wealth of friends from all over the wor...</td>\n",
              "      <td>1293</td>\n",
              "      <td>1</td>\n",
              "    </tr>\n",
              "    <tr>\n",
              "      <th>16726</th>\n",
              "      <td>2019_EEr_99_2.txt</td>\n",
              "      <td>Choice of lexical item</td>\n",
              "      <td>beginnig</td>\n",
              "      <td>origin</td>\n",
              "      <td>Those two skills are standing very close to each other, which proves the art beginning of the architecture.</td>\n",
              "      <td>12182</td>\n",
              "      <td>1</td>\n",
              "    </tr>\n",
              "    <tr>\n",
              "      <th>16727</th>\n",
              "      <td>2019_EEr_99_2.txt</td>\n",
              "      <td>Choice of lexical item</td>\n",
              "      <td>unneccessity</td>\n",
              "      <td>irrelevance</td>\n",
              "      <td>However, this problem does not prove the nonnecessity of the buildings to be good-looking.</td>\n",
              "      <td>3898</td>\n",
              "      <td>1</td>\n",
              "    </tr>\n",
              "  </tbody>\n",
              "</table>\n",
              "<p>935 rows × 7 columns</p>\n",
              "</div>\n",
              "      <button class=\"colab-df-convert\" onclick=\"convertToInteractive('df-5c3c5bda-b18c-4298-b7fe-cd0355e3fc5f')\"\n",
              "              title=\"Convert this dataframe to an interactive table.\"\n",
              "              style=\"display:none;\">\n",
              "        \n",
              "  <svg xmlns=\"http://www.w3.org/2000/svg\" height=\"24px\"viewBox=\"0 0 24 24\"\n",
              "       width=\"24px\">\n",
              "    <path d=\"M0 0h24v24H0V0z\" fill=\"none\"/>\n",
              "    <path d=\"M18.56 5.44l.94 2.06.94-2.06 2.06-.94-2.06-.94-.94-2.06-.94 2.06-2.06.94zm-11 1L8.5 8.5l.94-2.06 2.06-.94-2.06-.94L8.5 2.5l-.94 2.06-2.06.94zm10 10l.94 2.06.94-2.06 2.06-.94-2.06-.94-.94-2.06-.94 2.06-2.06.94z\"/><path d=\"M17.41 7.96l-1.37-1.37c-.4-.4-.92-.59-1.43-.59-.52 0-1.04.2-1.43.59L10.3 9.45l-7.72 7.72c-.78.78-.78 2.05 0 2.83L4 21.41c.39.39.9.59 1.41.59.51 0 1.02-.2 1.41-.59l7.78-7.78 2.81-2.81c.8-.78.8-2.07 0-2.86zM5.41 20L4 18.59l7.72-7.72 1.47 1.35L5.41 20z\"/>\n",
              "  </svg>\n",
              "      </button>\n",
              "      \n",
              "  <style>\n",
              "    .colab-df-container {\n",
              "      display:flex;\n",
              "      flex-wrap:wrap;\n",
              "      gap: 12px;\n",
              "    }\n",
              "\n",
              "    .colab-df-convert {\n",
              "      background-color: #E8F0FE;\n",
              "      border: none;\n",
              "      border-radius: 50%;\n",
              "      cursor: pointer;\n",
              "      display: none;\n",
              "      fill: #1967D2;\n",
              "      height: 32px;\n",
              "      padding: 0 0 0 0;\n",
              "      width: 32px;\n",
              "    }\n",
              "\n",
              "    .colab-df-convert:hover {\n",
              "      background-color: #E2EBFA;\n",
              "      box-shadow: 0px 1px 2px rgba(60, 64, 67, 0.3), 0px 1px 3px 1px rgba(60, 64, 67, 0.15);\n",
              "      fill: #174EA6;\n",
              "    }\n",
              "\n",
              "    [theme=dark] .colab-df-convert {\n",
              "      background-color: #3B4455;\n",
              "      fill: #D2E3FC;\n",
              "    }\n",
              "\n",
              "    [theme=dark] .colab-df-convert:hover {\n",
              "      background-color: #434B5C;\n",
              "      box-shadow: 0px 1px 3px 1px rgba(0, 0, 0, 0.15);\n",
              "      filter: drop-shadow(0px 1px 2px rgba(0, 0, 0, 0.3));\n",
              "      fill: #FFFFFF;\n",
              "    }\n",
              "  </style>\n",
              "\n",
              "      <script>\n",
              "        const buttonEl =\n",
              "          document.querySelector('#df-5c3c5bda-b18c-4298-b7fe-cd0355e3fc5f button.colab-df-convert');\n",
              "        buttonEl.style.display =\n",
              "          google.colab.kernel.accessAllowed ? 'block' : 'none';\n",
              "\n",
              "        async function convertToInteractive(key) {\n",
              "          const element = document.querySelector('#df-5c3c5bda-b18c-4298-b7fe-cd0355e3fc5f');\n",
              "          const dataTable =\n",
              "            await google.colab.kernel.invokeFunction('convertToInteractive',\n",
              "                                                     [key], {});\n",
              "          if (!dataTable) return;\n",
              "\n",
              "          const docLinkHtml = 'Like what you see? Visit the ' +\n",
              "            '<a target=\"_blank\" href=https://colab.research.google.com/notebooks/data_table.ipynb>data table notebook</a>'\n",
              "            + ' to learn more about interactive tables.';\n",
              "          element.innerHTML = '';\n",
              "          dataTable['output_type'] = 'display_data';\n",
              "          await google.colab.output.renderOutput(dataTable, element);\n",
              "          const docLink = document.createElement('div');\n",
              "          docLink.innerHTML = docLinkHtml;\n",
              "          element.appendChild(docLink);\n",
              "        }\n",
              "      </script>\n",
              "    </div>\n",
              "  </div>\n",
              "  "
            ]
          },
          "metadata": {},
          "execution_count": 95
        }
      ]
    },
    {
      "cell_type": "code",
      "source": [
        "data = data.drop(index = incorrect_span_indices).reset_index(drop=True)"
      ],
      "metadata": {
        "id": "WU_Eh-CMsobc"
      },
      "execution_count": 96,
      "outputs": []
    },
    {
      "cell_type": "markdown",
      "source": [
        "#### preprocess"
      ],
      "metadata": {
        "id": "eGRkQ2fiBvsz"
      }
    },
    {
      "cell_type": "code",
      "source": [
        "#диакритика?\n",
        "def preprocess_text(text):\n",
        "  text = text.lower()\n",
        "  text = text.replace('%', ' percent ')\n",
        "  text = text.replace('+', ' plus ')\n",
        "  text = re.sub(r'  +', ' ', text)\n",
        "  return text\n",
        "\n",
        "data.fillna('', inplace=True)\n",
        "data['error_span'] = data['error_span'].apply(lambda x: preprocess_text(x))\n",
        "data['correction'] = data['correction'].apply(lambda x: preprocess_text(x))\n",
        "data['error_sentence'] = data['error_sentence'].apply(lambda x: preprocess_text(x))"
      ],
      "metadata": {
        "id": "UWay1P8FvuVf"
      },
      "execution_count": 97,
      "outputs": []
    },
    {
      "cell_type": "code",
      "source": [
        "data['error_correction_pair'] = data[['error_span', 'correction']].apply(lambda x: tuple(x), axis=1)\n",
        "\n",
        "data_final = data.groupby(['sentence_id']).agg({'error_sentence': lambda x: list(x)[0], \n",
        "                                   'error_correction_pair': list}).reset_index()\n",
        "data_final.head()"
      ],
      "metadata": {
        "colab": {
          "base_uri": "https://localhost:8080/",
          "height": 0
        },
        "id": "F07AXPBqxfSh",
        "outputId": "e26ff683-715a-4890-a49b-fd5b2b026e83"
      },
      "execution_count": 98,
      "outputs": [
        {
          "output_type": "execute_result",
          "data": {
            "text/plain": [
              "   sentence_id  \\\n",
              "0            0   \n",
              "1            1   \n",
              "2            2   \n",
              "3            3   \n",
              "4            4   \n",
              "\n",
              "                                                                                                            error_sentence  \\\n",
              "0                         \"agriculture\" in indonesia is in the middle place and the last one is under \"industry\" control.    \n",
              "1  \"mother should take care of her own child at first\", by this quote we simply can see that problems of government's o...   \n",
              "2                                    (12 million visitors) the second country was spain with 9 million british residents.    \n",
              "3                                                                                        (in 2020 it became 13 percent ).    \n",
              "4  (the destination between moscow and saint petersburg, for instance, can be easily overcame by \"lastochka\" train for ...   \n",
              "\n",
              "                           error_correction_pair  \n",
              "0                             [(middle, second)]  \n",
              "1  [(on the first position, in the first place)]  \n",
              "2                  [(residents, holiday-makers)]  \n",
              "3                            [(became, will be)]  \n",
              "4                      [(destination, distance)]  "
            ],
            "text/html": [
              "\n",
              "  <div id=\"df-6a90ee77-103b-4536-bfb6-6a876bf1af8f\">\n",
              "    <div class=\"colab-df-container\">\n",
              "      <div>\n",
              "<style scoped>\n",
              "    .dataframe tbody tr th:only-of-type {\n",
              "        vertical-align: middle;\n",
              "    }\n",
              "\n",
              "    .dataframe tbody tr th {\n",
              "        vertical-align: top;\n",
              "    }\n",
              "\n",
              "    .dataframe thead th {\n",
              "        text-align: right;\n",
              "    }\n",
              "</style>\n",
              "<table border=\"1\" class=\"dataframe\">\n",
              "  <thead>\n",
              "    <tr style=\"text-align: right;\">\n",
              "      <th></th>\n",
              "      <th>sentence_id</th>\n",
              "      <th>error_sentence</th>\n",
              "      <th>error_correction_pair</th>\n",
              "    </tr>\n",
              "  </thead>\n",
              "  <tbody>\n",
              "    <tr>\n",
              "      <th>0</th>\n",
              "      <td>0</td>\n",
              "      <td>\"agriculture\" in indonesia is in the middle place and the last one is under \"industry\" control.</td>\n",
              "      <td>[(middle, second)]</td>\n",
              "    </tr>\n",
              "    <tr>\n",
              "      <th>1</th>\n",
              "      <td>1</td>\n",
              "      <td>\"mother should take care of her own child at first\", by this quote we simply can see that problems of government's o...</td>\n",
              "      <td>[(on the first position, in the first place)]</td>\n",
              "    </tr>\n",
              "    <tr>\n",
              "      <th>2</th>\n",
              "      <td>2</td>\n",
              "      <td>(12 million visitors) the second country was spain with 9 million british residents.</td>\n",
              "      <td>[(residents, holiday-makers)]</td>\n",
              "    </tr>\n",
              "    <tr>\n",
              "      <th>3</th>\n",
              "      <td>3</td>\n",
              "      <td>(in 2020 it became 13 percent ).</td>\n",
              "      <td>[(became, will be)]</td>\n",
              "    </tr>\n",
              "    <tr>\n",
              "      <th>4</th>\n",
              "      <td>4</td>\n",
              "      <td>(the destination between moscow and saint petersburg, for instance, can be easily overcame by \"lastochka\" train for ...</td>\n",
              "      <td>[(destination, distance)]</td>\n",
              "    </tr>\n",
              "  </tbody>\n",
              "</table>\n",
              "</div>\n",
              "      <button class=\"colab-df-convert\" onclick=\"convertToInteractive('df-6a90ee77-103b-4536-bfb6-6a876bf1af8f')\"\n",
              "              title=\"Convert this dataframe to an interactive table.\"\n",
              "              style=\"display:none;\">\n",
              "        \n",
              "  <svg xmlns=\"http://www.w3.org/2000/svg\" height=\"24px\"viewBox=\"0 0 24 24\"\n",
              "       width=\"24px\">\n",
              "    <path d=\"M0 0h24v24H0V0z\" fill=\"none\"/>\n",
              "    <path d=\"M18.56 5.44l.94 2.06.94-2.06 2.06-.94-2.06-.94-.94-2.06-.94 2.06-2.06.94zm-11 1L8.5 8.5l.94-2.06 2.06-.94-2.06-.94L8.5 2.5l-.94 2.06-2.06.94zm10 10l.94 2.06.94-2.06 2.06-.94-2.06-.94-.94-2.06-.94 2.06-2.06.94z\"/><path d=\"M17.41 7.96l-1.37-1.37c-.4-.4-.92-.59-1.43-.59-.52 0-1.04.2-1.43.59L10.3 9.45l-7.72 7.72c-.78.78-.78 2.05 0 2.83L4 21.41c.39.39.9.59 1.41.59.51 0 1.02-.2 1.41-.59l7.78-7.78 2.81-2.81c.8-.78.8-2.07 0-2.86zM5.41 20L4 18.59l7.72-7.72 1.47 1.35L5.41 20z\"/>\n",
              "  </svg>\n",
              "      </button>\n",
              "      \n",
              "  <style>\n",
              "    .colab-df-container {\n",
              "      display:flex;\n",
              "      flex-wrap:wrap;\n",
              "      gap: 12px;\n",
              "    }\n",
              "\n",
              "    .colab-df-convert {\n",
              "      background-color: #E8F0FE;\n",
              "      border: none;\n",
              "      border-radius: 50%;\n",
              "      cursor: pointer;\n",
              "      display: none;\n",
              "      fill: #1967D2;\n",
              "      height: 32px;\n",
              "      padding: 0 0 0 0;\n",
              "      width: 32px;\n",
              "    }\n",
              "\n",
              "    .colab-df-convert:hover {\n",
              "      background-color: #E2EBFA;\n",
              "      box-shadow: 0px 1px 2px rgba(60, 64, 67, 0.3), 0px 1px 3px 1px rgba(60, 64, 67, 0.15);\n",
              "      fill: #174EA6;\n",
              "    }\n",
              "\n",
              "    [theme=dark] .colab-df-convert {\n",
              "      background-color: #3B4455;\n",
              "      fill: #D2E3FC;\n",
              "    }\n",
              "\n",
              "    [theme=dark] .colab-df-convert:hover {\n",
              "      background-color: #434B5C;\n",
              "      box-shadow: 0px 1px 3px 1px rgba(0, 0, 0, 0.15);\n",
              "      filter: drop-shadow(0px 1px 2px rgba(0, 0, 0, 0.3));\n",
              "      fill: #FFFFFF;\n",
              "    }\n",
              "  </style>\n",
              "\n",
              "      <script>\n",
              "        const buttonEl =\n",
              "          document.querySelector('#df-6a90ee77-103b-4536-bfb6-6a876bf1af8f button.colab-df-convert');\n",
              "        buttonEl.style.display =\n",
              "          google.colab.kernel.accessAllowed ? 'block' : 'none';\n",
              "\n",
              "        async function convertToInteractive(key) {\n",
              "          const element = document.querySelector('#df-6a90ee77-103b-4536-bfb6-6a876bf1af8f');\n",
              "          const dataTable =\n",
              "            await google.colab.kernel.invokeFunction('convertToInteractive',\n",
              "                                                     [key], {});\n",
              "          if (!dataTable) return;\n",
              "\n",
              "          const docLinkHtml = 'Like what you see? Visit the ' +\n",
              "            '<a target=\"_blank\" href=https://colab.research.google.com/notebooks/data_table.ipynb>data table notebook</a>'\n",
              "            + ' to learn more about interactive tables.';\n",
              "          element.innerHTML = '';\n",
              "          dataTable['output_type'] = 'display_data';\n",
              "          await google.colab.output.renderOutput(dataTable, element);\n",
              "          const docLink = document.createElement('div');\n",
              "          docLink.innerHTML = docLinkHtml;\n",
              "          element.appendChild(docLink);\n",
              "        }\n",
              "      </script>\n",
              "    </div>\n",
              "  </div>\n",
              "  "
            ]
          },
          "metadata": {},
          "execution_count": 98
        }
      ]
    },
    {
      "cell_type": "markdown",
      "source": [
        "#### Create Target"
      ],
      "metadata": {
        "id": "zq11rGDDyNHQ"
      }
    },
    {
      "cell_type": "code",
      "source": [
        "def strings_intersect(s1, s2):\n",
        "  return len(set(s1.split(' ')) & set(s2.split(' '))) > 0\n",
        "def mult_strings_intersect(*args):\n",
        "  return [(i1, i2) for i1,i2 in itertools.combinations(range(len(args)), 2) if strings_intersect(args[i1], args[i2])]\n",
        "def errors_intersect(row):\n",
        "  errors = list(zip(*row))[0]\n",
        "  check = mult_strings_intersect(*errors)\n",
        "  if len(check) >0:\n",
        "    return check\n",
        "  else:\n",
        "    return None\n",
        "\n",
        "def choose_errors(row, intersections):\n",
        "  intersecting_errors = list(set(sum(intersections, ())))\n",
        "  not_intersecting = list(set(range(len(row))) - set(intersecting_errors))\n",
        "  errors = list(zip(*row))[0]\n",
        "  errors_lens = [len(errors[i]) for i in intersecting_errors]\n",
        "  chosen_error = intersecting_errors[np.argmax(errors_lens)]\n",
        "  return [row[i] for i in sorted([chosen_error] + not_intersecting)]\n",
        "\n",
        "def create_target(sentence, error_correction_pairs):\n",
        "  corrected_sentence = sentence\n",
        "  spans_before = []\n",
        "  spans_after = []\n",
        "  errors_intersection = errors_intersect(error_correction_pairs)\n",
        "  if errors_intersection:\n",
        "    pairs_to_correct = choose_errors(error_correction_pairs, errors_intersection)\n",
        "  else:\n",
        "    pairs_to_correct = error_correction_pairs\n",
        "  for e, c in pairs_to_correct:\n",
        "    if e in corrected_sentence:\n",
        "      spans_before.append(re.search(e, corrected_sentence).span())\n",
        "      corrected_sentence = re.sub(e, c, corrected_sentence, count=1)\n",
        "      spans_after.append(re.search(c, corrected_sentence).span())\n",
        "  return corrected_sentence, spans_before, spans_after\n"
      ],
      "metadata": {
        "id": "owC9ZFPNvvDi"
      },
      "execution_count": 99,
      "outputs": []
    },
    {
      "cell_type": "code",
      "source": [
        "data_final['temp'] = data_final[['error_sentence',\t'error_correction_pair']].apply(lambda x: create_target(x[0], x[1]), \n",
        "                                                                                   axis=1)\n",
        "data_final['corrected_sentence'] = data_final['temp'].apply(lambda x: x[0])\n",
        "data_final['spans_before'] = data_final['temp'].apply(lambda x: x[1])\n",
        "data_final['spans_after'] = data_final['temp'].apply(lambda x: x[2])\n",
        "data_final = data_final.drop(columns='temp')\n",
        "pairs = data_final['error_correction_pair'].tolist()\n",
        "data_final = data_final.drop(columns='error_correction_pair')\n",
        "data_final.head()"
      ],
      "metadata": {
        "colab": {
          "base_uri": "https://localhost:8080/",
          "height": 0
        },
        "id": "OlONdmzEPpW3",
        "outputId": "585ac514-799e-4c45-e4cb-38cc541aab28"
      },
      "execution_count": 100,
      "outputs": [
        {
          "output_type": "execute_result",
          "data": {
            "text/plain": [
              "   sentence_id  \\\n",
              "0            0   \n",
              "1            1   \n",
              "2            2   \n",
              "3            3   \n",
              "4            4   \n",
              "\n",
              "                                                                                                            error_sentence  \\\n",
              "0                         \"agriculture\" in indonesia is in the middle place and the last one is under \"industry\" control.    \n",
              "1  \"mother should take care of her own child at first\", by this quote we simply can see that problems of government's o...   \n",
              "2                                    (12 million visitors) the second country was spain with 9 million british residents.    \n",
              "3                                                                                        (in 2020 it became 13 percent ).    \n",
              "4  (the destination between moscow and saint petersburg, for instance, can be easily overcame by \"lastochka\" train for ...   \n",
              "\n",
              "                                                                                                        corrected_sentence  \\\n",
              "0                         \"agriculture\" in indonesia is in the second place and the last one is under \"industry\" control.    \n",
              "1  \"mother should take care of her own child at first\", by this quote we simply can see that problems of government's o...   \n",
              "2                               (12 million visitors) the second country was spain with 9 million british holiday-makers.    \n",
              "3                                                                                       (in 2020 it will be 13 percent ).    \n",
              "4  (the distance between moscow and saint petersburg, for instance, can be easily overcame by \"lastochka\" train for 5 h...   \n",
              "\n",
              "   spans_before   spans_after  \n",
              "0    [(37, 43)]    [(37, 43)]  \n",
              "1  [(144, 165)]  [(144, 162)]  \n",
              "2    [(74, 83)]    [(74, 88)]  \n",
              "3    [(12, 18)]    [(12, 19)]  \n",
              "4     [(5, 16)]     [(5, 13)]  "
            ],
            "text/html": [
              "\n",
              "  <div id=\"df-571a190a-d6dc-410d-9cca-656968a893a4\">\n",
              "    <div class=\"colab-df-container\">\n",
              "      <div>\n",
              "<style scoped>\n",
              "    .dataframe tbody tr th:only-of-type {\n",
              "        vertical-align: middle;\n",
              "    }\n",
              "\n",
              "    .dataframe tbody tr th {\n",
              "        vertical-align: top;\n",
              "    }\n",
              "\n",
              "    .dataframe thead th {\n",
              "        text-align: right;\n",
              "    }\n",
              "</style>\n",
              "<table border=\"1\" class=\"dataframe\">\n",
              "  <thead>\n",
              "    <tr style=\"text-align: right;\">\n",
              "      <th></th>\n",
              "      <th>sentence_id</th>\n",
              "      <th>error_sentence</th>\n",
              "      <th>corrected_sentence</th>\n",
              "      <th>spans_before</th>\n",
              "      <th>spans_after</th>\n",
              "    </tr>\n",
              "  </thead>\n",
              "  <tbody>\n",
              "    <tr>\n",
              "      <th>0</th>\n",
              "      <td>0</td>\n",
              "      <td>\"agriculture\" in indonesia is in the middle place and the last one is under \"industry\" control.</td>\n",
              "      <td>\"agriculture\" in indonesia is in the second place and the last one is under \"industry\" control.</td>\n",
              "      <td>[(37, 43)]</td>\n",
              "      <td>[(37, 43)]</td>\n",
              "    </tr>\n",
              "    <tr>\n",
              "      <th>1</th>\n",
              "      <td>1</td>\n",
              "      <td>\"mother should take care of her own child at first\", by this quote we simply can see that problems of government's o...</td>\n",
              "      <td>\"mother should take care of her own child at first\", by this quote we simply can see that problems of government's o...</td>\n",
              "      <td>[(144, 165)]</td>\n",
              "      <td>[(144, 162)]</td>\n",
              "    </tr>\n",
              "    <tr>\n",
              "      <th>2</th>\n",
              "      <td>2</td>\n",
              "      <td>(12 million visitors) the second country was spain with 9 million british residents.</td>\n",
              "      <td>(12 million visitors) the second country was spain with 9 million british holiday-makers.</td>\n",
              "      <td>[(74, 83)]</td>\n",
              "      <td>[(74, 88)]</td>\n",
              "    </tr>\n",
              "    <tr>\n",
              "      <th>3</th>\n",
              "      <td>3</td>\n",
              "      <td>(in 2020 it became 13 percent ).</td>\n",
              "      <td>(in 2020 it will be 13 percent ).</td>\n",
              "      <td>[(12, 18)]</td>\n",
              "      <td>[(12, 19)]</td>\n",
              "    </tr>\n",
              "    <tr>\n",
              "      <th>4</th>\n",
              "      <td>4</td>\n",
              "      <td>(the destination between moscow and saint petersburg, for instance, can be easily overcame by \"lastochka\" train for ...</td>\n",
              "      <td>(the distance between moscow and saint petersburg, for instance, can be easily overcame by \"lastochka\" train for 5 h...</td>\n",
              "      <td>[(5, 16)]</td>\n",
              "      <td>[(5, 13)]</td>\n",
              "    </tr>\n",
              "  </tbody>\n",
              "</table>\n",
              "</div>\n",
              "      <button class=\"colab-df-convert\" onclick=\"convertToInteractive('df-571a190a-d6dc-410d-9cca-656968a893a4')\"\n",
              "              title=\"Convert this dataframe to an interactive table.\"\n",
              "              style=\"display:none;\">\n",
              "        \n",
              "  <svg xmlns=\"http://www.w3.org/2000/svg\" height=\"24px\"viewBox=\"0 0 24 24\"\n",
              "       width=\"24px\">\n",
              "    <path d=\"M0 0h24v24H0V0z\" fill=\"none\"/>\n",
              "    <path d=\"M18.56 5.44l.94 2.06.94-2.06 2.06-.94-2.06-.94-.94-2.06-.94 2.06-2.06.94zm-11 1L8.5 8.5l.94-2.06 2.06-.94-2.06-.94L8.5 2.5l-.94 2.06-2.06.94zm10 10l.94 2.06.94-2.06 2.06-.94-2.06-.94-.94-2.06-.94 2.06-2.06.94z\"/><path d=\"M17.41 7.96l-1.37-1.37c-.4-.4-.92-.59-1.43-.59-.52 0-1.04.2-1.43.59L10.3 9.45l-7.72 7.72c-.78.78-.78 2.05 0 2.83L4 21.41c.39.39.9.59 1.41.59.51 0 1.02-.2 1.41-.59l7.78-7.78 2.81-2.81c.8-.78.8-2.07 0-2.86zM5.41 20L4 18.59l7.72-7.72 1.47 1.35L5.41 20z\"/>\n",
              "  </svg>\n",
              "      </button>\n",
              "      \n",
              "  <style>\n",
              "    .colab-df-container {\n",
              "      display:flex;\n",
              "      flex-wrap:wrap;\n",
              "      gap: 12px;\n",
              "    }\n",
              "\n",
              "    .colab-df-convert {\n",
              "      background-color: #E8F0FE;\n",
              "      border: none;\n",
              "      border-radius: 50%;\n",
              "      cursor: pointer;\n",
              "      display: none;\n",
              "      fill: #1967D2;\n",
              "      height: 32px;\n",
              "      padding: 0 0 0 0;\n",
              "      width: 32px;\n",
              "    }\n",
              "\n",
              "    .colab-df-convert:hover {\n",
              "      background-color: #E2EBFA;\n",
              "      box-shadow: 0px 1px 2px rgba(60, 64, 67, 0.3), 0px 1px 3px 1px rgba(60, 64, 67, 0.15);\n",
              "      fill: #174EA6;\n",
              "    }\n",
              "\n",
              "    [theme=dark] .colab-df-convert {\n",
              "      background-color: #3B4455;\n",
              "      fill: #D2E3FC;\n",
              "    }\n",
              "\n",
              "    [theme=dark] .colab-df-convert:hover {\n",
              "      background-color: #434B5C;\n",
              "      box-shadow: 0px 1px 3px 1px rgba(0, 0, 0, 0.15);\n",
              "      filter: drop-shadow(0px 1px 2px rgba(0, 0, 0, 0.3));\n",
              "      fill: #FFFFFF;\n",
              "    }\n",
              "  </style>\n",
              "\n",
              "      <script>\n",
              "        const buttonEl =\n",
              "          document.querySelector('#df-571a190a-d6dc-410d-9cca-656968a893a4 button.colab-df-convert');\n",
              "        buttonEl.style.display =\n",
              "          google.colab.kernel.accessAllowed ? 'block' : 'none';\n",
              "\n",
              "        async function convertToInteractive(key) {\n",
              "          const element = document.querySelector('#df-571a190a-d6dc-410d-9cca-656968a893a4');\n",
              "          const dataTable =\n",
              "            await google.colab.kernel.invokeFunction('convertToInteractive',\n",
              "                                                     [key], {});\n",
              "          if (!dataTable) return;\n",
              "\n",
              "          const docLinkHtml = 'Like what you see? Visit the ' +\n",
              "            '<a target=\"_blank\" href=https://colab.research.google.com/notebooks/data_table.ipynb>data table notebook</a>'\n",
              "            + ' to learn more about interactive tables.';\n",
              "          element.innerHTML = '';\n",
              "          dataTable['output_type'] = 'display_data';\n",
              "          await google.colab.output.renderOutput(dataTable, element);\n",
              "          const docLink = document.createElement('div');\n",
              "          docLink.innerHTML = docLinkHtml;\n",
              "          element.appendChild(docLink);\n",
              "        }\n",
              "      </script>\n",
              "    </div>\n",
              "  </div>\n",
              "  "
            ]
          },
          "metadata": {},
          "execution_count": 100
        }
      ]
    },
    {
      "cell_type": "code",
      "source": [
        "X = data_final['error_sentence'].to_numpy()\n",
        "y = data_final['corrected_sentence'].to_numpy()\n",
        "\n",
        "X.shape, y.shape"
      ],
      "metadata": {
        "colab": {
          "base_uri": "https://localhost:8080/"
        },
        "id": "KHSI3Df_DM5h",
        "outputId": "98975a5f-7aed-428c-a17e-5eddeea0da14"
      },
      "execution_count": 101,
      "outputs": [
        {
          "output_type": "execute_result",
          "data": {
            "text/plain": [
              "((12773,), (12773,))"
            ]
          },
          "metadata": {},
          "execution_count": 101
        }
      ]
    },
    {
      "cell_type": "markdown",
      "source": [
        "#### Drop sentences longer than 64 tokens"
      ],
      "metadata": {
        "id": "FJ8GM2heyRsV"
      }
    },
    {
      "cell_type": "code",
      "source": [
        "token_len = lambda s: len(word_tokenize(s))\n",
        "X_sentence_lens = np.array(list(map(token_len, X)))\n",
        "y_sentence_lens = np.array(list(map(token_len, y)))\n",
        "\n",
        "thr = 63\n",
        "n_sent = X_sentence_lens.shape[0]\n",
        "X_n = X_sentence_lens[X_sentence_lens > thr].shape[0]\n",
        "y_n = y_sentence_lens[y_sentence_lens > thr].shape[0]\n",
        "indices_to_drop = np.union1d(np.where(X_sentence_lens > thr)[0], \n",
        "                             np.where(y_sentence_lens > thr)[0])\n",
        "together_n = indices_to_drop.shape[0]\n",
        "print(f\"# source sentences longer than {thr} words: {X_n}\", \" (%.2f percent)\"%(100* X_n/n_sent))\n",
        "print(f\"# target sentences longer than {thr} words: {y_n}\", \" (%.2f percent)\"%(100* y_n/n_sent))\n",
        "print(f\"# examples longer than {thr} words: {together_n}\", \" (%.2f percent)\"%(100* together_n/n_sent))"
      ],
      "metadata": {
        "colab": {
          "base_uri": "https://localhost:8080/"
        },
        "id": "mKrjvE6jyGT2",
        "outputId": "985bc50c-832d-4a04-a20e-36c60cfb7fcb"
      },
      "execution_count": 102,
      "outputs": [
        {
          "output_type": "stream",
          "name": "stdout",
          "text": [
            "# source sentences longer than 63 words: 59  (0.46 percent)\n",
            "# target sentences longer than 63 words: 61  (0.48 percent)\n",
            "# examples longer than 63 words: 62  (0.49 percent)\n"
          ]
        }
      ]
    },
    {
      "cell_type": "code",
      "source": [
        "X = np.delete(X, indices_to_drop)\n",
        "y = np.delete(y, indices_to_drop)\n",
        "\n",
        "X.shape, y.shape"
      ],
      "metadata": {
        "colab": {
          "base_uri": "https://localhost:8080/"
        },
        "id": "tdQ3uw4dyL9o",
        "outputId": "f284e3a1-22ef-4c80-8281-adc30bb7095c"
      },
      "execution_count": 103,
      "outputs": [
        {
          "output_type": "execute_result",
          "data": {
            "text/plain": [
              "((12711,), (12711,))"
            ]
          },
          "metadata": {},
          "execution_count": 103
        }
      ]
    },
    {
      "cell_type": "markdown",
      "source": [
        "## Data Exploration "
      ],
      "metadata": {
        "id": "dvudWNA4O-p8"
      }
    },
    {
      "cell_type": "code",
      "source": [
        "token_len = lambda s: len(word_tokenize(s))\n",
        "X_sentence_lens = np.array(list(map(token_len, X)))\n",
        "y_sentence_lens = np.array(list(map(token_len, y)))\n",
        "\n",
        "len_diffs = X_sentence_lens - y_sentence_lens"
      ],
      "metadata": {
        "id": "ZpjCV_5CPAzm"
      },
      "execution_count": 104,
      "outputs": []
    },
    {
      "cell_type": "code",
      "source": [
        "print(f'Source corpus len: {sum(X_sentence_lens)}')\n",
        "print(f'Target corpus len: {sum(y_sentence_lens)}')"
      ],
      "metadata": {
        "colab": {
          "base_uri": "https://localhost:8080/"
        },
        "id": "mHWAum6rxISy",
        "outputId": "f9658bb4-73a1-4d1f-cbcb-02d772bc4718"
      },
      "execution_count": 105,
      "outputs": [
        {
          "output_type": "stream",
          "name": "stdout",
          "text": [
            "Source corpus len: 303877\n",
            "Target corpus len: 304707\n"
          ]
        }
      ]
    },
    {
      "cell_type": "code",
      "source": [
        "plt.hist(X_sentence_lens, bins=20, alpha=0.3, label='Source')\n",
        "plt.hist(y_sentence_lens, bins=20, alpha=0.3, label='Target')\n",
        "plt.legend()\n",
        "plt.show()"
      ],
      "metadata": {
        "colab": {
          "base_uri": "https://localhost:8080/",
          "height": 265
        },
        "id": "vTE0LrOAPUex",
        "outputId": "bca6a4dc-8b89-424c-81ba-612d25083239"
      },
      "execution_count": 106,
      "outputs": [
        {
          "output_type": "display_data",
          "data": {
            "text/plain": [
              "<Figure size 432x288 with 1 Axes>"
            ],
            "image/png": "[encoded data removed]"
          },
          "metadata": {
            "needs_background": "light"
          }
        }
      ]
    },
    {
      "cell_type": "code",
      "source": [
        "unique, counts = np.unique(len_diffs[len_diffs!=0], return_counts=True)\n",
        "counts = counts / len_diffs.shape[0]\n",
        "print(\"# words didnt't change in %.2f percent of cases\" % (100* len_diffs[len_diffs==0].shape[0] / len_diffs.shape[0]))\n",
        "print(\"# +-1 word change in %.2f percent ofcases\" % (100* len_diffs[abs(len_diffs) == 1].shape[0] / len_diffs.shape[0]))\n",
        "print(\"# bigger change in %.2f percent of cases\" % (100* len_diffs[abs(len_diffs) > 1].shape[0] / len_diffs.shape[0]))\n",
        "plt.bar(unique, counts)\n",
        "plt.show()"
      ],
      "metadata": {
        "colab": {
          "base_uri": "https://localhost:8080/",
          "height": 322
        },
        "id": "hPiIvlzcQP8C",
        "outputId": "816010c2-6ca4-42e2-8434-ce0aac9b1fa9"
      },
      "execution_count": 107,
      "outputs": [
        {
          "output_type": "stream",
          "name": "stdout",
          "text": [
            "# words didnt't change in 62.04 percent of cases\n",
            "# +-1 word change in 26.96 percent ofcases\n",
            "# bigger change in 11.00 percent of cases\n"
          ]
        },
        {
          "output_type": "display_data",
          "data": {
            "text/plain": [
              "<Figure size 432x288 with 1 Axes>"
            ],
            "image/png": "[encoded data removed]"
          },
          "metadata": {
            "needs_background": "light"
          }
        }
      ]
    },
    {
      "cell_type": "code",
      "source": [
        "data = pd.DataFrame({'source':X, 'target':y})\n",
        "data.to_csv('realec_data.csv', index=False)"
      ],
      "metadata": {
        "id": "WVu5AN9hCaXd"
      },
      "execution_count": 118,
      "outputs": []
    },
    {
      "cell_type": "code",
      "source": [
        "data_final.drop(index = indices_to_drop, inplace=True)\n",
        "data_final.reset_index(drop=True, inplace=True)\n",
        "data_final.to_csv('alldata.csv', index=False)"
      ],
      "metadata": {
        "id": "da1usX2n1nGC"
      },
      "execution_count": 109,
      "outputs": []
    },
    {
      "cell_type": "code",
      "source": [
        "data_final"
      ],
      "metadata": {
        "colab": {
          "base_uri": "https://localhost:8080/",
          "height": 589
        },
        "id": "z4kLr8_x4MNh",
        "outputId": "2a1a48a2-682d-4288-9333-3aaed0577fdb"
      },
      "execution_count": 110,
      "outputs": [
        {
          "output_type": "execute_result",
          "data": {
            "text/plain": [
              "       sentence_id  \\\n",
              "0                0   \n",
              "1                1   \n",
              "2                2   \n",
              "3                3   \n",
              "4                4   \n",
              "...            ...   \n",
              "12706        13429   \n",
              "12707        13430   \n",
              "12708        13431   \n",
              "12709        13432   \n",
              "12710        13433   \n",
              "\n",
              "                                                                                                                error_sentence  \\\n",
              "0                             \"agriculture\" in indonesia is in the middle place and the last one is under \"industry\" control.    \n",
              "1      \"mother should take care of her own child at first\", by this quote we simply can see that problems of government's o...   \n",
              "2                                        (12 million visitors) the second country was spain with 9 million british residents.    \n",
              "3                                                                                            (in 2020 it became 13 percent ).    \n",
              "4      (the destination between moscow and saint petersburg, for instance, can be easily overcame by \"lastochka\" train for ...   \n",
              "...                                                                                                                        ...   \n",
              "12706  which one associated with clearing an economy, growing benefits for dealers and increasing of motivation level among...   \n",
              "12707                   which rate was get a high in 2015, with 7,9 percent and become lower in 2014, it is now 7,5 percent .    \n",
              "12708                                                                       while only 6 percent of the last age group use it.   \n",
              "12709  while the market of electronic books will see a slight increase - from 1 billion dollars in 2014 to 1,5 billion doll...   \n",
              "12710  while we have very convenient way to travel as air travelling, nobody sees the reasons to create more ecological tra...   \n",
              "\n",
              "                                                                                                            corrected_sentence  \\\n",
              "0                             \"agriculture\" in indonesia is in the second place and the last one is under \"industry\" control.    \n",
              "1      \"mother should take care of her own child at first\", by this quote we simply can see that problems of government's o...   \n",
              "2                                   (12 million visitors) the second country was spain with 9 million british holiday-makers.    \n",
              "3                                                                                           (in 2020 it will be 13 percent ).    \n",
              "4      (the distance between moscow and saint petersburg, for instance, can be easily overcame by \"lastochka\" train for 5 h...   \n",
              "...                                                                                                                        ...   \n",
              "12706  that one can include clearing an economy, growing benefits for dealers and increasing of motivation level among musi...   \n",
              "12707                   which rate was get a high in 2015, with 7,9 percent and become lower in 2014, it became 7,5 percent .    \n",
              "12708                                                                     while only 6 percent of the latter age group use it.   \n",
              "12709  meanwhile the market of electronic books will see a slight increase - from 1 billion dollars in 2014 to 1,5 billion ...   \n",
              "12710  while we have very convenient way to travel as air travelling, nobody sees the reasons to create more ecological tra...   \n",
              "\n",
              "             spans_before         spans_after  \n",
              "0              [(37, 43)]          [(37, 43)]  \n",
              "1            [(144, 165)]        [(144, 162)]  \n",
              "2              [(74, 83)]          [(74, 88)]  \n",
              "3              [(12, 18)]          [(12, 19)]  \n",
              "4               [(5, 16)]           [(5, 13)]  \n",
              "...                   ...                 ...  \n",
              "12706  [(10, 25), (0, 5)]  [(10, 21), (0, 4)]  \n",
              "12707          [(81, 87)]          [(81, 87)]  \n",
              "12708          [(28, 32)]          [(28, 34)]  \n",
              "12709            [(0, 5)]            [(0, 9)]  \n",
              "12710        [(180, 187)]        [(180, 187)]  \n",
              "\n",
              "[12711 rows x 5 columns]"
            ],
            "text/html": [
              "\n",
              "  <div id=\"df-cfcd262b-3504-465b-8ba3-f09d1340ee00\">\n",
              "    <div class=\"colab-df-container\">\n",
              "      <div>\n",
              "<style scoped>\n",
              "    .dataframe tbody tr th:only-of-type {\n",
              "        vertical-align: middle;\n",
              "    }\n",
              "\n",
              "    .dataframe tbody tr th {\n",
              "        vertical-align: top;\n",
              "    }\n",
              "\n",
              "    .dataframe thead th {\n",
              "        text-align: right;\n",
              "    }\n",
              "</style>\n",
              "<table border=\"1\" class=\"dataframe\">\n",
              "  <thead>\n",
              "    <tr style=\"text-align: right;\">\n",
              "      <th></th>\n",
              "      <th>sentence_id</th>\n",
              "      <th>error_sentence</th>\n",
              "      <th>corrected_sentence</th>\n",
              "      <th>spans_before</th>\n",
              "      <th>spans_after</th>\n",
              "    </tr>\n",
              "  </thead>\n",
              "  <tbody>\n",
              "    <tr>\n",
              "      <th>0</th>\n",
              "      <td>0</td>\n",
              "      <td>\"agriculture\" in indonesia is in the middle place and the last one is under \"industry\" control.</td>\n",
              "      <td>\"agriculture\" in indonesia is in the second place and the last one is under \"industry\" control.</td>\n",
              "      <td>[(37, 43)]</td>\n",
              "      <td>[(37, 43)]</td>\n",
              "    </tr>\n",
              "    <tr>\n",
              "      <th>1</th>\n",
              "      <td>1</td>\n",
              "      <td>\"mother should take care of her own child at first\", by this quote we simply can see that problems of government's o...</td>\n",
              "      <td>\"mother should take care of her own child at first\", by this quote we simply can see that problems of government's o...</td>\n",
              "      <td>[(144, 165)]</td>\n",
              "      <td>[(144, 162)]</td>\n",
              "    </tr>\n",
              "    <tr>\n",
              "      <th>2</th>\n",
              "      <td>2</td>\n",
              "      <td>(12 million visitors) the second country was spain with 9 million british residents.</td>\n",
              "      <td>(12 million visitors) the second country was spain with 9 million british holiday-makers.</td>\n",
              "      <td>[(74, 83)]</td>\n",
              "      <td>[(74, 88)]</td>\n",
              "    </tr>\n",
              "    <tr>\n",
              "      <th>3</th>\n",
              "      <td>3</td>\n",
              "      <td>(in 2020 it became 13 percent ).</td>\n",
              "      <td>(in 2020 it will be 13 percent ).</td>\n",
              "      <td>[(12, 18)]</td>\n",
              "      <td>[(12, 19)]</td>\n",
              "    </tr>\n",
              "    <tr>\n",
              "      <th>4</th>\n",
              "      <td>4</td>\n",
              "      <td>(the destination between moscow and saint petersburg, for instance, can be easily overcame by \"lastochka\" train for ...</td>\n",
              "      <td>(the distance between moscow and saint petersburg, for instance, can be easily overcame by \"lastochka\" train for 5 h...</td>\n",
              "      <td>[(5, 16)]</td>\n",
              "      <td>[(5, 13)]</td>\n",
              "    </tr>\n",
              "    <tr>\n",
              "      <th>...</th>\n",
              "      <td>...</td>\n",
              "      <td>...</td>\n",
              "      <td>...</td>\n",
              "      <td>...</td>\n",
              "      <td>...</td>\n",
              "    </tr>\n",
              "    <tr>\n",
              "      <th>12706</th>\n",
              "      <td>13429</td>\n",
              "      <td>which one associated with clearing an economy, growing benefits for dealers and increasing of motivation level among...</td>\n",
              "      <td>that one can include clearing an economy, growing benefits for dealers and increasing of motivation level among musi...</td>\n",
              "      <td>[(10, 25), (0, 5)]</td>\n",
              "      <td>[(10, 21), (0, 4)]</td>\n",
              "    </tr>\n",
              "    <tr>\n",
              "      <th>12707</th>\n",
              "      <td>13430</td>\n",
              "      <td>which rate was get a high in 2015, with 7,9 percent and become lower in 2014, it is now 7,5 percent .</td>\n",
              "      <td>which rate was get a high in 2015, with 7,9 percent and become lower in 2014, it became 7,5 percent .</td>\n",
              "      <td>[(81, 87)]</td>\n",
              "      <td>[(81, 87)]</td>\n",
              "    </tr>\n",
              "    <tr>\n",
              "      <th>12708</th>\n",
              "      <td>13431</td>\n",
              "      <td>while only 6 percent of the last age group use it.</td>\n",
              "      <td>while only 6 percent of the latter age group use it.</td>\n",
              "      <td>[(28, 32)]</td>\n",
              "      <td>[(28, 34)]</td>\n",
              "    </tr>\n",
              "    <tr>\n",
              "      <th>12709</th>\n",
              "      <td>13432</td>\n",
              "      <td>while the market of electronic books will see a slight increase - from 1 billion dollars in 2014 to 1,5 billion doll...</td>\n",
              "      <td>meanwhile the market of electronic books will see a slight increase - from 1 billion dollars in 2014 to 1,5 billion ...</td>\n",
              "      <td>[(0, 5)]</td>\n",
              "      <td>[(0, 9)]</td>\n",
              "    </tr>\n",
              "    <tr>\n",
              "      <th>12710</th>\n",
              "      <td>13433</td>\n",
              "      <td>while we have very convenient way to travel as air travelling, nobody sees the reasons to create more ecological tra...</td>\n",
              "      <td>while we have very convenient way to travel as air travelling, nobody sees the reasons to create more ecological tra...</td>\n",
              "      <td>[(180, 187)]</td>\n",
              "      <td>[(180, 187)]</td>\n",
              "    </tr>\n",
              "  </tbody>\n",
              "</table>\n",
              "<p>12711 rows × 5 columns</p>\n",
              "</div>\n",
              "      <button class=\"colab-df-convert\" onclick=\"convertToInteractive('df-cfcd262b-3504-465b-8ba3-f09d1340ee00')\"\n",
              "              title=\"Convert this dataframe to an interactive table.\"\n",
              "              style=\"display:none;\">\n",
              "        \n",
              "  <svg xmlns=\"http://www.w3.org/2000/svg\" height=\"24px\"viewBox=\"0 0 24 24\"\n",
              "       width=\"24px\">\n",
              "    <path d=\"M0 0h24v24H0V0z\" fill=\"none\"/>\n",
              "    <path d=\"M18.56 5.44l.94 2.06.94-2.06 2.06-.94-2.06-.94-.94-2.06-.94 2.06-2.06.94zm-11 1L8.5 8.5l.94-2.06 2.06-.94-2.06-.94L8.5 2.5l-.94 2.06-2.06.94zm10 10l.94 2.06.94-2.06 2.06-.94-2.06-.94-.94-2.06-.94 2.06-2.06.94z\"/><path d=\"M17.41 7.96l-1.37-1.37c-.4-.4-.92-.59-1.43-.59-.52 0-1.04.2-1.43.59L10.3 9.45l-7.72 7.72c-.78.78-.78 2.05 0 2.83L4 21.41c.39.39.9.59 1.41.59.51 0 1.02-.2 1.41-.59l7.78-7.78 2.81-2.81c.8-.78.8-2.07 0-2.86zM5.41 20L4 18.59l7.72-7.72 1.47 1.35L5.41 20z\"/>\n",
              "  </svg>\n",
              "      </button>\n",
              "      \n",
              "  <style>\n",
              "    .colab-df-container {\n",
              "      display:flex;\n",
              "      flex-wrap:wrap;\n",
              "      gap: 12px;\n",
              "    }\n",
              "\n",
              "    .colab-df-convert {\n",
              "      background-color: #E8F0FE;\n",
              "      border: none;\n",
              "      border-radius: 50%;\n",
              "      cursor: pointer;\n",
              "      display: none;\n",
              "      fill: #1967D2;\n",
              "      height: 32px;\n",
              "      padding: 0 0 0 0;\n",
              "      width: 32px;\n",
              "    }\n",
              "\n",
              "    .colab-df-convert:hover {\n",
              "      background-color: #E2EBFA;\n",
              "      box-shadow: 0px 1px 2px rgba(60, 64, 67, 0.3), 0px 1px 3px 1px rgba(60, 64, 67, 0.15);\n",
              "      fill: #174EA6;\n",
              "    }\n",
              "\n",
              "    [theme=dark] .colab-df-convert {\n",
              "      background-color: #3B4455;\n",
              "      fill: #D2E3FC;\n",
              "    }\n",
              "\n",
              "    [theme=dark] .colab-df-convert:hover {\n",
              "      background-color: #434B5C;\n",
              "      box-shadow: 0px 1px 3px 1px rgba(0, 0, 0, 0.15);\n",
              "      filter: drop-shadow(0px 1px 2px rgba(0, 0, 0, 0.3));\n",
              "      fill: #FFFFFF;\n",
              "    }\n",
              "  </style>\n",
              "\n",
              "      <script>\n",
              "        const buttonEl =\n",
              "          document.querySelector('#df-cfcd262b-3504-465b-8ba3-f09d1340ee00 button.colab-df-convert');\n",
              "        buttonEl.style.display =\n",
              "          google.colab.kernel.accessAllowed ? 'block' : 'none';\n",
              "\n",
              "        async function convertToInteractive(key) {\n",
              "          const element = document.querySelector('#df-cfcd262b-3504-465b-8ba3-f09d1340ee00');\n",
              "          const dataTable =\n",
              "            await google.colab.kernel.invokeFunction('convertToInteractive',\n",
              "                                                     [key], {});\n",
              "          if (!dataTable) return;\n",
              "\n",
              "          const docLinkHtml = 'Like what you see? Visit the ' +\n",
              "            '<a target=\"_blank\" href=https://colab.research.google.com/notebooks/data_table.ipynb>data table notebook</a>'\n",
              "            + ' to learn more about interactive tables.';\n",
              "          element.innerHTML = '';\n",
              "          dataTable['output_type'] = 'display_data';\n",
              "          await google.colab.output.renderOutput(dataTable, element);\n",
              "          const docLink = document.createElement('div');\n",
              "          docLink.innerHTML = docLinkHtml;\n",
              "          element.appendChild(docLink);\n",
              "        }\n",
              "      </script>\n",
              "    </div>\n",
              "  </div>\n",
              "  "
            ]
          },
          "metadata": {},
          "execution_count": 110
        }
      ]
    },
    {
      "cell_type": "code",
      "source": [
        "pairs1 = list(itertools.chain(*pairs))\n",
        "pairs1 = ((Counter(pairs1).most_common()))\n",
        "error_corrections, ec_counts = list(zip(*pairs1))\n",
        "ec_counts = np.array(ec_counts)"
      ],
      "metadata": {
        "id": "yYshV5quLgI_"
      },
      "execution_count": 115,
      "outputs": []
    },
    {
      "cell_type": "code",
      "source": [
        "print(f\"# Unique mistakes: {len(error_corrections)}\")\n",
        "print(f\"# Mistakes encounetered once: {round(100 *np.where(ec_counts == 1)[0].shape[0] / len(ec_counts), 2)} percent\")\n",
        "print(f\"# Mistakes encounetered twice: {round(100 *np.where(ec_counts == 2)[0].shape[0] / len(ec_counts), 2)} percent\")\n",
        "plt.hist(ec_counts[ec_counts>2], bins=20)\n",
        "plt.title('Mistakes distribution')\n",
        "plt.show()"
      ],
      "metadata": {
        "colab": {
          "base_uri": "https://localhost:8080/",
          "height": 335
        },
        "id": "vDx6btU7M2my",
        "outputId": "29b17b75-d334-47cd-f757-a1197f84e8b8"
      },
      "execution_count": 116,
      "outputs": [
        {
          "output_type": "stream",
          "name": "stdout",
          "text": [
            "# Unique mistakes: 11492\n",
            "# Mistakes encounetered once: 87.84 percent\n",
            "# Mistakes encounetered twice: 6.96 percent\n"
          ]
        },
        {
          "output_type": "display_data",
          "data": {
            "text/plain": [
              "<Figure size 432x288 with 1 Axes>"
            ],
            "image/png": "[encoded data removed]"
          },
          "metadata": {
            "needs_background": "light"
          }
        }
      ]
    },
    {
      "cell_type": "code",
      "source": [
        "for er, cor in error_corrections[:15]:\n",
        "  print(f\"{er} >> {cor}\")"
      ],
      "metadata": {
        "colab": {
          "base_uri": "https://localhost:8080/"
        },
        "id": "rTjNK5LGPOls",
        "outputId": "26d63c59-ed78-4329-f07a-b0e928dfc06c"
      },
      "execution_count": 117,
      "outputs": [
        {
          "output_type": "stream",
          "name": "stdout",
          "text": [
            "amount >> number\n",
            "years >> years old\n",
            "then >> than\n",
            "percent >> percentage\n",
            "quantity >> number\n",
            "number >> percentage\n",
            "another >> other\n",
            "sport >> sports\n",
            "than >> then\n",
            "of >> \n",
            "which >> that\n",
            "amount >> numbers\n",
            "amount >> percentage\n",
            "different >> various\n",
            "economical >> economic\n"
          ]
        }
      ]
    },
    {
      "cell_type": "markdown",
      "source": [
        "# FCE CLC data"
      ],
      "metadata": {
        "id": "K9-nye2hWKI5"
      }
    },
    {
      "cell_type": "code",
      "source": [
        "#!wget https://github.com/yuagorshkova/realec_lexical_error_correction/blob/main/FCE_texts.zip\n",
        "#!unzip FCE_texts.zip -d FCE_texts"
      ],
      "metadata": {
        "id": "zis5osMdWQAm"
      },
      "execution_count": 7,
      "outputs": []
    },
    {
      "cell_type": "code",
      "source": [
        "with open('FCE_texts/fce_source_texts.txt') as f:\n",
        "  source_texts = f.readlines()\n",
        "with open('FCE_texts/fce_target_texts.txt') as f:\n",
        "  target_texts = f.readlines()\n",
        "print(len(source_texts), len(target_texts))"
      ],
      "metadata": {
        "colab": {
          "base_uri": "https://localhost:8080/"
        },
        "id": "T3IAicro5l5C",
        "outputId": "c3919ee0-1f63-452e-afa2-58955094a0ac"
      },
      "execution_count": 39,
      "outputs": [
        {
          "output_type": "stream",
          "name": "stdout",
          "text": [
            "15987 15987\n"
          ]
        }
      ]
    },
    {
      "cell_type": "markdown",
      "source": [
        "Исключим ошибки в пунктуации --  в первую очередь в делении на предложения."
      ],
      "metadata": {
        "id": "rblWbo85BIqA"
      }
    },
    {
      "cell_type": "code",
      "source": [
        "_tokenize_fce_line = lambda x: sent_tokenize(x.strip())\n",
        "def fce_preprocess(source_target_pair):\n",
        "  source_sents, target_sents = list(map(_tokenize_fce_line, source_target_pair))\n",
        "  if len(source_sents) == len(target_sents):\n",
        "    return source_sents, target_sents\n",
        "  else:\n",
        "    return [], []\n",
        "\n",
        "source_sents, target_sents = list(zip(*list(map(fce_preprocess, list(zip(source_texts, target_texts))))))\n",
        "target_sents = list(itertools.chain(*target_sents))\n",
        "source_sents = list(itertools.chain(*source_sents))\n",
        "print(len(source_sents), len(target_sents))"
      ],
      "metadata": {
        "colab": {
          "base_uri": "https://localhost:8080/"
        },
        "id": "Cnl2r60eAzQx",
        "outputId": "32ad5582-75a4-4365-ef1c-351ec6188553"
      },
      "execution_count": 45,
      "outputs": [
        {
          "output_type": "stream",
          "name": "stdout",
          "text": [
            "29624 29624\n"
          ]
        }
      ]
    },
    {
      "cell_type": "code",
      "source": [
        "def preprocess_text(text):\n",
        "  text = text.lower()\n",
        "  text = text.replace('%', ' percent ')\n",
        "  text = text.replace('+', ' plus ')\n",
        "  text = re.sub(r'  +', ' ', text)\n",
        "  return text\n",
        "\n",
        "source_sents = list(map(preprocess_text, source_sents))\n",
        "target_sents = list(map(preprocess_text, target_sents))"
      ],
      "metadata": {
        "id": "75NdXQWp5lyb"
      },
      "execution_count": 46,
      "outputs": []
    },
    {
      "cell_type": "code",
      "source": [
        "token_len = lambda s: len(word_tokenize(s))\n",
        "source_sents_lens = np.array(list(map(token_len, source_sents)))\n",
        "target_sents_lens = np.array(list(map(token_len, target_sents)))\n",
        "\n",
        "thr = 63\n",
        "n_sent = source_sents_lens.shape[0]\n",
        "X_n = source_sents_lens[source_sents_lens > thr].shape[0]\n",
        "y_n = target_sents_lens[target_sents_lens > thr].shape[0]\n",
        "indices_to_drop = np.union1d(np.where(source_sents_lens > thr)[0], \n",
        "                             np.where(target_sents_lens > thr)[0])\n",
        "together_n = indices_to_drop.shape[0]\n",
        "print(f\"# source sentences longer than {thr} words: {X_n}\", \" (%.2f percent)\"%(100* X_n/n_sent))\n",
        "print(f\"# target sentences longer than {thr} words: {y_n}\", \" (%.2f percent)\"%(100* y_n/n_sent))\n",
        "print(f\"# examples longer than {thr} words: {together_n}\", \" (%.2f percent)\"%(100* together_n/n_sent))"
      ],
      "metadata": {
        "colab": {
          "base_uri": "https://localhost:8080/"
        },
        "id": "2VEMZoH_Fohw",
        "outputId": "35cd430c-d07b-4816-a6bd-76bfea00bb89"
      },
      "execution_count": 47,
      "outputs": [
        {
          "output_type": "stream",
          "name": "stdout",
          "text": [
            "# source sentences longer than 63 words: 27  (0.09 percent)\n",
            "# target sentences longer than 63 words: 29  (0.10 percent)\n",
            "# examples longer than 63 words: 31  (0.10 percent)\n"
          ]
        }
      ]
    },
    {
      "cell_type": "code",
      "source": [
        "fce_X = np.delete(source_sents, indices_to_drop)\n",
        "fce_y = np.delete(target_sents, indices_to_drop)\n",
        "\n",
        "fce_X.shape, fce_y.shape"
      ],
      "metadata": {
        "colab": {
          "base_uri": "https://localhost:8080/"
        },
        "id": "A-kGVq3nGB4p",
        "outputId": "3f4fb181-a221-4f8c-b3e7-a256247f2559"
      },
      "execution_count": 52,
      "outputs": [
        {
          "output_type": "execute_result",
          "data": {
            "text/plain": [
              "((29593,), (29593,))"
            ]
          },
          "metadata": {},
          "execution_count": 52
        }
      ]
    },
    {
      "cell_type": "code",
      "source": [
        "correct = np.array([fce_X[i] == fce_y[i] for i in range(fce_X.shape[0])])\n",
        "num_correct = sum(correct)\n",
        "print(f\"Out of {fce_X.shape[0]} sentences {num_correct} are correct ({round(100 * num_correct / fce_X.shape[0], 2)} percent),\\\n",
        "{fce_X.shape[0] - num_correct} contain mistakes ({100 - round(100 * num_correct / fce_X.shape[0], 2)} percent).\")"
      ],
      "metadata": {
        "colab": {
          "base_uri": "https://localhost:8080/"
        },
        "id": "eRiIwwfKGYEg",
        "outputId": "b652ac71-cba4-4aed-ce27-5cb0d2b3e06c"
      },
      "execution_count": 121,
      "outputs": [
        {
          "output_type": "stream",
          "name": "stdout",
          "text": [
            "Out of 29593 sentences 12010 are correct (40.58 percent),17583 contain mistakes (59.42 percent).\n"
          ]
        }
      ]
    },
    {
      "cell_type": "code",
      "source": [
        "correct_indices = np.where(correct)[0]\n",
        "incorrect_indices = np.where(~correct)[0]\n",
        "\n",
        "data = pd.DataFrame({'source':fce_X[correct_indices], 'target':fce_y[correct_indices]})\n",
        "data.to_csv('correct_data.csv', index=False)\n",
        "\n",
        "data = pd.DataFrame({'source':fce_X[incorrect_indices], 'target':fce_y[incorrect_indices]})\n",
        "data.to_csv('fce_data.csv', index=False)"
      ],
      "metadata": {
        "id": "nty5zhZuKDTO"
      },
      "execution_count": 123,
      "outputs": []
    },
    {
      "cell_type": "markdown",
      "source": [
        "# Загрузка данных, общая информация о корпусах"
      ],
      "metadata": {
        "id": "vBx1xEBuMLsh"
      }
    },
    {
      "cell_type": "code",
      "source": [
        "!wget https://raw.githubusercontent.com/yuagorshkova/realec_lexical_error_correction/main/realec_data.csv\n",
        "!wget https://raw.githubusercontent.com/yuagorshkova/realec_lexical_error_correction/main/correct_data.csv\n",
        "!wget https://raw.githubusercontent.com/yuagorshkova/realec_lexical_error_correction/main/fce_data.csv"
      ],
      "metadata": {
        "colab": {
          "base_uri": "https://localhost:8080/"
        },
        "id": "xso0oN_OMRZU",
        "outputId": "cf1a0a14-cbed-4423-c9c5-13115d983f73"
      },
      "execution_count": 4,
      "outputs": [
        {
          "output_type": "stream",
          "name": "stdout",
          "text": [
            "--2022-05-26 23:48:19--  https://raw.githubusercontent.com/yuagorshkova/realec_lexical_error_correction/main/realec_data.csv\n",
            "Resolving raw.githubusercontent.com (raw.githubusercontent.com)... 185.199.108.133, 185.199.109.133, 185.199.110.133, ...\n",
            "Connecting to raw.githubusercontent.com (raw.githubusercontent.com)|185.199.108.133|:443... connected.\n",
            "HTTP request sent, awaiting response... 200 OK\n",
            "Length: 3230746 (3.1M) [text/plain]\n",
            "Saving to: ‘realec_data.csv.4’\n",
            "\n",
            "realec_data.csv.4   100%[===================>]   3.08M  --.-KB/s    in 0.07s   \n",
            "\n",
            "2022-05-26 23:48:19 (44.7 MB/s) - ‘realec_data.csv.4’ saved [3230746/3230746]\n",
            "\n",
            "--2022-05-26 23:48:19--  https://raw.githubusercontent.com/yuagorshkova/realec_lexical_error_correction/main/correct_data.csv\n",
            "Resolving raw.githubusercontent.com (raw.githubusercontent.com)... 185.199.111.133, 185.199.110.133, 185.199.108.133, ...\n",
            "Connecting to raw.githubusercontent.com (raw.githubusercontent.com)|185.199.111.133|:443... connected.\n",
            "HTTP request sent, awaiting response... 200 OK\n",
            "Length: 1121526 (1.1M) [text/plain]\n",
            "Saving to: ‘correct_data.csv.4’\n",
            "\n",
            "correct_data.csv.4  100%[===================>]   1.07M  --.-KB/s    in 0.06s   \n",
            "\n",
            "2022-05-26 23:48:20 (18.9 MB/s) - ‘correct_data.csv.4’ saved [1121526/1121526]\n",
            "\n",
            "--2022-05-26 23:48:20--  https://raw.githubusercontent.com/yuagorshkova/realec_lexical_error_correction/main/fce_data.csv\n",
            "Resolving raw.githubusercontent.com (raw.githubusercontent.com)... 185.199.110.133, 185.199.109.133, 185.199.111.133, ...\n",
            "Connecting to raw.githubusercontent.com (raw.githubusercontent.com)|185.199.110.133|:443... connected.\n",
            "HTTP request sent, awaiting response... 200 OK\n",
            "Length: 3154841 (3.0M) [text/plain]\n",
            "Saving to: ‘fce_data.csv.4’\n",
            "\n",
            "fce_data.csv.4      100%[===================>]   3.01M  --.-KB/s    in 0.07s   \n",
            "\n",
            "2022-05-26 23:48:20 (43.5 MB/s) - ‘fce_data.csv.4’ saved [3154841/3154841]\n",
            "\n"
          ]
        }
      ]
    },
    {
      "cell_type": "code",
      "source": [
        "correct_data = pd.read_csv('correct_data.csv')\n",
        "correct_X, correct_y = correct_data['source'].to_numpy(), correct_data['target'].to_numpy()\n",
        "print(correct_data.shape)\n",
        "correct_data.sample(2)"
      ],
      "metadata": {
        "colab": {
          "base_uri": "https://localhost:8080/",
          "height": 0
        },
        "id": "kV34jh5NMWGX",
        "outputId": "8ca0a213-dd24-4b7a-d0e6-450855fb6d5b"
      },
      "execution_count": 5,
      "outputs": [
        {
          "output_type": "stream",
          "name": "stdout",
          "text": [
            "(12010, 2)\n"
          ]
        },
        {
          "output_type": "execute_result",
          "data": {
            "text/plain": [
              "                                                 source  \\\n",
              "9474  i bought a ticket for the \"over the rainbow\" m...   \n",
              "4726                                 what do you think?   \n",
              "\n",
              "                                                 target  \n",
              "9474  i bought a ticket for the \"over the rainbow\" m...  \n",
              "4726                                 what do you think?  "
            ],
            "text/html": [
              "\n",
              "  <div id=\"df-990596bf-1a2d-4bad-a9ef-bf0b5afc7d11\">\n",
              "    <div class=\"colab-df-container\">\n",
              "      <div>\n",
              "<style scoped>\n",
              "    .dataframe tbody tr th:only-of-type {\n",
              "        vertical-align: middle;\n",
              "    }\n",
              "\n",
              "    .dataframe tbody tr th {\n",
              "        vertical-align: top;\n",
              "    }\n",
              "\n",
              "    .dataframe thead th {\n",
              "        text-align: right;\n",
              "    }\n",
              "</style>\n",
              "<table border=\"1\" class=\"dataframe\">\n",
              "  <thead>\n",
              "    <tr style=\"text-align: right;\">\n",
              "      <th></th>\n",
              "      <th>source</th>\n",
              "      <th>target</th>\n",
              "    </tr>\n",
              "  </thead>\n",
              "  <tbody>\n",
              "    <tr>\n",
              "      <th>9474</th>\n",
              "      <td>i bought a ticket for the \"over the rainbow\" m...</td>\n",
              "      <td>i bought a ticket for the \"over the rainbow\" m...</td>\n",
              "    </tr>\n",
              "    <tr>\n",
              "      <th>4726</th>\n",
              "      <td>what do you think?</td>\n",
              "      <td>what do you think?</td>\n",
              "    </tr>\n",
              "  </tbody>\n",
              "</table>\n",
              "</div>\n",
              "      <button class=\"colab-df-convert\" onclick=\"convertToInteractive('df-990596bf-1a2d-4bad-a9ef-bf0b5afc7d11')\"\n",
              "              title=\"Convert this dataframe to an interactive table.\"\n",
              "              style=\"display:none;\">\n",
              "        \n",
              "  <svg xmlns=\"http://www.w3.org/2000/svg\" height=\"24px\"viewBox=\"0 0 24 24\"\n",
              "       width=\"24px\">\n",
              "    <path d=\"M0 0h24v24H0V0z\" fill=\"none\"/>\n",
              "    <path d=\"M18.56 5.44l.94 2.06.94-2.06 2.06-.94-2.06-.94-.94-2.06-.94 2.06-2.06.94zm-11 1L8.5 8.5l.94-2.06 2.06-.94-2.06-.94L8.5 2.5l-.94 2.06-2.06.94zm10 10l.94 2.06.94-2.06 2.06-.94-2.06-.94-.94-2.06-.94 2.06-2.06.94z\"/><path d=\"M17.41 7.96l-1.37-1.37c-.4-.4-.92-.59-1.43-.59-.52 0-1.04.2-1.43.59L10.3 9.45l-7.72 7.72c-.78.78-.78 2.05 0 2.83L4 21.41c.39.39.9.59 1.41.59.51 0 1.02-.2 1.41-.59l7.78-7.78 2.81-2.81c.8-.78.8-2.07 0-2.86zM5.41 20L4 18.59l7.72-7.72 1.47 1.35L5.41 20z\"/>\n",
              "  </svg>\n",
              "      </button>\n",
              "      \n",
              "  <style>\n",
              "    .colab-df-container {\n",
              "      display:flex;\n",
              "      flex-wrap:wrap;\n",
              "      gap: 12px;\n",
              "    }\n",
              "\n",
              "    .colab-df-convert {\n",
              "      background-color: #E8F0FE;\n",
              "      border: none;\n",
              "      border-radius: 50%;\n",
              "      cursor: pointer;\n",
              "      display: none;\n",
              "      fill: #1967D2;\n",
              "      height: 32px;\n",
              "      padding: 0 0 0 0;\n",
              "      width: 32px;\n",
              "    }\n",
              "\n",
              "    .colab-df-convert:hover {\n",
              "      background-color: #E2EBFA;\n",
              "      box-shadow: 0px 1px 2px rgba(60, 64, 67, 0.3), 0px 1px 3px 1px rgba(60, 64, 67, 0.15);\n",
              "      fill: #174EA6;\n",
              "    }\n",
              "\n",
              "    [theme=dark] .colab-df-convert {\n",
              "      background-color: #3B4455;\n",
              "      fill: #D2E3FC;\n",
              "    }\n",
              "\n",
              "    [theme=dark] .colab-df-convert:hover {\n",
              "      background-color: #434B5C;\n",
              "      box-shadow: 0px 1px 3px 1px rgba(0, 0, 0, 0.15);\n",
              "      filter: drop-shadow(0px 1px 2px rgba(0, 0, 0, 0.3));\n",
              "      fill: #FFFFFF;\n",
              "    }\n",
              "  </style>\n",
              "\n",
              "      <script>\n",
              "        const buttonEl =\n",
              "          document.querySelector('#df-990596bf-1a2d-4bad-a9ef-bf0b5afc7d11 button.colab-df-convert');\n",
              "        buttonEl.style.display =\n",
              "          google.colab.kernel.accessAllowed ? 'block' : 'none';\n",
              "\n",
              "        async function convertToInteractive(key) {\n",
              "          const element = document.querySelector('#df-990596bf-1a2d-4bad-a9ef-bf0b5afc7d11');\n",
              "          const dataTable =\n",
              "            await google.colab.kernel.invokeFunction('convertToInteractive',\n",
              "                                                     [key], {});\n",
              "          if (!dataTable) return;\n",
              "\n",
              "          const docLinkHtml = 'Like what you see? Visit the ' +\n",
              "            '<a target=\"_blank\" href=https://colab.research.google.com/notebooks/data_table.ipynb>data table notebook</a>'\n",
              "            + ' to learn more about interactive tables.';\n",
              "          element.innerHTML = '';\n",
              "          dataTable['output_type'] = 'display_data';\n",
              "          await google.colab.output.renderOutput(dataTable, element);\n",
              "          const docLink = document.createElement('div');\n",
              "          docLink.innerHTML = docLinkHtml;\n",
              "          element.appendChild(docLink);\n",
              "        }\n",
              "      </script>\n",
              "    </div>\n",
              "  </div>\n",
              "  "
            ]
          },
          "metadata": {},
          "execution_count": 5
        }
      ]
    },
    {
      "cell_type": "code",
      "source": [
        "realec_data = pd.read_csv('realec_data.csv')\n",
        "realec_X, realec_y = realec_data['source'].to_numpy(), realec_data['target'].to_numpy()\n",
        "print(realec_data.shape)\n",
        "realec_data.sample(2)"
      ],
      "metadata": {
        "colab": {
          "base_uri": "https://localhost:8080/",
          "height": 0
        },
        "id": "UgXJzpWLMTxa",
        "outputId": "e3ee33d4-2560-4f12-ffb7-d3e9bb989ca2"
      },
      "execution_count": 6,
      "outputs": [
        {
          "output_type": "stream",
          "name": "stdout",
          "text": [
            "(12711, 2)\n"
          ]
        },
        {
          "output_type": "execute_result",
          "data": {
            "text/plain": [
              "                                                 source  \\\n",
              "3263  furthermore, twice shorter lines of paris syst...   \n",
              "6417  moreover, there is no way to overcome internet...   \n",
              "\n",
              "                                                 target  \n",
              "3263  furthermore, twice shorter lines of paris syst...  \n",
              "6417  moreover, there is no way to overcome internet...  "
            ],
            "text/html": [
              "\n",
              "  <div id=\"df-7f1509ff-59cb-4b12-9521-956448954d4b\">\n",
              "    <div class=\"colab-df-container\">\n",
              "      <div>\n",
              "<style scoped>\n",
              "    .dataframe tbody tr th:only-of-type {\n",
              "        vertical-align: middle;\n",
              "    }\n",
              "\n",
              "    .dataframe tbody tr th {\n",
              "        vertical-align: top;\n",
              "    }\n",
              "\n",
              "    .dataframe thead th {\n",
              "        text-align: right;\n",
              "    }\n",
              "</style>\n",
              "<table border=\"1\" class=\"dataframe\">\n",
              "  <thead>\n",
              "    <tr style=\"text-align: right;\">\n",
              "      <th></th>\n",
              "      <th>source</th>\n",
              "      <th>target</th>\n",
              "    </tr>\n",
              "  </thead>\n",
              "  <tbody>\n",
              "    <tr>\n",
              "      <th>3263</th>\n",
              "      <td>furthermore, twice shorter lines of paris syst...</td>\n",
              "      <td>furthermore, twice shorter lines of paris syst...</td>\n",
              "    </tr>\n",
              "    <tr>\n",
              "      <th>6417</th>\n",
              "      <td>moreover, there is no way to overcome internet...</td>\n",
              "      <td>moreover, there is no way to overcome internet...</td>\n",
              "    </tr>\n",
              "  </tbody>\n",
              "</table>\n",
              "</div>\n",
              "      <button class=\"colab-df-convert\" onclick=\"convertToInteractive('df-7f1509ff-59cb-4b12-9521-956448954d4b')\"\n",
              "              title=\"Convert this dataframe to an interactive table.\"\n",
              "              style=\"display:none;\">\n",
              "        \n",
              "  <svg xmlns=\"http://www.w3.org/2000/svg\" height=\"24px\"viewBox=\"0 0 24 24\"\n",
              "       width=\"24px\">\n",
              "    <path d=\"M0 0h24v24H0V0z\" fill=\"none\"/>\n",
              "    <path d=\"M18.56 5.44l.94 2.06.94-2.06 2.06-.94-2.06-.94-.94-2.06-.94 2.06-2.06.94zm-11 1L8.5 8.5l.94-2.06 2.06-.94-2.06-.94L8.5 2.5l-.94 2.06-2.06.94zm10 10l.94 2.06.94-2.06 2.06-.94-2.06-.94-.94-2.06-.94 2.06-2.06.94z\"/><path d=\"M17.41 7.96l-1.37-1.37c-.4-.4-.92-.59-1.43-.59-.52 0-1.04.2-1.43.59L10.3 9.45l-7.72 7.72c-.78.78-.78 2.05 0 2.83L4 21.41c.39.39.9.59 1.41.59.51 0 1.02-.2 1.41-.59l7.78-7.78 2.81-2.81c.8-.78.8-2.07 0-2.86zM5.41 20L4 18.59l7.72-7.72 1.47 1.35L5.41 20z\"/>\n",
              "  </svg>\n",
              "      </button>\n",
              "      \n",
              "  <style>\n",
              "    .colab-df-container {\n",
              "      display:flex;\n",
              "      flex-wrap:wrap;\n",
              "      gap: 12px;\n",
              "    }\n",
              "\n",
              "    .colab-df-convert {\n",
              "      background-color: #E8F0FE;\n",
              "      border: none;\n",
              "      border-radius: 50%;\n",
              "      cursor: pointer;\n",
              "      display: none;\n",
              "      fill: #1967D2;\n",
              "      height: 32px;\n",
              "      padding: 0 0 0 0;\n",
              "      width: 32px;\n",
              "    }\n",
              "\n",
              "    .colab-df-convert:hover {\n",
              "      background-color: #E2EBFA;\n",
              "      box-shadow: 0px 1px 2px rgba(60, 64, 67, 0.3), 0px 1px 3px 1px rgba(60, 64, 67, 0.15);\n",
              "      fill: #174EA6;\n",
              "    }\n",
              "\n",
              "    [theme=dark] .colab-df-convert {\n",
              "      background-color: #3B4455;\n",
              "      fill: #D2E3FC;\n",
              "    }\n",
              "\n",
              "    [theme=dark] .colab-df-convert:hover {\n",
              "      background-color: #434B5C;\n",
              "      box-shadow: 0px 1px 3px 1px rgba(0, 0, 0, 0.15);\n",
              "      filter: drop-shadow(0px 1px 2px rgba(0, 0, 0, 0.3));\n",
              "      fill: #FFFFFF;\n",
              "    }\n",
              "  </style>\n",
              "\n",
              "      <script>\n",
              "        const buttonEl =\n",
              "          document.querySelector('#df-7f1509ff-59cb-4b12-9521-956448954d4b button.colab-df-convert');\n",
              "        buttonEl.style.display =\n",
              "          google.colab.kernel.accessAllowed ? 'block' : 'none';\n",
              "\n",
              "        async function convertToInteractive(key) {\n",
              "          const element = document.querySelector('#df-7f1509ff-59cb-4b12-9521-956448954d4b');\n",
              "          const dataTable =\n",
              "            await google.colab.kernel.invokeFunction('convertToInteractive',\n",
              "                                                     [key], {});\n",
              "          if (!dataTable) return;\n",
              "\n",
              "          const docLinkHtml = 'Like what you see? Visit the ' +\n",
              "            '<a target=\"_blank\" href=https://colab.research.google.com/notebooks/data_table.ipynb>data table notebook</a>'\n",
              "            + ' to learn more about interactive tables.';\n",
              "          element.innerHTML = '';\n",
              "          dataTable['output_type'] = 'display_data';\n",
              "          await google.colab.output.renderOutput(dataTable, element);\n",
              "          const docLink = document.createElement('div');\n",
              "          docLink.innerHTML = docLinkHtml;\n",
              "          element.appendChild(docLink);\n",
              "        }\n",
              "      </script>\n",
              "    </div>\n",
              "  </div>\n",
              "  "
            ]
          },
          "metadata": {},
          "execution_count": 6
        }
      ]
    },
    {
      "cell_type": "code",
      "source": [
        "fce_data = pd.read_csv('fce_data.csv')\n",
        "fce_X, fce_y = fce_data['source'].to_numpy(), fce_data['target'].to_numpy()\n",
        "print(fce_data.shape)\n",
        "fce_data.sample(2)"
      ],
      "metadata": {
        "colab": {
          "base_uri": "https://localhost:8080/",
          "height": 0
        },
        "id": "G2C6LkihMct_",
        "outputId": "7c4490a5-49f3-4cea-d616-85a49462afa9"
      },
      "execution_count": 7,
      "outputs": [
        {
          "output_type": "stream",
          "name": "stdout",
          "text": [
            "(17583, 2)\n"
          ]
        },
        {
          "output_type": "execute_result",
          "data": {
            "text/plain": [
              "                                                  source  \\\n",
              "9912   our lessons start at 8 a.m and we aren't allow...   \n",
              "16905  i am quite good at singing and i have a talent...   \n",
              "\n",
              "                                                  target  \n",
              "9912   our lessons start at 8 am and we aren't allowe...  \n",
              "16905  i am quite good at singing and i have a talent...  "
            ],
            "text/html": [
              "\n",
              "  <div id=\"df-4e0a8a5f-f178-41ac-a158-d873c2ac4f1b\">\n",
              "    <div class=\"colab-df-container\">\n",
              "      <div>\n",
              "<style scoped>\n",
              "    .dataframe tbody tr th:only-of-type {\n",
              "        vertical-align: middle;\n",
              "    }\n",
              "\n",
              "    .dataframe tbody tr th {\n",
              "        vertical-align: top;\n",
              "    }\n",
              "\n",
              "    .dataframe thead th {\n",
              "        text-align: right;\n",
              "    }\n",
              "</style>\n",
              "<table border=\"1\" class=\"dataframe\">\n",
              "  <thead>\n",
              "    <tr style=\"text-align: right;\">\n",
              "      <th></th>\n",
              "      <th>source</th>\n",
              "      <th>target</th>\n",
              "    </tr>\n",
              "  </thead>\n",
              "  <tbody>\n",
              "    <tr>\n",
              "      <th>9912</th>\n",
              "      <td>our lessons start at 8 a.m and we aren't allow...</td>\n",
              "      <td>our lessons start at 8 am and we aren't allowe...</td>\n",
              "    </tr>\n",
              "    <tr>\n",
              "      <th>16905</th>\n",
              "      <td>i am quite good at singing and i have a talent...</td>\n",
              "      <td>i am quite good at singing and i have a talent...</td>\n",
              "    </tr>\n",
              "  </tbody>\n",
              "</table>\n",
              "</div>\n",
              "      <button class=\"colab-df-convert\" onclick=\"convertToInteractive('df-4e0a8a5f-f178-41ac-a158-d873c2ac4f1b')\"\n",
              "              title=\"Convert this dataframe to an interactive table.\"\n",
              "              style=\"display:none;\">\n",
              "        \n",
              "  <svg xmlns=\"http://www.w3.org/2000/svg\" height=\"24px\"viewBox=\"0 0 24 24\"\n",
              "       width=\"24px\">\n",
              "    <path d=\"M0 0h24v24H0V0z\" fill=\"none\"/>\n",
              "    <path d=\"M18.56 5.44l.94 2.06.94-2.06 2.06-.94-2.06-.94-.94-2.06-.94 2.06-2.06.94zm-11 1L8.5 8.5l.94-2.06 2.06-.94-2.06-.94L8.5 2.5l-.94 2.06-2.06.94zm10 10l.94 2.06.94-2.06 2.06-.94-2.06-.94-.94-2.06-.94 2.06-2.06.94z\"/><path d=\"M17.41 7.96l-1.37-1.37c-.4-.4-.92-.59-1.43-.59-.52 0-1.04.2-1.43.59L10.3 9.45l-7.72 7.72c-.78.78-.78 2.05 0 2.83L4 21.41c.39.39.9.59 1.41.59.51 0 1.02-.2 1.41-.59l7.78-7.78 2.81-2.81c.8-.78.8-2.07 0-2.86zM5.41 20L4 18.59l7.72-7.72 1.47 1.35L5.41 20z\"/>\n",
              "  </svg>\n",
              "      </button>\n",
              "      \n",
              "  <style>\n",
              "    .colab-df-container {\n",
              "      display:flex;\n",
              "      flex-wrap:wrap;\n",
              "      gap: 12px;\n",
              "    }\n",
              "\n",
              "    .colab-df-convert {\n",
              "      background-color: #E8F0FE;\n",
              "      border: none;\n",
              "      border-radius: 50%;\n",
              "      cursor: pointer;\n",
              "      display: none;\n",
              "      fill: #1967D2;\n",
              "      height: 32px;\n",
              "      padding: 0 0 0 0;\n",
              "      width: 32px;\n",
              "    }\n",
              "\n",
              "    .colab-df-convert:hover {\n",
              "      background-color: #E2EBFA;\n",
              "      box-shadow: 0px 1px 2px rgba(60, 64, 67, 0.3), 0px 1px 3px 1px rgba(60, 64, 67, 0.15);\n",
              "      fill: #174EA6;\n",
              "    }\n",
              "\n",
              "    [theme=dark] .colab-df-convert {\n",
              "      background-color: #3B4455;\n",
              "      fill: #D2E3FC;\n",
              "    }\n",
              "\n",
              "    [theme=dark] .colab-df-convert:hover {\n",
              "      background-color: #434B5C;\n",
              "      box-shadow: 0px 1px 3px 1px rgba(0, 0, 0, 0.15);\n",
              "      filter: drop-shadow(0px 1px 2px rgba(0, 0, 0, 0.3));\n",
              "      fill: #FFFFFF;\n",
              "    }\n",
              "  </style>\n",
              "\n",
              "      <script>\n",
              "        const buttonEl =\n",
              "          document.querySelector('#df-4e0a8a5f-f178-41ac-a158-d873c2ac4f1b button.colab-df-convert');\n",
              "        buttonEl.style.display =\n",
              "          google.colab.kernel.accessAllowed ? 'block' : 'none';\n",
              "\n",
              "        async function convertToInteractive(key) {\n",
              "          const element = document.querySelector('#df-4e0a8a5f-f178-41ac-a158-d873c2ac4f1b');\n",
              "          const dataTable =\n",
              "            await google.colab.kernel.invokeFunction('convertToInteractive',\n",
              "                                                     [key], {});\n",
              "          if (!dataTable) return;\n",
              "\n",
              "          const docLinkHtml = 'Like what you see? Visit the ' +\n",
              "            '<a target=\"_blank\" href=https://colab.research.google.com/notebooks/data_table.ipynb>data table notebook</a>'\n",
              "            + ' to learn more about interactive tables.';\n",
              "          element.innerHTML = '';\n",
              "          dataTable['output_type'] = 'display_data';\n",
              "          await google.colab.output.renderOutput(dataTable, element);\n",
              "          const docLink = document.createElement('div');\n",
              "          docLink.innerHTML = docLinkHtml;\n",
              "          element.appendChild(docLink);\n",
              "        }\n",
              "      </script>\n",
              "    </div>\n",
              "  </div>\n",
              "  "
            ]
          },
          "metadata": {},
          "execution_count": 7
        }
      ]
    },
    {
      "cell_type": "code",
      "source": [
        "token_len = lambda s: len(word_tokenize(s))\n",
        "def get_info(source_sentences, target_sentences):\n",
        "  source_sents_lens = np.array(list(map(token_len, source_sentences)))\n",
        "  target_sents_lens = np.array(list(map(token_len, target_sentences)))\n",
        "  return {'sentence_volume': len(source_sentences), \n",
        "          'source_token_volume': sum(source_sents_lens), \n",
        "          'target_token_volume': sum(target_sents_lens), \n",
        "          'source_avg_sentence_len': np.average(source_sents_lens),\n",
        "          'target_avg_sentence_len': np.average(target_sents_lens)}\n"
      ],
      "metadata": {
        "id": "y_MqK5UEM_gj"
      },
      "execution_count": 8,
      "outputs": []
    },
    {
      "cell_type": "code",
      "source": [
        "from sklearn.model_selection import train_test_split\n",
        "\n",
        "def train_test_split_dict(X, y, test_size=0.2):\n",
        "  X_train, X_test, y_train, y_test = train_test_split(X, y, test_size=test_size, shuffle=True, random_state=1)\n",
        "  return {'X_train': X_train,\n",
        "          'X_test': X_test,\n",
        "          'y_train': y_train,\n",
        "          'y_test': y_test}\n",
        "\n",
        "model_data = {\n",
        "    'realec': train_test_split_dict(realec_X, realec_y),\n",
        "    'fce': train_test_split_dict(fce_X, fce_y),\n",
        "    'correct': train_test_split_dict(correct_X, correct_y)\n",
        "}"
      ],
      "metadata": {
        "id": "F91TADLaXKxy"
      },
      "execution_count": 9,
      "outputs": []
    },
    {
      "cell_type": "code",
      "source": [
        "info = {}\n",
        "info['realec_train'] = get_info(model_data['realec']['X_train'], model_data['realec']['y_train'])\n",
        "info['realec_test'] = get_info(model_data['realec']['X_test'], model_data['realec']['y_test'])\n",
        "info['fce_train'] = get_info(model_data['fce']['X_train'], model_data['fce']['y_train'])\n",
        "info['fce_test'] = get_info(model_data['fce']['X_test'], model_data['fce']['y_test'])\n",
        "info['correct_train'] = get_info(model_data['correct']['X_train'], model_data['correct']['y_train'])\n",
        "info['correct_test'] = get_info(model_data['correct']['X_test'], model_data['correct']['y_test'])\n",
        "info = pd.DataFrame(info)\n",
        "for c in info.columns:\n",
        "  info[c] = info[c].apply(lambda x: round(x, 2))\n",
        "info"
      ],
      "metadata": {
        "colab": {
          "base_uri": "https://localhost:8080/",
          "height": 0
        },
        "id": "x2IhKHaeYZf-",
        "outputId": "de724364-ee1b-4b74-d46e-4f0882d6ffda"
      },
      "execution_count": 10,
      "outputs": [
        {
          "output_type": "execute_result",
          "data": {
            "text/plain": [
              "                         realec_train  realec_test  fce_train  fce_test  \\\n",
              "sentence_volume              10168.00      2543.00   14066.00   3517.00   \n",
              "source_token_volume         243605.00     60272.00  259621.00  64223.00   \n",
              "target_token_volume         244307.00     60400.00  264093.00  65411.00   \n",
              "source_avg_sentence_len         23.96        23.70      18.46     18.26   \n",
              "target_avg_sentence_len         24.03        23.75      18.78     18.60   \n",
              "\n",
              "                         correct_train  correct_test  \n",
              "sentence_volume                9608.00       2402.00  \n",
              "source_token_volume           94613.00      23845.00  \n",
              "target_token_volume           94613.00      23845.00  \n",
              "source_avg_sentence_len           9.85          9.93  \n",
              "target_avg_sentence_len           9.85          9.93  "
            ],
            "text/html": [
              "\n",
              "  <div id=\"df-e693c0b5-8665-4086-8fb8-c67aef7b6bdc\">\n",
              "    <div class=\"colab-df-container\">\n",
              "      <div>\n",
              "<style scoped>\n",
              "    .dataframe tbody tr th:only-of-type {\n",
              "        vertical-align: middle;\n",
              "    }\n",
              "\n",
              "    .dataframe tbody tr th {\n",
              "        vertical-align: top;\n",
              "    }\n",
              "\n",
              "    .dataframe thead th {\n",
              "        text-align: right;\n",
              "    }\n",
              "</style>\n",
              "<table border=\"1\" class=\"dataframe\">\n",
              "  <thead>\n",
              "    <tr style=\"text-align: right;\">\n",
              "      <th></th>\n",
              "      <th>realec_train</th>\n",
              "      <th>realec_test</th>\n",
              "      <th>fce_train</th>\n",
              "      <th>fce_test</th>\n",
              "      <th>correct_train</th>\n",
              "      <th>correct_test</th>\n",
              "    </tr>\n",
              "  </thead>\n",
              "  <tbody>\n",
              "    <tr>\n",
              "      <th>sentence_volume</th>\n",
              "      <td>10168.00</td>\n",
              "      <td>2543.00</td>\n",
              "      <td>14066.00</td>\n",
              "      <td>3517.00</td>\n",
              "      <td>9608.00</td>\n",
              "      <td>2402.00</td>\n",
              "    </tr>\n",
              "    <tr>\n",
              "      <th>source_token_volume</th>\n",
              "      <td>243605.00</td>\n",
              "      <td>60272.00</td>\n",
              "      <td>259621.00</td>\n",
              "      <td>64223.00</td>\n",
              "      <td>94613.00</td>\n",
              "      <td>23845.00</td>\n",
              "    </tr>\n",
              "    <tr>\n",
              "      <th>target_token_volume</th>\n",
              "      <td>244307.00</td>\n",
              "      <td>60400.00</td>\n",
              "      <td>264093.00</td>\n",
              "      <td>65411.00</td>\n",
              "      <td>94613.00</td>\n",
              "      <td>23845.00</td>\n",
              "    </tr>\n",
              "    <tr>\n",
              "      <th>source_avg_sentence_len</th>\n",
              "      <td>23.96</td>\n",
              "      <td>23.70</td>\n",
              "      <td>18.46</td>\n",
              "      <td>18.26</td>\n",
              "      <td>9.85</td>\n",
              "      <td>9.93</td>\n",
              "    </tr>\n",
              "    <tr>\n",
              "      <th>target_avg_sentence_len</th>\n",
              "      <td>24.03</td>\n",
              "      <td>23.75</td>\n",
              "      <td>18.78</td>\n",
              "      <td>18.60</td>\n",
              "      <td>9.85</td>\n",
              "      <td>9.93</td>\n",
              "    </tr>\n",
              "  </tbody>\n",
              "</table>\n",
              "</div>\n",
              "      <button class=\"colab-df-convert\" onclick=\"convertToInteractive('df-e693c0b5-8665-4086-8fb8-c67aef7b6bdc')\"\n",
              "              title=\"Convert this dataframe to an interactive table.\"\n",
              "              style=\"display:none;\">\n",
              "        \n",
              "  <svg xmlns=\"http://www.w3.org/2000/svg\" height=\"24px\"viewBox=\"0 0 24 24\"\n",
              "       width=\"24px\">\n",
              "    <path d=\"M0 0h24v24H0V0z\" fill=\"none\"/>\n",
              "    <path d=\"M18.56 5.44l.94 2.06.94-2.06 2.06-.94-2.06-.94-.94-2.06-.94 2.06-2.06.94zm-11 1L8.5 8.5l.94-2.06 2.06-.94-2.06-.94L8.5 2.5l-.94 2.06-2.06.94zm10 10l.94 2.06.94-2.06 2.06-.94-2.06-.94-.94-2.06-.94 2.06-2.06.94z\"/><path d=\"M17.41 7.96l-1.37-1.37c-.4-.4-.92-.59-1.43-.59-.52 0-1.04.2-1.43.59L10.3 9.45l-7.72 7.72c-.78.78-.78 2.05 0 2.83L4 21.41c.39.39.9.59 1.41.59.51 0 1.02-.2 1.41-.59l7.78-7.78 2.81-2.81c.8-.78.8-2.07 0-2.86zM5.41 20L4 18.59l7.72-7.72 1.47 1.35L5.41 20z\"/>\n",
              "  </svg>\n",
              "      </button>\n",
              "      \n",
              "  <style>\n",
              "    .colab-df-container {\n",
              "      display:flex;\n",
              "      flex-wrap:wrap;\n",
              "      gap: 12px;\n",
              "    }\n",
              "\n",
              "    .colab-df-convert {\n",
              "      background-color: #E8F0FE;\n",
              "      border: none;\n",
              "      border-radius: 50%;\n",
              "      cursor: pointer;\n",
              "      display: none;\n",
              "      fill: #1967D2;\n",
              "      height: 32px;\n",
              "      padding: 0 0 0 0;\n",
              "      width: 32px;\n",
              "    }\n",
              "\n",
              "    .colab-df-convert:hover {\n",
              "      background-color: #E2EBFA;\n",
              "      box-shadow: 0px 1px 2px rgba(60, 64, 67, 0.3), 0px 1px 3px 1px rgba(60, 64, 67, 0.15);\n",
              "      fill: #174EA6;\n",
              "    }\n",
              "\n",
              "    [theme=dark] .colab-df-convert {\n",
              "      background-color: #3B4455;\n",
              "      fill: #D2E3FC;\n",
              "    }\n",
              "\n",
              "    [theme=dark] .colab-df-convert:hover {\n",
              "      background-color: #434B5C;\n",
              "      box-shadow: 0px 1px 3px 1px rgba(0, 0, 0, 0.15);\n",
              "      filter: drop-shadow(0px 1px 2px rgba(0, 0, 0, 0.3));\n",
              "      fill: #FFFFFF;\n",
              "    }\n",
              "  </style>\n",
              "\n",
              "      <script>\n",
              "        const buttonEl =\n",
              "          document.querySelector('#df-e693c0b5-8665-4086-8fb8-c67aef7b6bdc button.colab-df-convert');\n",
              "        buttonEl.style.display =\n",
              "          google.colab.kernel.accessAllowed ? 'block' : 'none';\n",
              "\n",
              "        async function convertToInteractive(key) {\n",
              "          const element = document.querySelector('#df-e693c0b5-8665-4086-8fb8-c67aef7b6bdc');\n",
              "          const dataTable =\n",
              "            await google.colab.kernel.invokeFunction('convertToInteractive',\n",
              "                                                     [key], {});\n",
              "          if (!dataTable) return;\n",
              "\n",
              "          const docLinkHtml = 'Like what you see? Visit the ' +\n",
              "            '<a target=\"_blank\" href=https://colab.research.google.com/notebooks/data_table.ipynb>data table notebook</a>'\n",
              "            + ' to learn more about interactive tables.';\n",
              "          element.innerHTML = '';\n",
              "          dataTable['output_type'] = 'display_data';\n",
              "          await google.colab.output.renderOutput(dataTable, element);\n",
              "          const docLink = document.createElement('div');\n",
              "          docLink.innerHTML = docLinkHtml;\n",
              "          element.appendChild(docLink);\n",
              "        }\n",
              "      </script>\n",
              "    </div>\n",
              "  </div>\n",
              "  "
            ]
          },
          "metadata": {},
          "execution_count": 10
        }
      ]
    },
    {
      "cell_type": "markdown",
      "source": [
        "# Архитектура seq2seq\n"
      ],
      "metadata": {
        "id": "dQhHiEoUDcdI"
      }
    },
    {
      "cell_type": "code",
      "source": [
        "%env CUDA_LAUNCH_BLOCKING=1"
      ],
      "metadata": {
        "colab": {
          "base_uri": "https://localhost:8080/"
        },
        "id": "V8bDyt-HoAj3",
        "outputId": "29dfbc98-d4ce-4f52-9383-e3f9e289dbbb"
      },
      "execution_count": 11,
      "outputs": [
        {
          "output_type": "stream",
          "name": "stdout",
          "text": [
            "env: CUDA_LAUNCH_BLOCKING=1\n"
          ]
        }
      ]
    },
    {
      "cell_type": "code",
      "source": [
        "import os\n",
        "import numpy as np\n",
        "import datetime\n",
        "\n",
        "from collections import Counter\n",
        "\n",
        "import torch\n",
        "import torch.nn as nn\n",
        "from torch.autograd import Variable\n",
        "from torch import optim\n",
        "import torch.nn.functional as F\n",
        "from torch.utils.data import Dataset, DataLoader\n",
        "\n",
        "import copy"
      ],
      "metadata": {
        "id": "9upxJMb8PCrN"
      },
      "execution_count": 12,
      "outputs": []
    },
    {
      "cell_type": "code",
      "source": [
        "torch.manual_seed(1)\n",
        "if torch.cuda.is_available():\n",
        "  print('Using cuda')\n",
        "  device = torch.device(\"cuda\")\n",
        "  torch.cuda.manual_seed_all(1)\n",
        "else:\n",
        "  print('Using cpu')\n",
        "  device = torch.device(\"cpu\")\n",
        "\n",
        "n_gpu = torch.cuda.device_count()\n",
        "print(torch.__version__)\n",
        "print(device)"
      ],
      "metadata": {
        "colab": {
          "base_uri": "https://localhost:8080/"
        },
        "id": "s80gFEbvbMGy",
        "outputId": "01dbd7a0-c8f0-4514-dc23-d8fa219488c2"
      },
      "execution_count": 13,
      "outputs": [
        {
          "output_type": "stream",
          "name": "stdout",
          "text": [
            "Using cuda\n",
            "1.11.0+cu113\n",
            "cuda\n"
          ]
        }
      ]
    },
    {
      "cell_type": "markdown",
      "source": [
        "## define architecture"
      ],
      "metadata": {
        "id": "wp0MdEFITAJZ"
      }
    },
    {
      "cell_type": "markdown",
      "source": [
        "#### Dataset + collate fn"
      ],
      "metadata": {
        "id": "4KsAI4tpY-1u"
      }
    },
    {
      "cell_type": "code",
      "source": [
        "class AttrDict(dict):\n",
        "  \"\"\" Access dictionary keys like attributes\n",
        "      https://stackoverflow.com/questions/4984647/accessing-dict-keys-like-an-attribute\n",
        "  \"\"\"\n",
        "  def __init__(self, *args, **kwargs):\n",
        "    dict.__init__(self, *args, **kwargs)\n",
        "    self.__dict__ = self\n",
        "\n",
        "def log_info(message, type='INFO'):\n",
        "  print(f\"{type}\\t{str(datetime.datetime.today()).split('.')[0]}\\t{message}\")\n",
        "\n",
        "\n",
        "PAD = 0\n",
        "BOS = 1\n",
        "EOS = 2\n",
        "UNK = 3\n",
        "PUNCT = 4\n",
        "NUM = 5\n",
        "UTILITY_TOKENS = {PAD:'<PAD>', BOS:'<BOS>', EOS:'<EOS>', UNK:'<UNK>', PUNCT:'<PUNCT>', NUM:'<NUM>'}\n",
        "\n",
        "def token_mapper(token):\n",
        "  if token.isalpha():\n",
        "    return token\n",
        "  elif token.isdigit():\n",
        "    return \"<NUM>\"\n",
        "  else:\n",
        "    return \"<PUNCT>\"\n",
        "\n",
        "class LECDataset(Dataset):\n",
        "  \n",
        "  def __init__(self, \n",
        "               source,\n",
        "               target,\n",
        "               vocab=None, \n",
        "               max_vocab_size=50000):\n",
        "    self.word_tokenizer = word_tokenize\n",
        "    self.max_vocab_size = max_vocab_size\n",
        "\n",
        "    log_info('Loading source sentences')\n",
        "    self.source_sentences = self.word_tokenize_sentences(source)\n",
        "    log_info('Loading source sentences')\n",
        "    self.target_sentences = self.word_tokenize_sentences(target)\n",
        "\n",
        "    if vocab:\n",
        "      self.vocab = vocab\n",
        "    else:\n",
        "      log_info('Building Vocab')\n",
        "      self.vocab = self.build_vocab(self.source_sentences + self.target_sentences, self.max_vocab_size)\n",
        "    log_info('\\nBuilding dataset complete')\n",
        "\n",
        "  def __len__(self):\n",
        "    return len(self.source_sentences)\n",
        "\n",
        "  def __getitem__(self, index):\n",
        "    source_sentence = self.source_sentences[index]\n",
        "    target_sentence = self.target_sentences[index]\n",
        "\n",
        "    source_sequence = self.tokens2ids(source_sentence, append_EOS=True)\n",
        "    target_sequence = self.tokens2ids(target_sentence, append_EOS=True)\n",
        "    return source_sentence, target_sentence, source_sequence, target_sequence\n",
        "\n",
        "  def _tokenize_sentence(self, sentence):\n",
        "    return list(map(token_mapper, self.word_tokenizer(sentence.lower())))\n",
        "\n",
        "  def word_tokenize_sentences(self, data):\n",
        "    return [self._tokenize_sentence(sentence) for sentence in tqdm(data)]\n",
        "\n",
        "  def build_vocab(self, corpus, max_vocab_size):\n",
        "    vocab_counter = Counter()\n",
        "    for sentence in corpus:\n",
        "      vocab_counter.update(sentence)\n",
        "    vocab_counter.pop('<PUNCT>')\n",
        "    vocab_counter.pop('<NUM>')\n",
        "\n",
        "    vocab = AttrDict()\n",
        "    vocab.token2id = {v:k for k, v in UTILITY_TOKENS.items()}\n",
        "    vocab.token2id.update({token: _id+6 for _id, (token, _) in tqdm(enumerate(vocab_counter.most_common(max_vocab_size)))})\n",
        "    vocab.id2token = {v:k for k,v in vocab.token2id.items()}\n",
        "    return vocab\n",
        "\n",
        "  def tokens2ids(self, tokens, append_BOS=False, append_EOS=True):\n",
        "    id_sequence = []\n",
        "    if append_BOS: \n",
        "      id_sequence.append(BOS)\n",
        "    id_sequence.extend([self.vocab.token2id.get(token, UNK) for token in tokens])\n",
        "    if append_EOS: \n",
        "      id_sequence.append(EOS)\n",
        "    return id_sequence"
      ],
      "metadata": {
        "id": "iAcbKzjAPl3I"
      },
      "execution_count": 25,
      "outputs": []
    },
    {
      "cell_type": "code",
      "source": [
        "def collate_fn(data):\n",
        "  def _pad(seqs):\n",
        "      lens = [len(seq) for seq in seqs]\n",
        "      padded_seqs = torch.zeros(len(seqs), max(lens)).long()\n",
        "      for i, seq in enumerate(seqs):\n",
        "          end = lens[i]\n",
        "          padded_seqs[i, :end] = torch.LongTensor(seq[:end])\n",
        "      return padded_seqs, lens\n",
        "\n",
        "  data.sort(key=lambda x: len(x[0]), reverse=True)\n",
        "  source_sentences, target_sentencs, source_sequences, target_sequences = zip(*data)\n",
        "  \n",
        "  source_sequences, source_lens = _pad(source_sequences)\n",
        "  target_sequences, target_lens = _pad(target_sequences)\n",
        "  \n",
        "  source_sequences = source_sequences.transpose(0,1)\n",
        "  target_sequences = target_sequences.transpose(0,1)\n",
        "\n",
        "  return source_sequences, target_sequences, source_lens, target_lens"
      ],
      "metadata": {
        "id": "m7eX8DBegvFX"
      },
      "execution_count": 26,
      "outputs": []
    },
    {
      "cell_type": "markdown",
      "source": [
        "#### Define Encoder and Decoder"
      ],
      "metadata": {
        "id": "qIWUs-jcZDtZ"
      }
    },
    {
      "cell_type": "code",
      "source": [
        "class EncoderRNN(nn.Module):\n",
        "  def __init__(self, embedding=None, hidden_size=128, num_layers=1, dropout=0.3):\n",
        "    super(EncoderRNN, self).__init__()\n",
        "    \n",
        "    self.num_layers = num_layers\n",
        "    self.dropout = dropout\n",
        "    self.bidirectional = True\n",
        "    self.num_directions = 2\n",
        "    self.hidden_size = hidden_size // self.num_directions\n",
        "    \n",
        "    self.embedding = embedding\n",
        "    self.word_vec_size = self.embedding.embedding_dim\n",
        "    \n",
        "    self.rnn = nn.LSTM(input_size=self.word_vec_size,\n",
        "                        hidden_size=self.hidden_size,\n",
        "                        num_layers=self.num_layers,\n",
        "                        dropout=self.dropout,\n",
        "                        bidirectional=self.bidirectional)\n",
        "        \n",
        "  def forward(self, src_seqs, src_lens, hidden=None):\n",
        "\n",
        "    embedded = self.embedding(src_seqs)\n",
        "    packed = nn.utils.rnn.pack_padded_sequence(embedded, src_lens)\n",
        "    packed_outputs, hidden = self.rnn(packed, hidden)\n",
        "    outputs, output_lens =  nn.utils.rnn.pad_packed_sequence(packed_outputs)\n",
        "    if self.bidirectional:\n",
        "      hidden = self._cat_directions(hidden)\n",
        "    return outputs, hidden\n",
        "\n",
        "  def _cat_directions(self, hidden):\n",
        "    \"\"\" https://github.com/IBM/pytorch-seq2seq/blob/master/seq2seq/models/DecoderRNN.py#L176 \"\"\"\n",
        "    def _cat(h):\n",
        "      return torch.cat([h[0:h.size(0):2], h[1:h.size(0):2]], 2)\n",
        "        \n",
        "    if isinstance(hidden, tuple):\n",
        "      hidden = tuple([_cat(h) for h in hidden])\n",
        "    else:\n",
        "      hidden = _cat(hidden)\n",
        "    return hidden"
      ],
      "metadata": {
        "id": "b4bYE8ZrZWlU"
      },
      "execution_count": 27,
      "outputs": []
    },
    {
      "cell_type": "code",
      "source": [
        "def sequence_mask(sequence_length, max_len=None):\n",
        "  \"\"\"Input and Return are VARIABLE.\"\"\"\n",
        "  if max_len is None:\n",
        "      max_len = sequence_length.data.max()\n",
        "  batch_size = sequence_length.size(0)\n",
        "  seq_range = torch.arange(0, max_len).long()\n",
        "  seq_range_expand = seq_range.unsqueeze(0).expand(batch_size, max_len)\n",
        "  seq_range_expand = Variable(seq_range_expand)\n",
        "  seq_range_expand = seq_range_expand.to(device)\n",
        "  seq_length_expand = (sequence_length.unsqueeze(1)\n",
        "                        .expand_as(seq_range_expand))\n",
        "  mask = seq_range_expand < seq_length_expand\n",
        "  return mask\n",
        "\n",
        "class LuongAttnDecoderRNN(nn.Module):\n",
        "  def __init__(self, encoder, embedding=None, attention=True, bias=True, tie_embeddings=False, dropout=0.3):\n",
        "    \n",
        "    super(LuongAttnDecoderRNN, self).__init__()\n",
        "    \n",
        "    self.hidden_size = encoder.hidden_size * encoder.num_directions\n",
        "    self.num_layers = encoder.num_layers\n",
        "    self.dropout = dropout\n",
        "    self.embedding = embedding\n",
        "    self.attention = attention\n",
        "    self.tie_embeddings = tie_embeddings\n",
        "    \n",
        "    self.vocab_size = self.embedding.num_embeddings\n",
        "    self.word_vec_size = self.embedding.embedding_dim\n",
        "    \n",
        "    self.rnn = nn.LSTM(input_size=self.word_vec_size,\n",
        "                        hidden_size=self.hidden_size,\n",
        "                        num_layers=self.num_layers,\n",
        "                        dropout=self.dropout)\n",
        "    \n",
        "    if self.attention:\n",
        "        self.attn = nn.Linear(self.hidden_size,self.hidden_size, bias=bias)\n",
        "        self.concat = nn.Linear(self.hidden_size * 2, self.hidden_size, bias=bias)\n",
        "    \n",
        "    if self.tie_embeddings:\n",
        "        self.project = nn.Linear(self.hidden_size, self.word_vec_size, bias=bias)\n",
        "        self.out = nn.Linear(self.word_vec_size, self.vocab_size, bias=bias)\n",
        "        self.out.weight = self.embedding.weight\n",
        "    else:\n",
        "        self.out = nn.Linear(self.hidden_size, self.vocab_size, bias=bias)\n",
        "\n",
        "  def forward(self, input_seq, decoder_hidden, encoder_outputs, src_lens):     \n",
        "    input_seq = input_seq.unsqueeze(0)\n",
        "    \n",
        "    emb = self.embedding(input_seq)\n",
        "    decoder_output, decoder_hidden = self.rnn(emb, decoder_hidden)\n",
        "    decoder_output = decoder_output.transpose(0,1)\n",
        "\n",
        "    if self.attention:\n",
        "      attention_scores = torch.bmm(decoder_output, self.attn(encoder_outputs).transpose(0,1).transpose(1,2))\n",
        "\n",
        "      attention_mask = sequence_mask(src_lens).unsqueeze(1)\n",
        "      attention_scores.data.masked_fill_(~attention_mask.data, -float('inf'))\n",
        "      try: # torch 0.3.x\n",
        "        attention_weights = F.softmax(attention_scores.squeeze(1), dim=1).unsqueeze(1)\n",
        "      except:\n",
        "        attention_weights = F.softmax(attention_scores.squeeze(1), dim=1).unsqueeze(1)\n",
        "\n",
        "      context_vector = torch.bmm(attention_weights, encoder_outputs.transpose(0,1))\n",
        "      concat_input = torch.cat([context_vector, decoder_output], -1)\n",
        "      concat_output = torch.tanh(self.concat(concat_input))\n",
        "      attention_weights = attention_weights.squeeze(1)\n",
        "    else:\n",
        "      attention_weights = None\n",
        "      concat_output = decoder_output\n",
        "\n",
        "    if self.tie_embeddings:\n",
        "      output = self.out(self.project(concat_output))\n",
        "    else:\n",
        "      output = self.out(concat_output)   \n",
        "\n",
        "    output = output.squeeze(1)\n",
        "    del src_lens\n",
        "    return output, decoder_hidden, attention_weights"
      ],
      "metadata": {
        "id": "jU5kEBS9hRXf"
      },
      "execution_count": 28,
      "outputs": []
    },
    {
      "cell_type": "markdown",
      "source": [
        "#### Define loss function and load pretrained embeddings"
      ],
      "metadata": {
        "id": "-C6oTK-VZHZG"
      }
    },
    {
      "cell_type": "code",
      "source": [
        "def masked_cross_entropy(logits, target, length):\n",
        "  logits_flat = logits.view(-1, logits.size(-1))\n",
        "  log_probs_flat = F.log_softmax(logits_flat)\n",
        "  target_flat = target.view(-1, 1)\n",
        "  losses_flat = -torch.gather(log_probs_flat, dim=1, index=target_flat)\n",
        "  losses = losses_flat.view(*target.size())\n",
        "  mask = sequence_mask(sequence_length=length, max_len=target.size(1))\n",
        "  losses = losses * mask.float()\n",
        "  loss = losses.sum() / mask.float().sum()\n",
        "  \n",
        "  pred_flat = log_probs_flat.max(1)[1]\n",
        "  pred_seqs = pred_flat.view(*target.size()).transpose(0,1).contiguous()\n",
        "  mask_flat = mask.view(-1)\n",
        "  \n",
        "  # https://discuss.pytorch.org/t/batch-size-and-validation-accuracy/4066/3\n",
        "  num_corrects = int(pred_flat.eq(target_flat.squeeze(1)).masked_select(mask_flat).float().data.sum())\n",
        "  num_words = length.data.sum()\n",
        "\n",
        "  return loss, pred_seqs, num_corrects, num_words\n",
        "\n",
        "def load_pretrained_embedding(spacy_nlp, vocab):\n",
        "  vocab_size = len(vocab.token2id)\n",
        "  word_vec_size = spacy_nlp.vocab.vectors_length\n",
        "  embedding = np.zeros((vocab_size, word_vec_size))\n",
        "  unk_count = 0\n",
        "  \n",
        "  for token, index in tqdm(vocab.token2id.items()):\n",
        "    if token == vocab.id2token[PAD]: \n",
        "        continue\n",
        "    elif token in UTILITY_TOKENS: \n",
        "        vector = np.random.rand(word_vec_size,)\n",
        "    elif spacy_nlp.vocab[token].has_vector: \n",
        "        vector = spacy_nlp.vocab[token].vector\n",
        "    else:\n",
        "        vector = embedding[UNK]  \n",
        "    embedding[index] = vector\n",
        "    \n",
        "  return torch.from_numpy(embedding).float()"
      ],
      "metadata": {
        "id": "DnzIbWnyhRVB"
      },
      "execution_count": 29,
      "outputs": []
    },
    {
      "cell_type": "markdown",
      "source": [
        "#### Checkpoint operations"
      ],
      "metadata": {
        "id": "Z2VmSL0Tgv1p"
      }
    },
    {
      "cell_type": "code",
      "source": [
        "def load_checkpoint(checkpoint_path):\n",
        "  # `map_location` loads faster\n",
        "  return torch.load(checkpoint_path, map_location=lambda storage, loc: storage)\n",
        "\n",
        "def save_checkpoint(experiment_name, encoder, decoder, encoder_optim, decoder_optim, epoch):\n",
        "  checkpoint = {\n",
        "    'epoch': epoch,\n",
        "    'encoder_state_dict': encoder.state_dict(),\n",
        "    'decoder_state_dict': decoder.state_dict(),\n",
        "    'encoder_optim_state_dict': encoder_optim.state_dict(),\n",
        "    'decoder_optim_state_dict': decoder_optim.state_dict()}\n",
        "  \n",
        "  checkpoint_path = f'checkpoints/{experiment_name}{str(epoch)}.pt'\n",
        "  directory, filename = os.path.split(os.path.abspath(checkpoint_path))\n",
        "  if not os.path.exists(directory):\n",
        "      os.makedirs(directory)\n",
        "  torch.save(checkpoint, checkpoint_path)\n",
        "  return checkpoint_path\n"
      ],
      "metadata": {
        "id": "fOOcv34dgzn6"
      },
      "execution_count": 30,
      "outputs": []
    },
    {
      "cell_type": "markdown",
      "source": [
        "#### Define Training Step"
      ],
      "metadata": {
        "id": "Ixn5DXWsh4y1"
      }
    },
    {
      "cell_type": "code",
      "source": [
        "def detach_hidden(hidden):\n",
        "  \"\"\" Solve memory leak problem \"\"\"\n",
        "  if type(hidden) == Variable:\n",
        "      hidden.detach_() # same as creating a new variable.\n",
        "  else:\n",
        "      for h in hidden: h.detach_()"
      ],
      "metadata": {
        "id": "A_Iny_PrZK3Y"
      },
      "execution_count": 31,
      "outputs": []
    },
    {
      "cell_type": "code",
      "source": [
        "MAX_LEN = 64\n",
        "def train(src_seqs, tgt_seqs, src_lens, tgt_lens,\n",
        "          encoder, decoder, encoder_optim, decoder_optim):    \n",
        "    batch_size = src_seqs.size(1)\n",
        "    assert(batch_size == tgt_seqs.size(1))\n",
        "    \n",
        "    src_seqs = Variable(src_seqs)\n",
        "    tgt_seqs = Variable(tgt_seqs)\n",
        "    src_lens = Variable(torch.LongTensor(src_lens))\n",
        "    tgt_lens = Variable(torch.LongTensor(tgt_lens))\n",
        "\n",
        "    decoder_input_seq = Variable(torch.LongTensor([BOS] * batch_size))\n",
        "    decoder_outputs = Variable(torch.zeros(MAX_LEN, batch_size, decoder.vocab_size))\n",
        "\n",
        "\n",
        "    src_seqs = src_seqs.to(device)\n",
        "    tgt_seqs = tgt_seqs.to(device)\n",
        "    src_lens = src_lens.to(device)\n",
        "    tgt_lens = tgt_lens.to(device)\n",
        "    decoder_input_seq = decoder_input_seq.to(device)\n",
        "    decoder_outputs = decoder_outputs.to(device)\n",
        "\n",
        "    encoder.train()\n",
        "    decoder.train()\n",
        "    encoder_optim.zero_grad()\n",
        "    decoder_optim.zero_grad()\n",
        "        \n",
        "    encoder_outputs, encoder_hidden = encoder(src_seqs, src_lens.data.tolist())\n",
        "\n",
        "    # Initialize decoder's hidden state as encoder's last hidden state.\n",
        "    decoder_hidden = encoder_hidden\n",
        "    \n",
        "    # Run through decoder\n",
        "    max_tgt_len = tgt_lens.data.max()\n",
        "    for t in range(max_tgt_len):\n",
        "      decoder_output, decoder_hidden, attention_weights = decoder(decoder_input_seq, decoder_hidden,\n",
        "                                                                  encoder_outputs, src_lens)\n",
        "      decoder_outputs[t] = decoder_output\n",
        "      decoder_input_seq = tgt_seqs[t]\n",
        "      detach_hidden(decoder_hidden)\n",
        "        \n",
        "\n",
        "    loss, pred_seqs, num_corrects, num_words = masked_cross_entropy(\n",
        "      decoder_outputs[:max_tgt_len].transpose(0,1).contiguous(), \n",
        "      tgt_seqs.transpose(0,1).contiguous(),\n",
        "      tgt_lens)\n",
        "    pred_seqs = pred_seqs[:max_tgt_len]\n",
        "\n",
        "    loss.backward()\n",
        "    \n",
        "    # Clip gradients\n",
        "    encoder_grad_norm = nn.utils.clip_grad_norm_(encoder.parameters(), MAX_GRAD_NORM)\n",
        "    decoder_grad_norm = nn.utils.clip_grad_norm_(decoder.parameters(), MAX_GRAD_NORM)\n",
        "    \n",
        "    # Update parameters with optimizers\n",
        "    encoder_optim.step()\n",
        "    decoder_optim.step()\n",
        "        \n",
        "    return loss.item(), pred_seqs, attention_weights, num_corrects, num_words,\\\n",
        "           encoder_grad_norm, decoder_grad_norm"
      ],
      "metadata": {
        "id": "lZtt2Qg1ZK1H"
      },
      "execution_count": 32,
      "outputs": []
    },
    {
      "cell_type": "markdown",
      "source": [
        "#### Define Evaluation process"
      ],
      "metadata": {
        "id": "VdzVXVWS-93L"
      }
    },
    {
      "cell_type": "code",
      "source": [
        "def evaluate(src_seqs, tgt_seqs, src_lens, tgt_lens, encoder, decoder):\n",
        "  batch_size = src_seqs.size(1)\n",
        "  assert(batch_size == tgt_seqs.size(1))\n",
        "  \n",
        "  src_seqs = Variable(src_seqs, volatile=True)\n",
        "  tgt_seqs = Variable(tgt_seqs, volatile=True)\n",
        "  src_lens = Variable(torch.LongTensor(src_lens), volatile=True)\n",
        "  tgt_lens = Variable(torch.LongTensor(tgt_lens), volatile=True)\n",
        "  #src_seqs = src_seqs.requires_grad = False\n",
        "  #tgt_seqs = tgt_seqs.requires_grad = False\n",
        "  #src_lens = src_lens.requires_grad = False\n",
        "  #tgt_lens = tgt_lens.requires_grad = False\n",
        "\n",
        "  decoder_input_seq = Variable(torch.LongTensor([BOS] * batch_size), volatile=True)\n",
        "  \n",
        "  max_tgt_len = tgt_lens.data.max()\n",
        "  decoder_outputs = Variable(torch.zeros(MAX_LEN, batch_size, decoder.vocab_size), volatile=True)\n",
        "\n",
        "  src_seqs = src_seqs.to(device)\n",
        "  tgt_seqs = tgt_seqs.to(device)\n",
        "  src_lens = src_lens.to(device)\n",
        "  tgt_lens = tgt_lens.to(device)\n",
        "  decoder_input_seq = decoder_input_seq.to(device)\n",
        "  decoder_outputs = decoder_outputs.to(device)\n",
        "\n",
        "  encoder.eval()\n",
        "  decoder.eval()\n",
        "          \n",
        "  encoder_outputs, encoder_hidden = encoder(src_seqs, src_lens.data.tolist())\n",
        "  decoder_hidden = encoder_hidden\n",
        "\n",
        "  for t in range(max_tgt_len):\n",
        "    decoder_output, decoder_hidden, attention_weights = decoder(decoder_input_seq, decoder_hidden,\n",
        "                                                                encoder_outputs, src_lens)\n",
        "    decoder_outputs[t] = decoder_output\n",
        "    decoder_input_seq = tgt_seqs[t]\n",
        "    detach_hidden(decoder_hidden)\n",
        "      \n",
        "  loss, pred_seqs, num_corrects, num_words = masked_cross_entropy(\n",
        "    decoder_outputs[:max_tgt_len].transpose(0,1).contiguous(), \n",
        "    tgt_seqs.transpose(0,1).contiguous(),\n",
        "    tgt_lens)\n",
        "  \n",
        "  pred_seqs = pred_seqs[:max_tgt_len]\n",
        "  \n",
        "  return loss.item(), pred_seqs, attention_weights, num_corrects, num_words"
      ],
      "metadata": {
        "id": "JsRMn213-_PX"
      },
      "execution_count": 33,
      "outputs": []
    },
    {
      "cell_type": "code",
      "source": [
        "#EVALUATION\n",
        "def evaluation(valid_iter, encoder, decoder):\n",
        "  total_loss, total_corrects, total_words = 0,0,0\n",
        "  for batch_id, batch_data in enumerate(valid_iter):\n",
        "    \n",
        "    src_seqs, tgt_seqs, src_lens, tgt_lens = batch_data\n",
        "    \n",
        "    \n",
        "    loss, pred_seqs, attention_weights, num_corrects, num_words \\\n",
        "        = evaluate(src_seqs, tgt_seqs, src_lens, tgt_lens, encoder, decoder)\n",
        "        \n",
        "    total_loss += loss\n",
        "    total_corrects += num_corrects\n",
        "    total_words += num_words\n",
        "    total_accuracy = 100 * (total_corrects / total_words)\n",
        "  return total_loss, total_accuracy.item()"
      ],
      "metadata": {
        "id": "5Jm8GnQ9dSdH"
      },
      "execution_count": 34,
      "outputs": []
    },
    {
      "cell_type": "markdown",
      "source": [
        "#### Plot loss and accuracy"
      ],
      "metadata": {
        "id": "RxU88pqqyUGk"
      }
    },
    {
      "cell_type": "code",
      "source": [
        "from IPython.display import clear_output\n",
        "#def plot_journal(train_loss_journal, val_loss_journal,\\\n",
        "#                 train_accuracy_journal, val_accuracy_journal,\\\n",
        "#                 last_save_on_step, checkpoint_path, epoch):\n",
        "def plot_journal(train_loss_journal, \\\n",
        "                   correct_val_loss_journal, fce_val_loss_journal, realec_val_loss_journal,\\\n",
        "                   train_accuracy_journal,\\\n",
        "                   correct_val_accuracy_journal, fce_val_accuracy_journal, realec_val_accuracy_journal,\\\n",
        "                   last_save_on_step, checkpoint_path, \\\n",
        "                   epoch):\n",
        "  clear_output()\n",
        "  train_x = np.arange(PRINT_EVERY_STEP, PRINT_EVERY_STEP * len(train_loss_journal) + 1, PRINT_EVERY_STEP)\n",
        "  val_x = np.arange(len(correct_val_loss_journal)) #np.arange(EVAL_EVERY_STEP, EVAL_EVERY_STEP * len(val_loss_journal) + 1, EVAL_EVERY_STEP)\n",
        "  fig, ax = plt.subplots(2, 2, sharex='col', figsize=(18, 10))\n",
        "  fig.suptitle(f'EPOCH NUMBER {epoch + 1}, global step {GLOBAL_STEP}')\n",
        "\n",
        "  #if val_x.shape[0] > 0:\n",
        "  #  ax[0,1].set_xlim([val_x[0] - EVAL_EVERY_STEP// 10, val_x[-1] + EVAL_EVERY_STEP// 10])\n",
        "  ax[0,0].set(xlabel=\"global_step\")\n",
        "  ax[0,1].set(xlabel=\"n_epoch\")\n",
        "  ax[1,0].set(xlabel=\"global_step\")\n",
        "  ax[1,1].set(xlabel=\"n_epoch\")\n",
        "  \n",
        "  #TRAIN LOSS\n",
        "  ax[0,0].plot(train_x, train_loss_journal, \n",
        "               label='train')\n",
        "  ax[0,0].title.set_text('Train loss')\n",
        "\n",
        "  #VAL LOSS\n",
        "  if len(realec_val_loss_journal)>0:\n",
        "    ax[0,1].plot(val_x[0], realec_val_loss_journal[0])\n",
        "  ax[0,1].plot(val_x, realec_val_loss_journal, label='realec')\n",
        "  ax[0,1].plot(val_x, fce_val_loss_journal, label='fce')\n",
        "  ax[0,1].plot(val_x, correct_val_loss_journal, label='correct')\n",
        "  ax[0,1].legend()\n",
        "  ax[0,1].title.set_text('Val loss')\n",
        "\n",
        "  #TRAIN ACCURACY\n",
        "  ax[1,0].plot(train_x, train_accuracy_journal, \n",
        "               label='train')\n",
        "  ax[1,0].title.set_text('Train accuracy')\n",
        "\n",
        "  #VAL ACCURACY\n",
        "  if len(realec_val_accuracy_journal)>0:\n",
        "    ax[1,1].plot(val_x[0], realec_val_accuracy_journal[0])\n",
        "  ax[1,1].plot(val_x, realec_val_accuracy_journal, label='realec')\n",
        "  ax[1,1].plot(val_x, fce_val_accuracy_journal, label='fce')\n",
        "  ax[1,1].plot(val_x, correct_val_accuracy_journal, label='correct')\n",
        "  ax[1,1].legend()\n",
        "  ax[1,1].title.set_text('Val accuracy')\n",
        "\n",
        "  print(f\"Train loss: {train_loss_journal[-1]}, Train acc: {train_accuracy_journal[-1]}\")\n",
        "  if val_x.shape[0] > 0:\n",
        "    print(f\"REALEC loss: {realec_val_loss_journal[-1]}, acc: {realec_val_accuracy_journal[-1]}\")\n",
        "    print(f\"FCE loss: {fce_val_loss_journal[-1]}, acc: {fce_val_accuracy_journal[-1]}\")\n",
        "    print(f\"Correct loss: {correct_val_loss_journal[-1]}, acc: {correct_val_accuracy_journal[-1]}\")\n",
        "\n",
        "  \n",
        "  print(f\"last save at step {last_save_on_step}, path: {checkpoint_path}\")\n",
        "  plt.show()"
      ],
      "metadata": {
        "id": "x9lHaelgyUsg"
      },
      "execution_count": 35,
      "outputs": []
    },
    {
      "cell_type": "code",
      "source": [
        ""
      ],
      "metadata": {
        "id": "asy2A2oxrWjk"
      },
      "execution_count": 35,
      "outputs": []
    },
    {
      "cell_type": "markdown",
      "source": [
        "# Experiments"
      ],
      "metadata": {
        "id": "PTwXzHmf2c0v"
      }
    },
    {
      "cell_type": "markdown",
      "source": [
        "## REALEC"
      ],
      "metadata": {
        "id": "Bl1fM0NkmqnM"
      }
    },
    {
      "cell_type": "markdown",
      "source": [
        "##### Build training dataset and dataloader"
      ],
      "metadata": {
        "id": "ZkYa_VSgW9M9"
      }
    },
    {
      "cell_type": "code",
      "source": [
        "#realec, fce, correct\n",
        "which_dataset = 'realec'\n",
        "X = model_data[which_dataset]['X_train']\n",
        "y = model_data[which_dataset]['y_train']\n",
        "\n",
        "train_dataset = LECDataset(X, y)\n",
        "src_vocab_size = tgt_vocab_size = len(train_dataset.vocab.token2id)\n",
        "\n",
        "BATCH_SIZE = 64\n",
        "train_iter = DataLoader(dataset=train_dataset,\n",
        "                        batch_size=BATCH_SIZE,\n",
        "                        shuffle=True,\n",
        "                        num_workers=2,\n",
        "                        collate_fn=collate_fn)"
      ],
      "metadata": {
        "colab": {
          "base_uri": "https://localhost:8080/"
        },
        "id": "lfoLRw65UiFx",
        "outputId": "f27d4b6c-6edc-432e-b4eb-95cca40a860a"
      },
      "execution_count": 58,
      "outputs": [
        {
          "output_type": "stream",
          "name": "stdout",
          "text": [
            "INFO\t2022-05-26 23:55:02\tLoading source sentences\n"
          ]
        },
        {
          "output_type": "stream",
          "name": "stderr",
          "text": [
            "100%|██████████| 10168/10168 [00:04<00:00, 2340.60it/s]\n"
          ]
        },
        {
          "output_type": "stream",
          "name": "stdout",
          "text": [
            "INFO\t2022-05-26 23:55:07\tLoading source sentences\n"
          ]
        },
        {
          "output_type": "stream",
          "name": "stderr",
          "text": [
            "100%|██████████| 10168/10168 [00:02<00:00, 3483.72it/s]\n"
          ]
        },
        {
          "output_type": "stream",
          "name": "stdout",
          "text": [
            "INFO\t2022-05-26 23:55:10\tBuilding Vocab\n"
          ]
        },
        {
          "output_type": "stream",
          "name": "stderr",
          "text": [
            "7551it [00:00, 1170925.37it/s]"
          ]
        },
        {
          "output_type": "stream",
          "name": "stdout",
          "text": [
            "INFO\t2022-05-26 23:55:10\t\n",
            "Building dataset complete\n"
          ]
        },
        {
          "output_type": "stream",
          "name": "stderr",
          "text": [
            "\n"
          ]
        }
      ]
    },
    {
      "cell_type": "markdown",
      "source": [
        "##### Evaluation datasets and dataloaders"
      ],
      "metadata": {
        "id": "pJ0ZxOQbjxb4"
      }
    },
    {
      "cell_type": "code",
      "source": [
        "realec_dataset = LECDataset(model_data['realec']['X_test'], model_data['realec']['y_test'],\n",
        "                            vocab = train_dataset.vocab)\n",
        "fce_dataset = LECDataset(model_data['fce']['X_test'], model_data['fce']['y_test'],\n",
        "                         vocab = train_dataset.vocab)\n",
        "correct_dataset = LECDataset(model_data['correct']['X_test'], model_data['correct']['y_test'],\n",
        "                             vocab = train_dataset.vocab)\n",
        "\n",
        "BATCH_SIZE = 64\n",
        "realec_iter = DataLoader(dataset=realec_dataset,\n",
        "                        batch_size=BATCH_SIZE, \n",
        "                        shuffle=True,\n",
        "                        num_workers=2,\n",
        "                        collate_fn=collate_fn)\n",
        "fce_iter = DataLoader(dataset=fce_dataset,\n",
        "                        batch_size=BATCH_SIZE, \n",
        "                        shuffle=True,\n",
        "                        num_workers=2,\n",
        "                        collate_fn=collate_fn)\n",
        "correct_iter = DataLoader(dataset=correct_dataset,\n",
        "                        batch_size=BATCH_SIZE, \n",
        "                        shuffle=True,\n",
        "                        num_workers=2,\n",
        "                        collate_fn=collate_fn)"
      ],
      "metadata": {
        "colab": {
          "base_uri": "https://localhost:8080/"
        },
        "id": "6o1n4s_rjyW6",
        "outputId": "42ed8550-812d-472f-a2e8-5ff7ea6b317e"
      },
      "execution_count": 59,
      "outputs": [
        {
          "output_type": "stream",
          "name": "stdout",
          "text": [
            "INFO\t2022-05-26 23:55:10\tLoading source sentences\n"
          ]
        },
        {
          "output_type": "stream",
          "name": "stderr",
          "text": [
            "100%|██████████| 2543/2543 [00:00<00:00, 5801.50it/s]\n"
          ]
        },
        {
          "output_type": "stream",
          "name": "stdout",
          "text": [
            "INFO\t2022-05-26 23:55:10\tLoading source sentences\n"
          ]
        },
        {
          "output_type": "stream",
          "name": "stderr",
          "text": [
            "100%|██████████| 2543/2543 [00:00<00:00, 4928.69it/s]\n"
          ]
        },
        {
          "output_type": "stream",
          "name": "stdout",
          "text": [
            "INFO\t2022-05-26 23:55:11\t\n",
            "Building dataset complete\n",
            "INFO\t2022-05-26 23:55:11\tLoading source sentences\n"
          ]
        },
        {
          "output_type": "stream",
          "name": "stderr",
          "text": [
            "100%|██████████| 3517/3517 [00:00<00:00, 5833.27it/s]\n"
          ]
        },
        {
          "output_type": "stream",
          "name": "stdout",
          "text": [
            "INFO\t2022-05-26 23:55:11\tLoading source sentences\n"
          ]
        },
        {
          "output_type": "stream",
          "name": "stderr",
          "text": [
            "100%|██████████| 3517/3517 [00:00<00:00, 3999.04it/s]\n"
          ]
        },
        {
          "output_type": "stream",
          "name": "stdout",
          "text": [
            "INFO\t2022-05-26 23:55:12\t\n",
            "Building dataset complete\n",
            "INFO\t2022-05-26 23:55:12\tLoading source sentences\n"
          ]
        },
        {
          "output_type": "stream",
          "name": "stderr",
          "text": [
            "100%|██████████| 2402/2402 [00:00<00:00, 4717.68it/s]\n"
          ]
        },
        {
          "output_type": "stream",
          "name": "stdout",
          "text": [
            "INFO\t2022-05-26 23:55:13\tLoading source sentences\n"
          ]
        },
        {
          "output_type": "stream",
          "name": "stderr",
          "text": [
            "100%|██████████| 2402/2402 [00:00<00:00, 3384.72it/s]"
          ]
        },
        {
          "output_type": "stream",
          "name": "stdout",
          "text": [
            "INFO\t2022-05-26 23:55:13\t\n",
            "Building dataset complete\n"
          ]
        },
        {
          "output_type": "stream",
          "name": "stderr",
          "text": [
            "\n"
          ]
        }
      ]
    },
    {
      "cell_type": "markdown",
      "source": [
        "#### Initialize RNNs + emdeddings + optimizers"
      ],
      "metadata": {
        "id": "ZcWtmoYJZVl2"
      }
    },
    {
      "cell_type": "code",
      "source": [
        "HIDDEN_SIZE = 512\n",
        "NUM_LAYERS = 2\n",
        "DROPOUT = 0.3\n",
        "TIE_EMBEDDINGS = True\n",
        "TRAIN_EMBEDDINGS = False\n",
        "LOAD_CHECKPOINT = False"
      ],
      "metadata": {
        "id": "LA_IvaeihRSb"
      },
      "execution_count": 60,
      "outputs": []
    },
    {
      "cell_type": "code",
      "source": [
        "if LOAD_CHECKPOINT:\n",
        "  checkpoint_path = './checkpoints/??'\n",
        "  checkpoint = load_checkpoint(checkpoint_path)\n",
        "else:\n",
        "  checkpoint_path = ''\n",
        "\n",
        "word_vec_size = nlp.vocab.vectors_length\n",
        "src_embedding = nn.Embedding(src_vocab_size, word_vec_size, padding_idx=PAD)\n",
        "tgt_embedding = nn.Embedding(tgt_vocab_size, word_vec_size, padding_idx=PAD)\n",
        "tgt_embedding.weight = src_embedding.weight\n",
        "\n",
        "# Initialize models.\n",
        "encoder = EncoderRNN(embedding=src_embedding,\n",
        "                     hidden_size=HIDDEN_SIZE,\n",
        "                     num_layers=NUM_LAYERS,\n",
        "                     dropout=DROPOUT)\n",
        "\n",
        "decoder = LuongAttnDecoderRNN(encoder, embedding=tgt_embedding,\n",
        "                              tie_embeddings=TIE_EMBEDDINGS,\n",
        "                              dropout=DROPOUT)\n",
        "\n",
        "glove_embeddings = load_pretrained_embedding(nlp, train_dataset.vocab)\n",
        "encoder.embedding.weight.data.copy_(glove_embeddings)\n",
        "decoder.embedding.weight.data.copy_(glove_embeddings)\n",
        "\n",
        "if not TRAIN_EMBEDDINGS:\n",
        "  encoder.embedding.weight.requires_grad = False\n",
        "decoder.embedding.weight.requires_grad = False\n",
        "        \n",
        "if LOAD_CHECKPOINT:\n",
        "    encoder.load_state_dict(checkpoint['encoder_state_dict'])\n",
        "    decoder.load_state_dict(checkpoint['decoder_state_dict'])\n",
        "    \n",
        "encoder.to(device)\n",
        "decoder.to(device)"
      ],
      "metadata": {
        "colab": {
          "base_uri": "https://localhost:8080/"
        },
        "id": "QVjigRz1hRQa",
        "outputId": "a1b85af5-69cc-4d20-a457-eb3fe74b1dd4"
      },
      "execution_count": 61,
      "outputs": [
        {
          "output_type": "stream",
          "name": "stderr",
          "text": [
            "100%|██████████| 7557/7557 [00:00<00:00, 63680.42it/s]\n"
          ]
        },
        {
          "output_type": "execute_result",
          "data": {
            "text/plain": [
              "LuongAttnDecoderRNN(\n",
              "  (embedding): Embedding(7557, 300, padding_idx=0)\n",
              "  (rnn): LSTM(300, 512, num_layers=2, dropout=0.3)\n",
              "  (attn): Linear(in_features=512, out_features=512, bias=True)\n",
              "  (concat): Linear(in_features=1024, out_features=512, bias=True)\n",
              "  (project): Linear(in_features=512, out_features=300, bias=True)\n",
              "  (out): Linear(in_features=300, out_features=7557, bias=True)\n",
              ")"
            ]
          },
          "metadata": {},
          "execution_count": 61
        }
      ]
    },
    {
      "cell_type": "code",
      "source": [
        "LEARNING_RATE = 0.001\n",
        "WEIGHT_DECAY = 1e-5\n",
        "MAX_GRAD_NORM = 2\n",
        "encoder_optim = optim.Adam([p for p in encoder.parameters() if p.requires_grad], \n",
        "                           lr=LEARNING_RATE, weight_decay=WEIGHT_DECAY)\n",
        "decoder_optim = optim.Adam([p for p in decoder.parameters() if p.requires_grad], \n",
        "                           lr=LEARNING_RATE, weight_decay=WEIGHT_DECAY)\n",
        "\n",
        "PRINT_EVERY_STEP = 20\n",
        "\n",
        "GLOBAL_STEP = 0 \n",
        "last_save_on_step = 0\n",
        "\n",
        "total_loss = 0\n",
        "total_corrects = 0\n",
        "total_words = 0\n",
        "\n",
        "train_loss_journal, correct_val_loss_journal, fce_val_loss_journal, realec_val_loss_journal = [], [], [], []\n",
        "train_accuracy_journal, correct_val_accuracy_journal, fce_val_accuracy_journal, realec_val_accuracy_journal = [], [], [], []\n",
        "last_save_on_step = None\n",
        "\n",
        "def update_journals(realec_loss, realec_accuracy, realec_val_loss_journal, realec_val_accuracy_journal,\n",
        "                      fce_loss, fce_accuracy, fce_val_loss_journal, fce_val_accuracy_journal,\n",
        "                      correct_loss, correct_accuracy, correct_val_loss_journal, correct_val_accuracy_journal):\n",
        "  realec_val_loss_journal.append(realec_loss)\n",
        "  realec_val_accuracy_journal.append(realec_accuracy)\n",
        "  fce_val_loss_journal.append(fce_loss)\n",
        "  fce_val_accuracy_journal.append(fce_accuracy)\n",
        "  correct_val_loss_journal.append(correct_loss)\n",
        "  correct_val_accuracy_journal.append(correct_accuracy)"
      ],
      "metadata": {
        "id": "hZSACjgBh4R4"
      },
      "execution_count": 62,
      "outputs": []
    },
    {
      "cell_type": "markdown",
      "source": [
        "#### Train and Visualize"
      ],
      "metadata": {
        "id": "L4xEoZ9Rse30"
      }
    },
    {
      "cell_type": "code",
      "source": [
        "EXPERIMENT_NAME = \"realec\"\n",
        "NUM_EPOCHS = 10"
      ],
      "metadata": {
        "id": "3t7WQUGxSHGn"
      },
      "execution_count": 64,
      "outputs": []
    },
    {
      "cell_type": "code",
      "source": [
        "for epoch in range(NUM_EPOCHS):\n",
        "  for batch_id, batch_data in tqdm(enumerate(train_iter)):\n",
        "\n",
        "    src_seqs, tgt_seqs, src_lens, tgt_lens = batch_data\n",
        "    \n",
        "    # Ignore batch if there is a long sequence.\n",
        "    max_seq_len = max(src_lens + tgt_lens)\n",
        "    if max_seq_len > MAX_LEN:\n",
        "      print('[!] Ignore batch: sequence length={} > max sequence length={}'.format(MAX_LEN))\n",
        "      continue\n",
        "    \n",
        "    loss, pred_seqs, attention_weights, num_corrects, num_words, encoder_grad_norm, decoder_grad_norm \\\n",
        "    = train(src_seqs, tgt_seqs, src_lens, tgt_lens, encoder, decoder, encoder_optim, decoder_optim)\n",
        "\n",
        "    # Statistics.\n",
        "    GLOBAL_STEP += 1\n",
        "    total_loss += loss\n",
        "    total_corrects += num_corrects\n",
        "    total_words += num_words\n",
        "    total_accuracy = 100 * (total_corrects / total_words)\n",
        "\n",
        "    if GLOBAL_STEP % PRINT_EVERY_STEP == 0:\n",
        "      train_loss_journal.append(total_loss)\n",
        "      train_accuracy_journal.append(total_accuracy.item())\n",
        "      plot_journal(train_loss_journal, \n",
        "                   correct_val_loss_journal, fce_val_loss_journal, realec_val_loss_journal,\n",
        "                   train_accuracy_journal,\n",
        "                   correct_val_accuracy_journal, fce_val_accuracy_journal, realec_val_accuracy_journal,\n",
        "                   last_save_on_step = last_save_on_step, \n",
        "                   checkpoint_path = checkpoint_path, \n",
        "                   epoch = epoch)\n",
        "      \n",
        "      total_loss = 0\n",
        "      total_corrects = 0\n",
        "      total_words = 0\n",
        "\n",
        "    del src_seqs, tgt_seqs, src_lens, tgt_lens, \\\n",
        "        loss, pred_seqs, attention_weights, num_corrects, num_words, \\\n",
        "        encoder_grad_norm, decoder_grad_norm\n",
        "\n",
        "  realec_loss, realec_accuracy = evaluation(realec_iter, encoder, decoder)\n",
        "  fce_loss, fce_accuracy = evaluation(fce_iter, encoder, decoder)\n",
        "  correct_loss, correct_accuracy = evaluation(correct_iter, encoder, decoder)\n",
        "  update_journals(realec_loss, realec_accuracy, realec_val_loss_journal, realec_val_accuracy_journal,\n",
        "                      fce_loss, fce_accuracy, fce_val_loss_journal, fce_val_accuracy_journal,\n",
        "                      correct_loss, correct_accuracy, correct_val_loss_journal, correct_val_accuracy_journal)\n",
        "\n",
        "  last_save_on_step = GLOBAL_STEP\n",
        "  checkpoint_path = save_checkpoint(EXPERIMENT_NAME, encoder, decoder, encoder_optim, decoder_optim, epoch)\n",
        "  \n",
        "  print('SAVE'*25)\n",
        "  print('Save checkpoint to \"{}\".'.format(checkpoint_path))\n",
        "  print('SAVE'*25)\n",
        "\n",
        "  plot_journal(train_loss_journal, \n",
        "                correct_val_loss_journal, fce_val_loss_journal, realec_val_loss_journal,\n",
        "                train_accuracy_journal,\n",
        "                correct_val_accuracy_journal, fce_val_accuracy_journal, realec_val_accuracy_journal,\n",
        "                last_save_on_step = last_save_on_step, \n",
        "                checkpoint_path = checkpoint_path, \n",
        "                epoch = epoch)"
      ],
      "metadata": {
        "colab": {
          "base_uri": "https://localhost:8080/",
          "height": 768
        },
        "id": "cOp63HUAnMXg",
        "outputId": "54fb2de2-ce48-464e-ad50-d5c4206120e0"
      },
      "execution_count": 65,
      "outputs": [
        {
          "output_type": "stream",
          "name": "stdout",
          "text": [
            "Train loss: 17.42803603410721, Train acc: 87.02802276611328\n",
            "REALEC loss: 47.30324411392212, acc: 84.6781997680664\n",
            "FCE loss: 119.54555892944336, acc: 74.01781463623047\n",
            "Correct loss: 43.5877543091774, acc: 81.98270416259766\n",
            "last save at step 1590, path: checkpoints/realec9.pt\n"
          ]
        },
        {
          "output_type": "display_data",
          "data": {
            "text/plain": [
              "<Figure size 1296x720 with 4 Axes>"
            ],
            "image/png": "[encoded data removed]"
          },
          "metadata": {
            "needs_background": "light"
          }
        }
      ]
    },
    {
      "cell_type": "code",
      "source": [
        "def str_list(l):\n",
        "  return list(map(str,l))\n",
        "def line_to_list(l):\n",
        "  return list(map(float,l.strip().split('\\t')))\n",
        "\n",
        "with open(f'{EXPERIMENT_NAME}_journal.txt', 'w') as outfile:\n",
        "  print('='*10+'\\n')\n",
        "  print(EXPERIMENT_NAME+'\\n')\n",
        "  outfile.write(f'train loss every {str(PRINT_EVERY_STEP)} steps, test -- every 1 epoch\\n\\\n",
        "  last checpoint saved at {checkpoint_path}\\n')\n",
        "  outfile.write(f'BATCH_SIZE = {str(BATCH_SIZE)}, LEARNING_RATE = {str(LEARNING_RATE)},  WEIGHT_DECAY = {str(WEIGHT_DECAY)}\\n')\n",
        "  outfile.write('train loss\\n')\n",
        "  outfile.write('\\t'.join(str_list(train_loss_journal))+'\\n')\n",
        "  outfile.write('train accuracy\\n')\n",
        "  outfile.write('\\t'.join(str_list(train_accuracy_journal))+'\\n')\n",
        "\n",
        "  outfile.write('realec val loss\\n')\n",
        "  outfile.write('\\t'.join(str_list(realec_val_loss_journal))+'\\n')\n",
        "  outfile.write('realec val accuracy\\n')\n",
        "  outfile.write('\\t'.join(str_list(realec_val_accuracy_journal))+'\\n')\n",
        "\n",
        "  outfile.write('fce val loss\\n')\n",
        "  outfile.write('\\t'.join(str_list(fce_val_accuracy_journal))+'\\n')\n",
        "  outfile.write('fce val accuracy\\n')\n",
        "  outfile.write('\\t'.join(str_list(fce_val_accuracy_journal))+'\\n')\n",
        "\n",
        "  outfile.write('correct val loss\\n')\n",
        "  outfile.write('\\t'.join(str_list(correct_val_loss_journal))+'\\n')\n",
        "  outfile.write('correct val accuracy\\n')\n",
        "  outfile.write('\\t'.join(str_list(correct_val_accuracy_journal))+'\\n')\n",
        "\n",
        "with open(f'{EXPERIMENT_NAME}_journal.txt') as infile:\n",
        "  text = infile.read()\n",
        "  with open(f'journal.txt', 'a+') as outfile:\n",
        "    outfile.write(text)\n",
        "\n",
        "with open(f'{EXPERIMENT_NAME}_journal.txt') as infile:\n",
        "  text = infile.readlines()\n",
        "  print(*text,sep='\\n')\n"
      ],
      "metadata": {
        "colab": {
          "base_uri": "https://localhost:8080/",
          "height": 640
        },
        "id": "9RGhau89VT38",
        "outputId": "27f74c3d-14d2-448b-df51-5100bb6b28b9"
      },
      "execution_count": 78,
      "outputs": [
        {
          "output_type": "stream",
          "name": "stdout",
          "text": [
            "==========\n",
            "\n",
            "realec\n",
            "\n",
            "train loss every 20 steps, test -- every 1 epoch\n",
            "\n",
            "  last checpoint saved at checkpoints/realec9.pt\n",
            "\n",
            "BATCH_SIZE = 64, LEARNING_RATE = 0.001,  WEIGHT_DECAY = 1e-05\n",
            "\n",
            "train loss\n",
            "\n",
            "147.47234058380127\t130.78260850906372\t118.82655477523804\t102.94121217727661\t79.1634476184845\t56.28556442260742\t46.362364768981934\t42.178693890571594\t38.644333839416504\t36.08445656299591\t35.37387800216675\t34.742262840270996\t33.92694878578186\t34.00762236118317\t33.10104298591614\t32.23733294010162\t30.353287935256958\t30.098726272583008\t30.70473086833954\t29.781200766563416\t29.983007073402405\t29.718708276748657\t29.46478295326233\t28.85269272327423\t27.404072284698486\t26.905128836631775\t27.50557041168213\t27.992833495140076\t27.43727433681488\t27.465002059936523\t27.082064390182495\t26.176954746246338\t24.938137412071228\t25.440857529640198\t25.66706073284149\t25.06977117061615\t25.471226572990417\t25.152732253074646\t24.953550100326538\t24.28422200679779\t23.3385146856308\t23.656388998031616\t23.85820472240448\t23.63000190258026\t23.63980507850647\t23.18570625782013\t23.10912299156189\t23.02976679801941\t21.45656555891037\t21.73075580596924\t21.806220173835754\t21.917583346366882\t21.632314205169678\t21.558193802833557\t21.58076012134552\t21.488064467906952\t20.465247452259064\t20.073357224464417\t20.515784442424774\t19.87460368871689\t20.6869375705719\t20.178763210773468\t19.81421023607254\t19.128025770187378\t18.746051788330078\t18.81960701942444\t18.962540566921234\t18.82341343164444\t18.644976675510406\t19.04034513235092\t18.87982201576233\t18.130688965320587\t16.9242987036705\t17.13096857070923\t17.797643899917603\t17.015519618988037\t17.55830943584442\t17.229693055152893\t17.42803603410721\n",
            "\n"
          ]
        },
        {
          "output_type": "error",
          "ename": "ValueError",
          "evalue": "ignored",
          "traceback": [
            "\u001b[0;31m---------------------------------------------------------------------------\u001b[0m",
            "\u001b[0;31mValueError\u001b[0m                                Traceback (most recent call last)",
            "\u001b[0;32m<ipython-input-78-24bd798e0fb1>\u001b[0m in \u001b[0;36m<module>\u001b[0;34m()\u001b[0m\n\u001b[1;32m     37\u001b[0m   \u001b[0mtext\u001b[0m \u001b[0;34m=\u001b[0m \u001b[0minfile\u001b[0m\u001b[0;34m.\u001b[0m\u001b[0mreadlines\u001b[0m\u001b[0;34m(\u001b[0m\u001b[0;34m)\u001b[0m\u001b[0;34m\u001b[0m\u001b[0;34m\u001b[0m\u001b[0m\n\u001b[1;32m     38\u001b[0m   \u001b[0mprint\u001b[0m\u001b[0;34m(\u001b[0m\u001b[0;34m*\u001b[0m\u001b[0mtext\u001b[0m\u001b[0;34m[\u001b[0m\u001b[0;34m:\u001b[0m\u001b[0;36m5\u001b[0m\u001b[0;34m]\u001b[0m\u001b[0;34m,\u001b[0m\u001b[0msep\u001b[0m\u001b[0;34m=\u001b[0m\u001b[0;34m'\\n'\u001b[0m\u001b[0;34m)\u001b[0m\u001b[0;34m\u001b[0m\u001b[0;34m\u001b[0m\u001b[0m\n\u001b[0;32m---> 39\u001b[0;31m   \u001b[0mtrain_loss\u001b[0m\u001b[0;34m,\u001b[0m \u001b[0mtrain_accuracy\u001b[0m\u001b[0;34m,\u001b[0m  \u001b[0mrealec_loss\u001b[0m\u001b[0;34m,\u001b[0m \u001b[0mrealec_accuracy\u001b[0m\u001b[0;34m,\u001b[0m  \u001b[0mfce_loss\u001b[0m\u001b[0;34m,\u001b[0m \u001b[0mfce_accuracy\u001b[0m\u001b[0;34m,\u001b[0m  \u001b[0mcorrect_loss\u001b[0m\u001b[0;34m,\u001b[0m\u001b[0mcorrect_accuracy\u001b[0m \u001b[0;34m=\u001b[0m \u001b[0mlist\u001b[0m\u001b[0;34m(\u001b[0m\u001b[0mmap\u001b[0m\u001b[0;34m(\u001b[0m\u001b[0mline_to_list\u001b[0m\u001b[0;34m,\u001b[0m \u001b[0mtext\u001b[0m\u001b[0;34m[\u001b[0m\u001b[0;36m5\u001b[0m\u001b[0;34m:\u001b[0m\u001b[0;34m:\u001b[0m\u001b[0;36m2\u001b[0m\u001b[0;34m]\u001b[0m\u001b[0;34m)\u001b[0m\u001b[0;34m)\u001b[0m\u001b[0;34m\u001b[0m\u001b[0;34m\u001b[0m\u001b[0m\n\u001b[0m\u001b[1;32m     40\u001b[0m   \u001b[0mprint\u001b[0m\u001b[0;34m(\u001b[0m\u001b[0;34mf\"best train loss: {min(train_loss)}, acc: {max(train_accuracy)} on epoch {np.argmax(train_accuracy)+1}\"\u001b[0m\u001b[0;34m)\u001b[0m\u001b[0;34m\u001b[0m\u001b[0;34m\u001b[0m\u001b[0m\n\u001b[1;32m     41\u001b[0m   \u001b[0mprint\u001b[0m\u001b[0;34m(\u001b[0m\u001b[0;34mf\"best realec loss: {min(realec_loss)}, acc: {max(realec_accuracy)}, on epoch {np.argmax(realec_accuracy)+1}\"\u001b[0m\u001b[0;34m)\u001b[0m\u001b[0;34m\u001b[0m\u001b[0;34m\u001b[0m\u001b[0m\n",
            "\u001b[0;32m<ipython-input-78-24bd798e0fb1>\u001b[0m in \u001b[0;36mline_to_list\u001b[0;34m(l)\u001b[0m\n\u001b[1;32m      2\u001b[0m   \u001b[0;32mreturn\u001b[0m \u001b[0mlist\u001b[0m\u001b[0;34m(\u001b[0m\u001b[0mmap\u001b[0m\u001b[0;34m(\u001b[0m\u001b[0mstr\u001b[0m\u001b[0;34m,\u001b[0m\u001b[0ml\u001b[0m\u001b[0;34m)\u001b[0m\u001b[0;34m)\u001b[0m\u001b[0;34m\u001b[0m\u001b[0;34m\u001b[0m\u001b[0m\n\u001b[1;32m      3\u001b[0m \u001b[0;32mdef\u001b[0m \u001b[0mline_to_list\u001b[0m\u001b[0;34m(\u001b[0m\u001b[0ml\u001b[0m\u001b[0;34m)\u001b[0m\u001b[0;34m:\u001b[0m\u001b[0;34m\u001b[0m\u001b[0;34m\u001b[0m\u001b[0m\n\u001b[0;32m----> 4\u001b[0;31m   \u001b[0;32mreturn\u001b[0m \u001b[0mlist\u001b[0m\u001b[0;34m(\u001b[0m\u001b[0mmap\u001b[0m\u001b[0;34m(\u001b[0m\u001b[0mfloat\u001b[0m\u001b[0;34m,\u001b[0m\u001b[0ml\u001b[0m\u001b[0;34m.\u001b[0m\u001b[0mstrip\u001b[0m\u001b[0;34m(\u001b[0m\u001b[0;34m)\u001b[0m\u001b[0;34m.\u001b[0m\u001b[0msplit\u001b[0m\u001b[0;34m(\u001b[0m\u001b[0;34m'\\t'\u001b[0m\u001b[0;34m)\u001b[0m\u001b[0;34m)\u001b[0m\u001b[0;34m)\u001b[0m\u001b[0;34m\u001b[0m\u001b[0;34m\u001b[0m\u001b[0m\n\u001b[0m\u001b[1;32m      5\u001b[0m \u001b[0;34m\u001b[0m\u001b[0m\n\u001b[1;32m      6\u001b[0m \u001b[0;32mwith\u001b[0m \u001b[0mopen\u001b[0m\u001b[0;34m(\u001b[0m\u001b[0;34mf'{EXPERIMENT_NAME}_journal.txt'\u001b[0m\u001b[0;34m,\u001b[0m \u001b[0;34m'w'\u001b[0m\u001b[0;34m)\u001b[0m \u001b[0;32mas\u001b[0m \u001b[0moutfile\u001b[0m\u001b[0;34m:\u001b[0m\u001b[0;34m\u001b[0m\u001b[0;34m\u001b[0m\u001b[0m\n",
            "\u001b[0;31mValueError\u001b[0m: could not convert string to float: 'train accuracy'"
          ]
        }
      ]
    },
    {
      "cell_type": "code",
      "source": [
        "  train_loss, train_accuracy,\\\n",
        "  realec_loss, realec_accuracy,\\\n",
        "  fce_loss, fce_accuracy,\\\n",
        "  correct_loss,correct_accuracy = list(map(line_to_list, text[5::2]))\n",
        "  print(f\"best train loss: {min(train_loss)}, acc: {max(train_accuracy)} on epoch {np.argmax(train_accuracy)+1}\")\n",
        "  print(f\"best realec loss: {min(realec_loss)}, acc: {max(realec_accuracy)}, on epoch {np.argmax(realec_accuracy)+1}\")\n",
        "  print(f\"best fce loss: {min(fce_loss)}, acc: {max(fce_accuracy)}, on epoch {np.argmax(fce_accuracy)+1}\")\n",
        "  print(f\"best correct loss: {min(correct_loss)}, acc: {max(correct_accuracy)}, on epoch {np.argmax(correct_accuracy)+1}\")"
      ],
      "metadata": {
        "id": "k7lY4nNY7Mn5"
      },
      "execution_count": null,
      "outputs": []
    },
    {
      "cell_type": "markdown",
      "source": [
        "## REALEC + Correct"
      ],
      "metadata": {
        "id": "Zp7_7sBizbIQ"
      }
    },
    {
      "cell_type": "markdown",
      "source": [
        "##### Build training dataset and dataloader"
      ],
      "metadata": {
        "id": "NJqEB3pizbIR"
      }
    },
    {
      "cell_type": "code",
      "source": [
        "#realec, fce, correct\n",
        "X = np.append(model_data['realec']['X_train'], model_data['correct']['X_train'])\n",
        "y = np.append(model_data['realec']['y_train'], model_data['correct']['y_train'])\n",
        "\n",
        "train_dataset = LECDataset(X, y)\n",
        "src_vocab_size = tgt_vocab_size = len(train_dataset.vocab.token2id)\n",
        "\n",
        "BATCH_SIZE = 64\n",
        "train_iter = DataLoader(dataset=train_dataset,\n",
        "                        batch_size=BATCH_SIZE,\n",
        "                        shuffle=True,\n",
        "                        num_workers=2,\n",
        "                        collate_fn=collate_fn)"
      ],
      "metadata": {
        "colab": {
          "base_uri": "https://localhost:8080/"
        },
        "outputId": "f27d4b6c-6edc-432e-b4eb-95cca40a860a",
        "id": "dVlMlCf2zbIR"
      },
      "execution_count": null,
      "outputs": [
        {
          "output_type": "stream",
          "name": "stdout",
          "text": [
            "INFO\t2022-05-26 23:55:02\tLoading source sentences\n"
          ]
        },
        {
          "output_type": "stream",
          "name": "stderr",
          "text": [
            "100%|██████████| 10168/10168 [00:04<00:00, 2340.60it/s]\n"
          ]
        },
        {
          "output_type": "stream",
          "name": "stdout",
          "text": [
            "INFO\t2022-05-26 23:55:07\tLoading source sentences\n"
          ]
        },
        {
          "output_type": "stream",
          "name": "stderr",
          "text": [
            "100%|██████████| 10168/10168 [00:02<00:00, 3483.72it/s]\n"
          ]
        },
        {
          "output_type": "stream",
          "name": "stdout",
          "text": [
            "INFO\t2022-05-26 23:55:10\tBuilding Vocab\n"
          ]
        },
        {
          "output_type": "stream",
          "name": "stderr",
          "text": [
            "7551it [00:00, 1170925.37it/s]"
          ]
        },
        {
          "output_type": "stream",
          "name": "stdout",
          "text": [
            "INFO\t2022-05-26 23:55:10\t\n",
            "Building dataset complete\n"
          ]
        },
        {
          "output_type": "stream",
          "name": "stderr",
          "text": [
            "\n"
          ]
        }
      ]
    },
    {
      "cell_type": "markdown",
      "source": [
        "##### Evaluation datasets and dataloaders"
      ],
      "metadata": {
        "id": "3mLz9f7WzbIR"
      }
    },
    {
      "cell_type": "code",
      "source": [
        "realec_dataset = LECDataset(model_data['realec']['X_test'], model_data['realec']['y_test'],\n",
        "                            vocab = train_dataset.vocab)\n",
        "fce_dataset = LECDataset(model_data['fce']['X_test'], model_data['fce']['y_test'],\n",
        "                         vocab = train_dataset.vocab)\n",
        "correct_dataset = LECDataset(model_data['correct']['X_test'], model_data['correct']['y_test'],\n",
        "                             vocab = train_dataset.vocab)\n",
        "\n",
        "BATCH_SIZE = 64\n",
        "realec_iter = DataLoader(dataset=realec_dataset,\n",
        "                        batch_size=BATCH_SIZE, \n",
        "                        shuffle=True,\n",
        "                        num_workers=2,\n",
        "                        collate_fn=collate_fn)\n",
        "fce_iter = DataLoader(dataset=fce_dataset,\n",
        "                        batch_size=BATCH_SIZE, \n",
        "                        shuffle=True,\n",
        "                        num_workers=2,\n",
        "                        collate_fn=collate_fn)\n",
        "correct_iter = DataLoader(dataset=correct_dataset,\n",
        "                        batch_size=BATCH_SIZE, \n",
        "                        shuffle=True,\n",
        "                        num_workers=2,\n",
        "                        collate_fn=collate_fn)"
      ],
      "metadata": {
        "colab": {
          "base_uri": "https://localhost:8080/"
        },
        "outputId": "42ed8550-812d-472f-a2e8-5ff7ea6b317e",
        "id": "-3YJE2PszbIR"
      },
      "execution_count": null,
      "outputs": [
        {
          "output_type": "stream",
          "name": "stdout",
          "text": [
            "INFO\t2022-05-26 23:55:10\tLoading source sentences\n"
          ]
        },
        {
          "output_type": "stream",
          "name": "stderr",
          "text": [
            "100%|██████████| 2543/2543 [00:00<00:00, 5801.50it/s]\n"
          ]
        },
        {
          "output_type": "stream",
          "name": "stdout",
          "text": [
            "INFO\t2022-05-26 23:55:10\tLoading source sentences\n"
          ]
        },
        {
          "output_type": "stream",
          "name": "stderr",
          "text": [
            "100%|██████████| 2543/2543 [00:00<00:00, 4928.69it/s]\n"
          ]
        },
        {
          "output_type": "stream",
          "name": "stdout",
          "text": [
            "INFO\t2022-05-26 23:55:11\t\n",
            "Building dataset complete\n",
            "INFO\t2022-05-26 23:55:11\tLoading source sentences\n"
          ]
        },
        {
          "output_type": "stream",
          "name": "stderr",
          "text": [
            "100%|██████████| 3517/3517 [00:00<00:00, 5833.27it/s]\n"
          ]
        },
        {
          "output_type": "stream",
          "name": "stdout",
          "text": [
            "INFO\t2022-05-26 23:55:11\tLoading source sentences\n"
          ]
        },
        {
          "output_type": "stream",
          "name": "stderr",
          "text": [
            "100%|██████████| 3517/3517 [00:00<00:00, 3999.04it/s]\n"
          ]
        },
        {
          "output_type": "stream",
          "name": "stdout",
          "text": [
            "INFO\t2022-05-26 23:55:12\t\n",
            "Building dataset complete\n",
            "INFO\t2022-05-26 23:55:12\tLoading source sentences\n"
          ]
        },
        {
          "output_type": "stream",
          "name": "stderr",
          "text": [
            "100%|██████████| 2402/2402 [00:00<00:00, 4717.68it/s]\n"
          ]
        },
        {
          "output_type": "stream",
          "name": "stdout",
          "text": [
            "INFO\t2022-05-26 23:55:13\tLoading source sentences\n"
          ]
        },
        {
          "output_type": "stream",
          "name": "stderr",
          "text": [
            "100%|██████████| 2402/2402 [00:00<00:00, 3384.72it/s]"
          ]
        },
        {
          "output_type": "stream",
          "name": "stdout",
          "text": [
            "INFO\t2022-05-26 23:55:13\t\n",
            "Building dataset complete\n"
          ]
        },
        {
          "output_type": "stream",
          "name": "stderr",
          "text": [
            "\n"
          ]
        }
      ]
    },
    {
      "cell_type": "markdown",
      "source": [
        "#### Initialize RNNs + emdeddings + optimizers"
      ],
      "metadata": {
        "id": "9LrhXrURzbIS"
      }
    },
    {
      "cell_type": "code",
      "source": [
        "HIDDEN_SIZE = 512\n",
        "NUM_LAYERS = 2\n",
        "DROPOUT = 0.3\n",
        "TIE_EMBEDDINGS = True\n",
        "TRAIN_EMBEDDINGS = False\n",
        "LOAD_CHECKPOINT = False"
      ],
      "metadata": {
        "id": "R0k1YX7rzbIS"
      },
      "execution_count": null,
      "outputs": []
    },
    {
      "cell_type": "code",
      "source": [
        "if LOAD_CHECKPOINT:\n",
        "  checkpoint_path = './checkpoints/??'\n",
        "  checkpoint = load_checkpoint(checkpoint_path)\n",
        "else:\n",
        "  checkpoint_path = ''\n",
        "\n",
        "word_vec_size = nlp.vocab.vectors_length\n",
        "src_embedding = nn.Embedding(src_vocab_size, word_vec_size, padding_idx=PAD)\n",
        "tgt_embedding = nn.Embedding(tgt_vocab_size, word_vec_size, padding_idx=PAD)\n",
        "tgt_embedding.weight = src_embedding.weight\n",
        "\n",
        "# Initialize models.\n",
        "encoder = EncoderRNN(embedding=src_embedding,\n",
        "                     hidden_size=HIDDEN_SIZE,\n",
        "                     num_layers=NUM_LAYERS,\n",
        "                     dropout=DROPOUT)\n",
        "\n",
        "decoder = LuongAttnDecoderRNN(encoder, embedding=tgt_embedding,\n",
        "                              tie_embeddings=TIE_EMBEDDINGS,\n",
        "                              dropout=DROPOUT)\n",
        "\n",
        "glove_embeddings = load_pretrained_embedding(nlp, train_dataset.vocab)\n",
        "encoder.embedding.weight.data.copy_(glove_embeddings)\n",
        "decoder.embedding.weight.data.copy_(glove_embeddings)\n",
        "\n",
        "if not TRAIN_EMBEDDINGS:\n",
        "  encoder.embedding.weight.requires_grad = False\n",
        "decoder.embedding.weight.requires_grad = False\n",
        "        \n",
        "if LOAD_CHECKPOINT:\n",
        "    encoder.load_state_dict(checkpoint['encoder_state_dict'])\n",
        "    decoder.load_state_dict(checkpoint['decoder_state_dict'])\n",
        "    \n",
        "encoder.to(device)\n",
        "decoder.to(device)"
      ],
      "metadata": {
        "colab": {
          "base_uri": "https://localhost:8080/"
        },
        "outputId": "a1b85af5-69cc-4d20-a457-eb3fe74b1dd4",
        "id": "RIOsoQQlzbIS"
      },
      "execution_count": null,
      "outputs": [
        {
          "output_type": "stream",
          "name": "stderr",
          "text": [
            "100%|██████████| 7557/7557 [00:00<00:00, 63680.42it/s]\n"
          ]
        },
        {
          "output_type": "execute_result",
          "data": {
            "text/plain": [
              "LuongAttnDecoderRNN(\n",
              "  (embedding): Embedding(7557, 300, padding_idx=0)\n",
              "  (rnn): LSTM(300, 512, num_layers=2, dropout=0.3)\n",
              "  (attn): Linear(in_features=512, out_features=512, bias=True)\n",
              "  (concat): Linear(in_features=1024, out_features=512, bias=True)\n",
              "  (project): Linear(in_features=512, out_features=300, bias=True)\n",
              "  (out): Linear(in_features=300, out_features=7557, bias=True)\n",
              ")"
            ]
          },
          "metadata": {},
          "execution_count": 61
        }
      ]
    },
    {
      "cell_type": "code",
      "source": [
        "LEARNING_RATE = 0.001\n",
        "WEIGHT_DECAY = 1e-5\n",
        "MAX_GRAD_NORM = 2\n",
        "encoder_optim = optim.Adam([p for p in encoder.parameters() if p.requires_grad], \n",
        "                           lr=LEARNING_RATE, weight_decay=WEIGHT_DECAY)\n",
        "decoder_optim = optim.Adam([p for p in decoder.parameters() if p.requires_grad], \n",
        "                           lr=LEARNING_RATE, weight_decay=WEIGHT_DECAY)\n",
        "\n",
        "PRINT_EVERY_STEP = 20\n",
        "\n",
        "GLOBAL_STEP = 0 \n",
        "last_save_on_step = 0\n",
        "\n",
        "total_loss = 0\n",
        "total_corrects = 0\n",
        "total_words = 0\n",
        "\n",
        "train_loss_journal, correct_val_loss_journal, fce_val_loss_journal, realec_val_loss_journal = [], [], [], []\n",
        "train_accuracy_journal, correct_val_accuracy_journal, fce_val_accuracy_journal, realec_val_accuracy_journal = [], [], [], []\n",
        "last_save_on_step = None\n",
        "\n",
        "def update_journals(realec_loss, realec_accuracy, realec_val_loss_journal, realec_val_accuracy_journal,\n",
        "                      fce_loss, fce_accuracy, fce_val_loss_journal, fce_val_accuracy_journal,\n",
        "                      correct_loss, correct_accuracy, correct_val_loss_journal, correct_val_accuracy_journal):\n",
        "  realec_val_loss_journal.append(realec_loss)\n",
        "  realec_val_accuracy_journal.append(realec_accuracy)\n",
        "  fce_val_loss_journal.append(fce_loss)\n",
        "  fce_val_accuracy_journal.append(fce_accuracy)\n",
        "  correct_val_loss_journal.append(correct_loss)\n",
        "  correct_val_accuracy_journal.append(correct_accuracy)"
      ],
      "metadata": {
        "id": "dtVwcFdqzbIS"
      },
      "execution_count": null,
      "outputs": []
    },
    {
      "cell_type": "markdown",
      "source": [
        "#### Train and Visualize"
      ],
      "metadata": {
        "id": "OPDFAXXYzbIS"
      }
    },
    {
      "cell_type": "code",
      "source": [
        "EXPERIMENT_NAME = \"correctrealec\"\n",
        "NUM_EPOCHS = 5"
      ],
      "metadata": {
        "id": "Xr28rcVpzbIT"
      },
      "execution_count": null,
      "outputs": []
    },
    {
      "cell_type": "code",
      "source": [
        "for epoch in range(NUM_EPOCHS):\n",
        "  for batch_id, batch_data in tqdm(enumerate(train_iter)):\n",
        "\n",
        "    src_seqs, tgt_seqs, src_lens, tgt_lens = batch_data\n",
        "    \n",
        "    # Ignore batch if there is a long sequence.\n",
        "    max_seq_len = max(src_lens + tgt_lens)\n",
        "    if max_seq_len > MAX_LEN:\n",
        "      print('[!] Ignore batch: sequence length={} > max sequence length={}'.format(MAX_LEN))\n",
        "      continue\n",
        "    \n",
        "    loss, pred_seqs, attention_weights, num_corrects, num_words, encoder_grad_norm, decoder_grad_norm \\\n",
        "    = train(src_seqs, tgt_seqs, src_lens, tgt_lens, encoder, decoder, encoder_optim, decoder_optim)\n",
        "\n",
        "    # Statistics.\n",
        "    GLOBAL_STEP += 1\n",
        "    total_loss += loss\n",
        "    total_corrects += num_corrects\n",
        "    total_words += num_words\n",
        "    total_accuracy = 100 * (total_corrects / total_words)\n",
        "\n",
        "    if GLOBAL_STEP % PRINT_EVERY_STEP == 0:\n",
        "      train_loss_journal.append(total_loss)\n",
        "      train_accuracy_journal.append(total_accuracy.item())\n",
        "      plot_journal(train_loss_journal, \n",
        "                   correct_val_loss_journal, fce_val_loss_journal, realec_val_loss_journal,\n",
        "                   train_accuracy_journal,\n",
        "                   correct_val_accuracy_journal, fce_val_accuracy_journal, realec_val_accuracy_journal,\n",
        "                   last_save_on_step = last_save_on_step, \n",
        "                   checkpoint_path = checkpoint_path, \n",
        "                   epoch = epoch)\n",
        "      \n",
        "      total_loss = 0\n",
        "      total_corrects = 0\n",
        "      total_words = 0\n",
        "\n",
        "    del src_seqs, tgt_seqs, src_lens, tgt_lens, \\\n",
        "        loss, pred_seqs, attention_weights, num_corrects, num_words, \\\n",
        "        encoder_grad_norm, decoder_grad_norm\n",
        "\n",
        "  realec_loss, realec_accuracy = evaluation(realec_iter, encoder, decoder)\n",
        "  fce_loss, fce_accuracy = evaluation(fce_iter, encoder, decoder)\n",
        "  correct_loss, correct_accuracy = evaluation(correct_iter, encoder, decoder)\n",
        "  update_journals(realec_loss, realec_accuracy, realec_val_loss_journal, realec_val_accuracy_journal,\n",
        "                      fce_loss, fce_accuracy, fce_val_loss_journal, fce_val_accuracy_journal,\n",
        "                      correct_loss, correct_accuracy, correct_val_loss_journal, correct_val_accuracy_journal)\n",
        "\n",
        "  last_save_on_step = GLOBAL_STEP\n",
        "  checkpoint_path = save_checkpoint(EXPERIMENT_NAME, encoder, decoder, encoder_optim, decoder_optim, epoch)\n",
        "  \n",
        "  print('SAVE'*25)\n",
        "  print('Save checkpoint to \"{}\".'.format(checkpoint_path))\n",
        "  print('SAVE'*25)\n",
        "\n",
        "  plot_journal(train_loss_journal, \n",
        "                correct_val_loss_journal, fce_val_loss_journal, realec_val_loss_journal,\n",
        "                train_accuracy_journal,\n",
        "                correct_val_accuracy_journal, fce_val_accuracy_journal, realec_val_accuracy_journal,\n",
        "                last_save_on_step = last_save_on_step, \n",
        "                checkpoint_path = checkpoint_path, \n",
        "                epoch = epoch)"
      ],
      "metadata": {
        "colab": {
          "base_uri": "https://localhost:8080/",
          "height": 986
        },
        "outputId": "54fb2de2-ce48-464e-ad50-d5c4206120e0",
        "id": "8AMX7wCmzbIT"
      },
      "execution_count": null,
      "outputs": [
        {
          "output_type": "stream",
          "name": "stdout",
          "text": [
            "Train loss: 46.362364768981934, Train acc: 69.295654296875\n",
            "last save at step None, path: \n"
          ]
        },
        {
          "output_type": "display_data",
          "data": {
            "text/plain": [
              "<Figure size 1296x720 with 4 Axes>"
            ],
            "image/png": "[encoded data removed]"
          },
          "metadata": {
            "needs_background": "light"
          }
        },
        {
          "output_type": "stream",
          "name": "stderr",
          "text": [
            "\r140it [01:16,  1.28it/s]/usr/local/lib/python3.7/dist-packages/ipykernel_launcher.py:3: UserWarning: Implicit dimension choice for log_softmax has been deprecated. Change the call to include dim=X as an argument.\n",
            "  This is separate from the ipykernel package so we can avoid doing imports until\n",
            "159it [01:26,  1.83it/s]\n",
            "/usr/local/lib/python3.7/dist-packages/ipykernel_launcher.py:5: UserWarning: volatile was removed and now has no effect. Use `with torch.no_grad():` instead.\n",
            "  \"\"\"\n",
            "/usr/local/lib/python3.7/dist-packages/ipykernel_launcher.py:6: UserWarning: volatile was removed and now has no effect. Use `with torch.no_grad():` instead.\n",
            "  \n",
            "/usr/local/lib/python3.7/dist-packages/ipykernel_launcher.py:7: UserWarning: volatile was removed and now has no effect. Use `with torch.no_grad():` instead.\n",
            "  import sys\n",
            "/usr/local/lib/python3.7/dist-packages/ipykernel_launcher.py:8: UserWarning: volatile was removed and now has no effect. Use `with torch.no_grad():` instead.\n",
            "  \n",
            "/usr/local/lib/python3.7/dist-packages/ipykernel_launcher.py:14: UserWarning: volatile was removed and now has no effect. Use `with torch.no_grad():` instead.\n",
            "  \n",
            "/usr/local/lib/python3.7/dist-packages/ipykernel_launcher.py:17: UserWarning: volatile was removed and now has no effect. Use `with torch.no_grad():` instead.\n"
          ]
        }
      ]
    },
    {
      "cell_type": "code",
      "source": [
        "def str_list(l):\n",
        "  return list(map(str,l))\n",
        "def line_to_list(l):\n",
        "  return list(map(float,l.strip().split('\\t')))\n",
        "\n",
        "with open(f'{EXPERIMENT_NAME}_journal.txt', 'w') as outfile:\n",
        "  print('='*10+'\\n')\n",
        "  print(EXPERIMENT_NAME+'\\n')\n",
        "  outfile.write(f'train loss every {str(PRINT_EVERY_STEP)} steps, test -- every 1 epoch\\n\\\n",
        "  last checpoint saved at {checkpoint_path}\\n')\n",
        "  outfile.write(f'BATCH_SIZE = {str(BATCH_SIZE)}, LEARNING_RATE = {str(LEARNING_RATE)},  WEIGHT_DECAY = {str(WEIGHT_DECAY)}\\n')\n",
        "  outfile.write('train loss\\n')\n",
        "  outfile.write('\\t'.join(str_list(train_loss_journal))+'\\n')\n",
        "  outfile.write('train accuracy\\n')\n",
        "  outfile.write('\\t'.join(str_list(train_accuracy_journal))+'\\n')\n",
        "\n",
        "  outfile.write('realec val loss\\n')\n",
        "  outfile.write('\\t'.join(str_list(realec_val_loss_journal))+'\\n')\n",
        "  outfile.write('realec val accuracy\\n')\n",
        "  outfile.write('\\t'.join(str_list(realec_val_accuracy_journal))+'\\n')\n",
        "\n",
        "  outfile.write('fce val loss\\n')\n",
        "  outfile.write('\\t'.join(str_list(fce_val_accuracy_journal))+'\\n')\n",
        "  outfile.write('fce val accuracy\\n')\n",
        "  outfile.write('\\t'.join(str_list(fce_val_accuracy_journal))+'\\n')\n",
        "\n",
        "  outfile.write('correct val loss\\n')\n",
        "  outfile.write('\\t'.join(str_list(correct_val_loss_journal))+'\\n')\n",
        "  outfile.write('correct val accuracy\\n')\n",
        "  outfile.write('\\t'.join(str_list(correct_val_accuracy_journal))+'\\n')\n",
        "\n",
        "with open(f'{EXPERIMENT_NAME}_journal.txt') as infile:\n",
        "  text = infile.read()\n",
        "  with open(f'journal.txt', 'a+') as outfile:\n",
        "    outfile.write(text)\n",
        "\n",
        "with open(f'{EXPERIMENT_NAME}_journal.txt') as infile:\n",
        "  text = infile.readlines()\n",
        "  print(*text,sep='\\n')\n"
      ],
      "metadata": {
        "id": "WIQTB-JyzbIT"
      },
      "execution_count": null,
      "outputs": []
    },
    {
      "cell_type": "markdown",
      "source": [
        "## FCE + Correct"
      ],
      "metadata": {
        "id": "lddNOrnZz_Wt"
      }
    },
    {
      "cell_type": "markdown",
      "source": [
        "##### Build training dataset and dataloader"
      ],
      "metadata": {
        "id": "71vYH6mAz_Wu"
      }
    },
    {
      "cell_type": "code",
      "source": [
        "#realec, fce, correct\n",
        "X = np.append(model_data['fce']['X_train'], model_data['correct']['X_train'])\n",
        "y = np.append(model_data['fce']['y_train'], model_data['correct']['y_train'])\n",
        "\n",
        "train_dataset = LECDataset(X, y)\n",
        "src_vocab_size = tgt_vocab_size = len(train_dataset.vocab.token2id)\n",
        "\n",
        "BATCH_SIZE = 64\n",
        "train_iter = DataLoader(dataset=train_dataset,\n",
        "                        batch_size=BATCH_SIZE,\n",
        "                        shuffle=True,\n",
        "                        num_workers=2,\n",
        "                        collate_fn=collate_fn)"
      ],
      "metadata": {
        "colab": {
          "base_uri": "https://localhost:8080/"
        },
        "outputId": "f27d4b6c-6edc-432e-b4eb-95cca40a860a",
        "id": "yu5FQC_Pz_Wu"
      },
      "execution_count": null,
      "outputs": [
        {
          "output_type": "stream",
          "name": "stdout",
          "text": [
            "INFO\t2022-05-26 23:55:02\tLoading source sentences\n"
          ]
        },
        {
          "output_type": "stream",
          "name": "stderr",
          "text": [
            "100%|██████████| 10168/10168 [00:04<00:00, 2340.60it/s]\n"
          ]
        },
        {
          "output_type": "stream",
          "name": "stdout",
          "text": [
            "INFO\t2022-05-26 23:55:07\tLoading source sentences\n"
          ]
        },
        {
          "output_type": "stream",
          "name": "stderr",
          "text": [
            "100%|██████████| 10168/10168 [00:02<00:00, 3483.72it/s]\n"
          ]
        },
        {
          "output_type": "stream",
          "name": "stdout",
          "text": [
            "INFO\t2022-05-26 23:55:10\tBuilding Vocab\n"
          ]
        },
        {
          "output_type": "stream",
          "name": "stderr",
          "text": [
            "7551it [00:00, 1170925.37it/s]"
          ]
        },
        {
          "output_type": "stream",
          "name": "stdout",
          "text": [
            "INFO\t2022-05-26 23:55:10\t\n",
            "Building dataset complete\n"
          ]
        },
        {
          "output_type": "stream",
          "name": "stderr",
          "text": [
            "\n"
          ]
        }
      ]
    },
    {
      "cell_type": "markdown",
      "source": [
        "##### Evaluation datasets and dataloaders"
      ],
      "metadata": {
        "id": "RJXYXu5Jz_Wu"
      }
    },
    {
      "cell_type": "code",
      "source": [
        "realec_dataset = LECDataset(model_data['realec']['X_test'], model_data['realec']['y_test'],\n",
        "                            vocab = train_dataset.vocab)\n",
        "fce_dataset = LECDataset(model_data['fce']['X_test'], model_data['fce']['y_test'],\n",
        "                         vocab = train_dataset.vocab)\n",
        "correct_dataset = LECDataset(model_data['correct']['X_test'], model_data['correct']['y_test'],\n",
        "                             vocab = train_dataset.vocab)\n",
        "\n",
        "BATCH_SIZE = 64\n",
        "realec_iter = DataLoader(dataset=realec_dataset,\n",
        "                        batch_size=BATCH_SIZE, \n",
        "                        shuffle=True,\n",
        "                        num_workers=2,\n",
        "                        collate_fn=collate_fn)\n",
        "fce_iter = DataLoader(dataset=fce_dataset,\n",
        "                        batch_size=BATCH_SIZE, \n",
        "                        shuffle=True,\n",
        "                        num_workers=2,\n",
        "                        collate_fn=collate_fn)\n",
        "correct_iter = DataLoader(dataset=correct_dataset,\n",
        "                        batch_size=BATCH_SIZE, \n",
        "                        shuffle=True,\n",
        "                        num_workers=2,\n",
        "                        collate_fn=collate_fn)"
      ],
      "metadata": {
        "colab": {
          "base_uri": "https://localhost:8080/"
        },
        "outputId": "42ed8550-812d-472f-a2e8-5ff7ea6b317e",
        "id": "33uZi3TKz_Wu"
      },
      "execution_count": null,
      "outputs": [
        {
          "output_type": "stream",
          "name": "stdout",
          "text": [
            "INFO\t2022-05-26 23:55:10\tLoading source sentences\n"
          ]
        },
        {
          "output_type": "stream",
          "name": "stderr",
          "text": [
            "100%|██████████| 2543/2543 [00:00<00:00, 5801.50it/s]\n"
          ]
        },
        {
          "output_type": "stream",
          "name": "stdout",
          "text": [
            "INFO\t2022-05-26 23:55:10\tLoading source sentences\n"
          ]
        },
        {
          "output_type": "stream",
          "name": "stderr",
          "text": [
            "100%|██████████| 2543/2543 [00:00<00:00, 4928.69it/s]\n"
          ]
        },
        {
          "output_type": "stream",
          "name": "stdout",
          "text": [
            "INFO\t2022-05-26 23:55:11\t\n",
            "Building dataset complete\n",
            "INFO\t2022-05-26 23:55:11\tLoading source sentences\n"
          ]
        },
        {
          "output_type": "stream",
          "name": "stderr",
          "text": [
            "100%|██████████| 3517/3517 [00:00<00:00, 5833.27it/s]\n"
          ]
        },
        {
          "output_type": "stream",
          "name": "stdout",
          "text": [
            "INFO\t2022-05-26 23:55:11\tLoading source sentences\n"
          ]
        },
        {
          "output_type": "stream",
          "name": "stderr",
          "text": [
            "100%|██████████| 3517/3517 [00:00<00:00, 3999.04it/s]\n"
          ]
        },
        {
          "output_type": "stream",
          "name": "stdout",
          "text": [
            "INFO\t2022-05-26 23:55:12\t\n",
            "Building dataset complete\n",
            "INFO\t2022-05-26 23:55:12\tLoading source sentences\n"
          ]
        },
        {
          "output_type": "stream",
          "name": "stderr",
          "text": [
            "100%|██████████| 2402/2402 [00:00<00:00, 4717.68it/s]\n"
          ]
        },
        {
          "output_type": "stream",
          "name": "stdout",
          "text": [
            "INFO\t2022-05-26 23:55:13\tLoading source sentences\n"
          ]
        },
        {
          "output_type": "stream",
          "name": "stderr",
          "text": [
            "100%|██████████| 2402/2402 [00:00<00:00, 3384.72it/s]"
          ]
        },
        {
          "output_type": "stream",
          "name": "stdout",
          "text": [
            "INFO\t2022-05-26 23:55:13\t\n",
            "Building dataset complete\n"
          ]
        },
        {
          "output_type": "stream",
          "name": "stderr",
          "text": [
            "\n"
          ]
        }
      ]
    },
    {
      "cell_type": "markdown",
      "source": [
        "#### Initialize RNNs + emdeddings + optimizers"
      ],
      "metadata": {
        "id": "iIzUFVFIz_Wv"
      }
    },
    {
      "cell_type": "code",
      "source": [
        "HIDDEN_SIZE = 512\n",
        "NUM_LAYERS = 2\n",
        "DROPOUT = 0.3\n",
        "TIE_EMBEDDINGS = True\n",
        "TRAIN_EMBEDDINGS = False\n",
        "LOAD_CHECKPOINT = False"
      ],
      "metadata": {
        "id": "niRKzuVfz_Wv"
      },
      "execution_count": null,
      "outputs": []
    },
    {
      "cell_type": "code",
      "source": [
        "if LOAD_CHECKPOINT:\n",
        "  checkpoint_path = './checkpoints/??'\n",
        "  checkpoint = load_checkpoint(checkpoint_path)\n",
        "else:\n",
        "  checkpoint_path = ''\n",
        "\n",
        "word_vec_size = nlp.vocab.vectors_length\n",
        "src_embedding = nn.Embedding(src_vocab_size, word_vec_size, padding_idx=PAD)\n",
        "tgt_embedding = nn.Embedding(tgt_vocab_size, word_vec_size, padding_idx=PAD)\n",
        "tgt_embedding.weight = src_embedding.weight\n",
        "\n",
        "# Initialize models.\n",
        "encoder = EncoderRNN(embedding=src_embedding,\n",
        "                     hidden_size=HIDDEN_SIZE,\n",
        "                     num_layers=NUM_LAYERS,\n",
        "                     dropout=DROPOUT)\n",
        "\n",
        "decoder = LuongAttnDecoderRNN(encoder, embedding=tgt_embedding,\n",
        "                              tie_embeddings=TIE_EMBEDDINGS,\n",
        "                              dropout=DROPOUT)\n",
        "\n",
        "glove_embeddings = load_pretrained_embedding(nlp, train_dataset.vocab)\n",
        "encoder.embedding.weight.data.copy_(glove_embeddings)\n",
        "decoder.embedding.weight.data.copy_(glove_embeddings)\n",
        "\n",
        "if not TRAIN_EMBEDDINGS:\n",
        "  encoder.embedding.weight.requires_grad = False\n",
        "decoder.embedding.weight.requires_grad = False\n",
        "        \n",
        "if LOAD_CHECKPOINT:\n",
        "    encoder.load_state_dict(checkpoint['encoder_state_dict'])\n",
        "    decoder.load_state_dict(checkpoint['decoder_state_dict'])\n",
        "    \n",
        "encoder.to(device)\n",
        "decoder.to(device)"
      ],
      "metadata": {
        "colab": {
          "base_uri": "https://localhost:8080/"
        },
        "outputId": "a1b85af5-69cc-4d20-a457-eb3fe74b1dd4",
        "id": "0HvAbQZXz_Wv"
      },
      "execution_count": null,
      "outputs": [
        {
          "output_type": "stream",
          "name": "stderr",
          "text": [
            "100%|██████████| 7557/7557 [00:00<00:00, 63680.42it/s]\n"
          ]
        },
        {
          "output_type": "execute_result",
          "data": {
            "text/plain": [
              "LuongAttnDecoderRNN(\n",
              "  (embedding): Embedding(7557, 300, padding_idx=0)\n",
              "  (rnn): LSTM(300, 512, num_layers=2, dropout=0.3)\n",
              "  (attn): Linear(in_features=512, out_features=512, bias=True)\n",
              "  (concat): Linear(in_features=1024, out_features=512, bias=True)\n",
              "  (project): Linear(in_features=512, out_features=300, bias=True)\n",
              "  (out): Linear(in_features=300, out_features=7557, bias=True)\n",
              ")"
            ]
          },
          "metadata": {},
          "execution_count": 61
        }
      ]
    },
    {
      "cell_type": "code",
      "source": [
        "LEARNING_RATE = 0.001\n",
        "WEIGHT_DECAY = 1e-5\n",
        "MAX_GRAD_NORM = 2\n",
        "encoder_optim = optim.Adam([p for p in encoder.parameters() if p.requires_grad], \n",
        "                           lr=LEARNING_RATE, weight_decay=WEIGHT_DECAY)\n",
        "decoder_optim = optim.Adam([p for p in decoder.parameters() if p.requires_grad], \n",
        "                           lr=LEARNING_RATE, weight_decay=WEIGHT_DECAY)\n",
        "\n",
        "PRINT_EVERY_STEP = 20\n",
        "\n",
        "GLOBAL_STEP = 0 \n",
        "last_save_on_step = 0\n",
        "\n",
        "total_loss = 0\n",
        "total_corrects = 0\n",
        "total_words = 0\n",
        "\n",
        "train_loss_journal, correct_val_loss_journal, fce_val_loss_journal, realec_val_loss_journal = [], [], [], []\n",
        "train_accuracy_journal, correct_val_accuracy_journal, fce_val_accuracy_journal, realec_val_accuracy_journal = [], [], [], []\n",
        "last_save_on_step = None\n",
        "\n",
        "def update_journals(realec_loss, realec_accuracy, realec_val_loss_journal, realec_val_accuracy_journal,\n",
        "                      fce_loss, fce_accuracy, fce_val_loss_journal, fce_val_accuracy_journal,\n",
        "                      correct_loss, correct_accuracy, correct_val_loss_journal, correct_val_accuracy_journal):\n",
        "  realec_val_loss_journal.append(realec_loss)\n",
        "  realec_val_accuracy_journal.append(realec_accuracy)\n",
        "  fce_val_loss_journal.append(fce_loss)\n",
        "  fce_val_accuracy_journal.append(fce_accuracy)\n",
        "  correct_val_loss_journal.append(correct_loss)\n",
        "  correct_val_accuracy_journal.append(correct_accuracy)"
      ],
      "metadata": {
        "id": "9Tq91Or6z_Wv"
      },
      "execution_count": null,
      "outputs": []
    },
    {
      "cell_type": "markdown",
      "source": [
        "#### Train and Visualize"
      ],
      "metadata": {
        "id": "u_dgb0wrz_Ww"
      }
    },
    {
      "cell_type": "code",
      "source": [
        "EXPERIMENT_NAME = \"correctfce\"\n",
        "NUM_EPOCHS = 5"
      ],
      "metadata": {
        "id": "MTmdzTLIz_Ww"
      },
      "execution_count": null,
      "outputs": []
    },
    {
      "cell_type": "code",
      "source": [
        "for epoch in range(NUM_EPOCHS):\n",
        "  for batch_id, batch_data in tqdm(enumerate(train_iter)):\n",
        "\n",
        "    src_seqs, tgt_seqs, src_lens, tgt_lens = batch_data\n",
        "    \n",
        "    # Ignore batch if there is a long sequence.\n",
        "    max_seq_len = max(src_lens + tgt_lens)\n",
        "    if max_seq_len > MAX_LEN:\n",
        "      print('[!] Ignore batch: sequence length={} > max sequence length={}'.format(MAX_LEN))\n",
        "      continue\n",
        "    \n",
        "    loss, pred_seqs, attention_weights, num_corrects, num_words, encoder_grad_norm, decoder_grad_norm \\\n",
        "    = train(src_seqs, tgt_seqs, src_lens, tgt_lens, encoder, decoder, encoder_optim, decoder_optim)\n",
        "\n",
        "    # Statistics.\n",
        "    GLOBAL_STEP += 1\n",
        "    total_loss += loss\n",
        "    total_corrects += num_corrects\n",
        "    total_words += num_words\n",
        "    total_accuracy = 100 * (total_corrects / total_words)\n",
        "\n",
        "    if GLOBAL_STEP % PRINT_EVERY_STEP == 0:\n",
        "      train_loss_journal.append(total_loss)\n",
        "      train_accuracy_journal.append(total_accuracy.item())\n",
        "      plot_journal(train_loss_journal, \n",
        "                   correct_val_loss_journal, fce_val_loss_journal, realec_val_loss_journal,\n",
        "                   train_accuracy_journal,\n",
        "                   correct_val_accuracy_journal, fce_val_accuracy_journal, realec_val_accuracy_journal,\n",
        "                   last_save_on_step = last_save_on_step, \n",
        "                   checkpoint_path = checkpoint_path, \n",
        "                   epoch = epoch)\n",
        "      \n",
        "      total_loss = 0\n",
        "      total_corrects = 0\n",
        "      total_words = 0\n",
        "\n",
        "    del src_seqs, tgt_seqs, src_lens, tgt_lens, \\\n",
        "        loss, pred_seqs, attention_weights, num_corrects, num_words, \\\n",
        "        encoder_grad_norm, decoder_grad_norm\n",
        "\n",
        "  realec_loss, realec_accuracy = evaluation(realec_iter, encoder, decoder)\n",
        "  fce_loss, fce_accuracy = evaluation(fce_iter, encoder, decoder)\n",
        "  correct_loss, correct_accuracy = evaluation(correct_iter, encoder, decoder)\n",
        "  update_journals(realec_loss, realec_accuracy, realec_val_loss_journal, realec_val_accuracy_journal,\n",
        "                      fce_loss, fce_accuracy, fce_val_loss_journal, fce_val_accuracy_journal,\n",
        "                      correct_loss, correct_accuracy, correct_val_loss_journal, correct_val_accuracy_journal)\n",
        "\n",
        "  last_save_on_step = GLOBAL_STEP\n",
        "  checkpoint_path = save_checkpoint(EXPERIMENT_NAME, encoder, decoder, encoder_optim, decoder_optim, epoch)\n",
        "  \n",
        "  print('SAVE'*25)\n",
        "  print('Save checkpoint to \"{}\".'.format(checkpoint_path))\n",
        "  print('SAVE'*25)\n",
        "\n",
        "  plot_journal(train_loss_journal, \n",
        "                correct_val_loss_journal, fce_val_loss_journal, realec_val_loss_journal,\n",
        "                train_accuracy_journal,\n",
        "                correct_val_accuracy_journal, fce_val_accuracy_journal, realec_val_accuracy_journal,\n",
        "                last_save_on_step = last_save_on_step, \n",
        "                checkpoint_path = checkpoint_path, \n",
        "                epoch = epoch)"
      ],
      "metadata": {
        "colab": {
          "base_uri": "https://localhost:8080/",
          "height": 986
        },
        "outputId": "54fb2de2-ce48-464e-ad50-d5c4206120e0",
        "id": "J95PqCYGz_Ww"
      },
      "execution_count": null,
      "outputs": [
        {
          "output_type": "stream",
          "name": "stdout",
          "text": [
            "Train loss: 46.362364768981934, Train acc: 69.295654296875\n",
            "last save at step None, path: \n"
          ]
        },
        {
          "output_type": "display_data",
          "data": {
            "text/plain": [
              "<Figure size 1296x720 with 4 Axes>"
            ],
            "image/png": "[encoded data removed]"
          },
          "metadata": {
            "needs_background": "light"
          }
        },
        {
          "output_type": "stream",
          "name": "stderr",
          "text": [
            "\r140it [01:16,  1.28it/s]/usr/local/lib/python3.7/dist-packages/ipykernel_launcher.py:3: UserWarning: Implicit dimension choice for log_softmax has been deprecated. Change the call to include dim=X as an argument.\n",
            "  This is separate from the ipykernel package so we can avoid doing imports until\n",
            "159it [01:26,  1.83it/s]\n",
            "/usr/local/lib/python3.7/dist-packages/ipykernel_launcher.py:5: UserWarning: volatile was removed and now has no effect. Use `with torch.no_grad():` instead.\n",
            "  \"\"\"\n",
            "/usr/local/lib/python3.7/dist-packages/ipykernel_launcher.py:6: UserWarning: volatile was removed and now has no effect. Use `with torch.no_grad():` instead.\n",
            "  \n",
            "/usr/local/lib/python3.7/dist-packages/ipykernel_launcher.py:7: UserWarning: volatile was removed and now has no effect. Use `with torch.no_grad():` instead.\n",
            "  import sys\n",
            "/usr/local/lib/python3.7/dist-packages/ipykernel_launcher.py:8: UserWarning: volatile was removed and now has no effect. Use `with torch.no_grad():` instead.\n",
            "  \n",
            "/usr/local/lib/python3.7/dist-packages/ipykernel_launcher.py:14: UserWarning: volatile was removed and now has no effect. Use `with torch.no_grad():` instead.\n",
            "  \n",
            "/usr/local/lib/python3.7/dist-packages/ipykernel_launcher.py:17: UserWarning: volatile was removed and now has no effect. Use `with torch.no_grad():` instead.\n"
          ]
        }
      ]
    },
    {
      "cell_type": "code",
      "source": [
        "def str_list(l):\n",
        "  return list(map(str,l))\n",
        "def line_to_list(l):\n",
        "  return list(map(float,l.strip().split('\\t')))\n",
        "\n",
        "with open(f'{EXPERIMENT_NAME}_journal.txt', 'w') as outfile:\n",
        "  print('='*10+'\\n')\n",
        "  print(EXPERIMENT_NAME+'\\n')\n",
        "  outfile.write(f'train loss every {str(PRINT_EVERY_STEP)} steps, test -- every 1 epoch\\n\\\n",
        "  last checpoint saved at {checkpoint_path}\\n')\n",
        "  outfile.write(f'BATCH_SIZE = {str(BATCH_SIZE)}, LEARNING_RATE = {str(LEARNING_RATE)},  WEIGHT_DECAY = {str(WEIGHT_DECAY)}\\n')\n",
        "  outfile.write('train loss\\n')\n",
        "  outfile.write('\\t'.join(str_list(train_loss_journal))+'\\n')\n",
        "  outfile.write('train accuracy\\n')\n",
        "  outfile.write('\\t'.join(str_list(train_accuracy_journal))+'\\n')\n",
        "\n",
        "  outfile.write('realec val loss\\n')\n",
        "  outfile.write('\\t'.join(str_list(realec_val_loss_journal))+'\\n')\n",
        "  outfile.write('realec val accuracy\\n')\n",
        "  outfile.write('\\t'.join(str_list(realec_val_accuracy_journal))+'\\n')\n",
        "\n",
        "  outfile.write('fce val loss\\n')\n",
        "  outfile.write('\\t'.join(str_list(fce_val_accuracy_journal))+'\\n')\n",
        "  outfile.write('fce val accuracy\\n')\n",
        "  outfile.write('\\t'.join(str_list(fce_val_accuracy_journal))+'\\n')\n",
        "\n",
        "  outfile.write('correct val loss\\n')\n",
        "  outfile.write('\\t'.join(str_list(correct_val_loss_journal))+'\\n')\n",
        "  outfile.write('correct val accuracy\\n')\n",
        "  outfile.write('\\t'.join(str_list(correct_val_accuracy_journal))+'\\n')\n",
        "\n",
        "with open(f'{EXPERIMENT_NAME}_journal.txt') as infile:\n",
        "  text = infile.read()\n",
        "  with open(f'journal.txt', 'a+') as outfile:\n",
        "    outfile.write(text)\n",
        "\n",
        "with open(f'{EXPERIMENT_NAME}_journal.txt') as infile:\n",
        "  text = infile.readlines()\n",
        "  print(*text,sep='\\n')\n"
      ],
      "metadata": {
        "id": "EwHZkKb5z_Ww"
      },
      "execution_count": null,
      "outputs": []
    },
    {
      "cell_type": "markdown",
      "source": [
        "## REALEC + FCE"
      ],
      "metadata": {
        "id": "laneTZ-t0AsO"
      }
    },
    {
      "cell_type": "markdown",
      "source": [
        "##### Build training dataset and dataloader"
      ],
      "metadata": {
        "id": "au79Bkff0AsP"
      }
    },
    {
      "cell_type": "code",
      "source": [
        "#realec, fce, correct\n",
        "\n",
        "X = np.append(model_data['realec']['X_train'], model_data['fce']['X_train'])\n",
        "y = np.append(model_data['realec']['y_train'], model_data['fce']['y_train'])\n",
        "\n",
        "train_dataset = LECDataset(X, y)\n",
        "src_vocab_size = tgt_vocab_size = len(train_dataset.vocab.token2id)\n",
        "\n",
        "BATCH_SIZE = 64\n",
        "train_iter = DataLoader(dataset=train_dataset,\n",
        "                        batch_size=BATCH_SIZE,\n",
        "                        shuffle=True,\n",
        "                        num_workers=2,\n",
        "                        collate_fn=collate_fn)"
      ],
      "metadata": {
        "colab": {
          "base_uri": "https://localhost:8080/"
        },
        "outputId": "f27d4b6c-6edc-432e-b4eb-95cca40a860a",
        "id": "ISicH0z40AsP"
      },
      "execution_count": null,
      "outputs": [
        {
          "output_type": "stream",
          "name": "stdout",
          "text": [
            "INFO\t2022-05-26 23:55:02\tLoading source sentences\n"
          ]
        },
        {
          "output_type": "stream",
          "name": "stderr",
          "text": [
            "100%|██████████| 10168/10168 [00:04<00:00, 2340.60it/s]\n"
          ]
        },
        {
          "output_type": "stream",
          "name": "stdout",
          "text": [
            "INFO\t2022-05-26 23:55:07\tLoading source sentences\n"
          ]
        },
        {
          "output_type": "stream",
          "name": "stderr",
          "text": [
            "100%|██████████| 10168/10168 [00:02<00:00, 3483.72it/s]\n"
          ]
        },
        {
          "output_type": "stream",
          "name": "stdout",
          "text": [
            "INFO\t2022-05-26 23:55:10\tBuilding Vocab\n"
          ]
        },
        {
          "output_type": "stream",
          "name": "stderr",
          "text": [
            "7551it [00:00, 1170925.37it/s]"
          ]
        },
        {
          "output_type": "stream",
          "name": "stdout",
          "text": [
            "INFO\t2022-05-26 23:55:10\t\n",
            "Building dataset complete\n"
          ]
        },
        {
          "output_type": "stream",
          "name": "stderr",
          "text": [
            "\n"
          ]
        }
      ]
    },
    {
      "cell_type": "markdown",
      "source": [
        "##### Evaluation datasets and dataloaders"
      ],
      "metadata": {
        "id": "T_9O5gcn0AsQ"
      }
    },
    {
      "cell_type": "code",
      "source": [
        "realec_dataset = LECDataset(model_data['realec']['X_test'], model_data['realec']['y_test'],\n",
        "                            vocab = train_dataset.vocab)\n",
        "fce_dataset = LECDataset(model_data['fce']['X_test'], model_data['fce']['y_test'],\n",
        "                         vocab = train_dataset.vocab)\n",
        "correct_dataset = LECDataset(model_data['correct']['X_test'], model_data['correct']['y_test'],\n",
        "                             vocab = train_dataset.vocab)\n",
        "\n",
        "BATCH_SIZE = 64\n",
        "realec_iter = DataLoader(dataset=realec_dataset,\n",
        "                        batch_size=BATCH_SIZE, \n",
        "                        shuffle=True,\n",
        "                        num_workers=2,\n",
        "                        collate_fn=collate_fn)\n",
        "fce_iter = DataLoader(dataset=fce_dataset,\n",
        "                        batch_size=BATCH_SIZE, \n",
        "                        shuffle=True,\n",
        "                        num_workers=2,\n",
        "                        collate_fn=collate_fn)\n",
        "correct_iter = DataLoader(dataset=correct_dataset,\n",
        "                        batch_size=BATCH_SIZE, \n",
        "                        shuffle=True,\n",
        "                        num_workers=2,\n",
        "                        collate_fn=collate_fn)"
      ],
      "metadata": {
        "colab": {
          "base_uri": "https://localhost:8080/"
        },
        "outputId": "42ed8550-812d-472f-a2e8-5ff7ea6b317e",
        "id": "SQYxtkqk0AsQ"
      },
      "execution_count": null,
      "outputs": [
        {
          "output_type": "stream",
          "name": "stdout",
          "text": [
            "INFO\t2022-05-26 23:55:10\tLoading source sentences\n"
          ]
        },
        {
          "output_type": "stream",
          "name": "stderr",
          "text": [
            "100%|██████████| 2543/2543 [00:00<00:00, 5801.50it/s]\n"
          ]
        },
        {
          "output_type": "stream",
          "name": "stdout",
          "text": [
            "INFO\t2022-05-26 23:55:10\tLoading source sentences\n"
          ]
        },
        {
          "output_type": "stream",
          "name": "stderr",
          "text": [
            "100%|██████████| 2543/2543 [00:00<00:00, 4928.69it/s]\n"
          ]
        },
        {
          "output_type": "stream",
          "name": "stdout",
          "text": [
            "INFO\t2022-05-26 23:55:11\t\n",
            "Building dataset complete\n",
            "INFO\t2022-05-26 23:55:11\tLoading source sentences\n"
          ]
        },
        {
          "output_type": "stream",
          "name": "stderr",
          "text": [
            "100%|██████████| 3517/3517 [00:00<00:00, 5833.27it/s]\n"
          ]
        },
        {
          "output_type": "stream",
          "name": "stdout",
          "text": [
            "INFO\t2022-05-26 23:55:11\tLoading source sentences\n"
          ]
        },
        {
          "output_type": "stream",
          "name": "stderr",
          "text": [
            "100%|██████████| 3517/3517 [00:00<00:00, 3999.04it/s]\n"
          ]
        },
        {
          "output_type": "stream",
          "name": "stdout",
          "text": [
            "INFO\t2022-05-26 23:55:12\t\n",
            "Building dataset complete\n",
            "INFO\t2022-05-26 23:55:12\tLoading source sentences\n"
          ]
        },
        {
          "output_type": "stream",
          "name": "stderr",
          "text": [
            "100%|██████████| 2402/2402 [00:00<00:00, 4717.68it/s]\n"
          ]
        },
        {
          "output_type": "stream",
          "name": "stdout",
          "text": [
            "INFO\t2022-05-26 23:55:13\tLoading source sentences\n"
          ]
        },
        {
          "output_type": "stream",
          "name": "stderr",
          "text": [
            "100%|██████████| 2402/2402 [00:00<00:00, 3384.72it/s]"
          ]
        },
        {
          "output_type": "stream",
          "name": "stdout",
          "text": [
            "INFO\t2022-05-26 23:55:13\t\n",
            "Building dataset complete\n"
          ]
        },
        {
          "output_type": "stream",
          "name": "stderr",
          "text": [
            "\n"
          ]
        }
      ]
    },
    {
      "cell_type": "markdown",
      "source": [
        "#### Initialize RNNs + emdeddings + optimizers"
      ],
      "metadata": {
        "id": "SFyj44uv0AsS"
      }
    },
    {
      "cell_type": "code",
      "source": [
        "HIDDEN_SIZE = 512\n",
        "NUM_LAYERS = 2\n",
        "DROPOUT = 0.3\n",
        "TIE_EMBEDDINGS = True\n",
        "TRAIN_EMBEDDINGS = False\n",
        "LOAD_CHECKPOINT = False"
      ],
      "metadata": {
        "id": "m-nHxjGs0AsT"
      },
      "execution_count": null,
      "outputs": []
    },
    {
      "cell_type": "code",
      "source": [
        "if LOAD_CHECKPOINT:\n",
        "  checkpoint_path = './checkpoints/??'\n",
        "  checkpoint = load_checkpoint(checkpoint_path)\n",
        "else:\n",
        "  checkpoint_path = ''\n",
        "\n",
        "word_vec_size = nlp.vocab.vectors_length\n",
        "src_embedding = nn.Embedding(src_vocab_size, word_vec_size, padding_idx=PAD)\n",
        "tgt_embedding = nn.Embedding(tgt_vocab_size, word_vec_size, padding_idx=PAD)\n",
        "tgt_embedding.weight = src_embedding.weight\n",
        "\n",
        "# Initialize models.\n",
        "encoder = EncoderRNN(embedding=src_embedding,\n",
        "                     hidden_size=HIDDEN_SIZE,\n",
        "                     num_layers=NUM_LAYERS,\n",
        "                     dropout=DROPOUT)\n",
        "\n",
        "decoder = LuongAttnDecoderRNN(encoder, embedding=tgt_embedding,\n",
        "                              tie_embeddings=TIE_EMBEDDINGS,\n",
        "                              dropout=DROPOUT)\n",
        "\n",
        "glove_embeddings = load_pretrained_embedding(nlp, train_dataset.vocab)\n",
        "encoder.embedding.weight.data.copy_(glove_embeddings)\n",
        "decoder.embedding.weight.data.copy_(glove_embeddings)\n",
        "\n",
        "if not TRAIN_EMBEDDINGS:\n",
        "  encoder.embedding.weight.requires_grad = False\n",
        "decoder.embedding.weight.requires_grad = False\n",
        "        \n",
        "if LOAD_CHECKPOINT:\n",
        "    encoder.load_state_dict(checkpoint['encoder_state_dict'])\n",
        "    decoder.load_state_dict(checkpoint['decoder_state_dict'])\n",
        "    \n",
        "encoder.to(device)\n",
        "decoder.to(device)"
      ],
      "metadata": {
        "colab": {
          "base_uri": "https://localhost:8080/"
        },
        "outputId": "a1b85af5-69cc-4d20-a457-eb3fe74b1dd4",
        "id": "89wjgeKK0AsT"
      },
      "execution_count": null,
      "outputs": [
        {
          "output_type": "stream",
          "name": "stderr",
          "text": [
            "100%|██████████| 7557/7557 [00:00<00:00, 63680.42it/s]\n"
          ]
        },
        {
          "output_type": "execute_result",
          "data": {
            "text/plain": [
              "LuongAttnDecoderRNN(\n",
              "  (embedding): Embedding(7557, 300, padding_idx=0)\n",
              "  (rnn): LSTM(300, 512, num_layers=2, dropout=0.3)\n",
              "  (attn): Linear(in_features=512, out_features=512, bias=True)\n",
              "  (concat): Linear(in_features=1024, out_features=512, bias=True)\n",
              "  (project): Linear(in_features=512, out_features=300, bias=True)\n",
              "  (out): Linear(in_features=300, out_features=7557, bias=True)\n",
              ")"
            ]
          },
          "metadata": {},
          "execution_count": 61
        }
      ]
    },
    {
      "cell_type": "code",
      "source": [
        "LEARNING_RATE = 0.001\n",
        "WEIGHT_DECAY = 1e-5\n",
        "MAX_GRAD_NORM = 2\n",
        "encoder_optim = optim.Adam([p for p in encoder.parameters() if p.requires_grad], \n",
        "                           lr=LEARNING_RATE, weight_decay=WEIGHT_DECAY)\n",
        "decoder_optim = optim.Adam([p for p in decoder.parameters() if p.requires_grad], \n",
        "                           lr=LEARNING_RATE, weight_decay=WEIGHT_DECAY)\n",
        "\n",
        "PRINT_EVERY_STEP = 20\n",
        "\n",
        "GLOBAL_STEP = 0 \n",
        "last_save_on_step = 0\n",
        "\n",
        "total_loss = 0\n",
        "total_corrects = 0\n",
        "total_words = 0\n",
        "\n",
        "train_loss_journal, correct_val_loss_journal, fce_val_loss_journal, realec_val_loss_journal = [], [], [], []\n",
        "train_accuracy_journal, correct_val_accuracy_journal, fce_val_accuracy_journal, realec_val_accuracy_journal = [], [], [], []\n",
        "last_save_on_step = None\n",
        "\n",
        "def update_journals(realec_loss, realec_accuracy, realec_val_loss_journal, realec_val_accuracy_journal,\n",
        "                      fce_loss, fce_accuracy, fce_val_loss_journal, fce_val_accuracy_journal,\n",
        "                      correct_loss, correct_accuracy, correct_val_loss_journal, correct_val_accuracy_journal):\n",
        "  realec_val_loss_journal.append(realec_loss)\n",
        "  realec_val_accuracy_journal.append(realec_accuracy)\n",
        "  fce_val_loss_journal.append(fce_loss)\n",
        "  fce_val_accuracy_journal.append(fce_accuracy)\n",
        "  correct_val_loss_journal.append(correct_loss)\n",
        "  correct_val_accuracy_journal.append(correct_accuracy)"
      ],
      "metadata": {
        "id": "oIoT4KGc0AsU"
      },
      "execution_count": null,
      "outputs": []
    },
    {
      "cell_type": "markdown",
      "source": [
        "#### Train and Visualize"
      ],
      "metadata": {
        "id": "4Minmcte0AsU"
      }
    },
    {
      "cell_type": "code",
      "source": [
        "EXPERIMENT_NAME = \"fcerealec\"\n",
        "NUM_EPOCHS = 5"
      ],
      "metadata": {
        "id": "zvlxTXFy0AsU"
      },
      "execution_count": null,
      "outputs": []
    },
    {
      "cell_type": "code",
      "source": [
        "for epoch in range(NUM_EPOCHS):\n",
        "  for batch_id, batch_data in tqdm(enumerate(train_iter)):\n",
        "\n",
        "    src_seqs, tgt_seqs, src_lens, tgt_lens = batch_data\n",
        "    \n",
        "    # Ignore batch if there is a long sequence.\n",
        "    max_seq_len = max(src_lens + tgt_lens)\n",
        "    if max_seq_len > MAX_LEN:\n",
        "      print('[!] Ignore batch: sequence length={} > max sequence length={}'.format(MAX_LEN))\n",
        "      continue\n",
        "    \n",
        "    loss, pred_seqs, attention_weights, num_corrects, num_words, encoder_grad_norm, decoder_grad_norm \\\n",
        "    = train(src_seqs, tgt_seqs, src_lens, tgt_lens, encoder, decoder, encoder_optim, decoder_optim)\n",
        "\n",
        "    # Statistics.\n",
        "    GLOBAL_STEP += 1\n",
        "    total_loss += loss\n",
        "    total_corrects += num_corrects\n",
        "    total_words += num_words\n",
        "    total_accuracy = 100 * (total_corrects / total_words)\n",
        "\n",
        "    if GLOBAL_STEP % PRINT_EVERY_STEP == 0:\n",
        "      train_loss_journal.append(total_loss)\n",
        "      train_accuracy_journal.append(total_accuracy.item())\n",
        "      plot_journal(train_loss_journal, \n",
        "                   correct_val_loss_journal, fce_val_loss_journal, realec_val_loss_journal,\n",
        "                   train_accuracy_journal,\n",
        "                   correct_val_accuracy_journal, fce_val_accuracy_journal, realec_val_accuracy_journal,\n",
        "                   last_save_on_step = last_save_on_step, \n",
        "                   checkpoint_path = checkpoint_path, \n",
        "                   epoch = epoch)\n",
        "      \n",
        "      total_loss = 0\n",
        "      total_corrects = 0\n",
        "      total_words = 0\n",
        "\n",
        "    del src_seqs, tgt_seqs, src_lens, tgt_lens, \\\n",
        "        loss, pred_seqs, attention_weights, num_corrects, num_words, \\\n",
        "        encoder_grad_norm, decoder_grad_norm\n",
        "\n",
        "  realec_loss, realec_accuracy = evaluation(realec_iter, encoder, decoder)\n",
        "  fce_loss, fce_accuracy = evaluation(fce_iter, encoder, decoder)\n",
        "  correct_loss, correct_accuracy = evaluation(correct_iter, encoder, decoder)\n",
        "  update_journals(realec_loss, realec_accuracy, realec_val_loss_journal, realec_val_accuracy_journal,\n",
        "                      fce_loss, fce_accuracy, fce_val_loss_journal, fce_val_accuracy_journal,\n",
        "                      correct_loss, correct_accuracy, correct_val_loss_journal, correct_val_accuracy_journal)\n",
        "\n",
        "  last_save_on_step = GLOBAL_STEP\n",
        "  checkpoint_path = save_checkpoint(EXPERIMENT_NAME, encoder, decoder, encoder_optim, decoder_optim, epoch)\n",
        "  \n",
        "  print('SAVE'*25)\n",
        "  print('Save checkpoint to \"{}\".'.format(checkpoint_path))\n",
        "  print('SAVE'*25)\n",
        "\n",
        "  plot_journal(train_loss_journal, \n",
        "                correct_val_loss_journal, fce_val_loss_journal, realec_val_loss_journal,\n",
        "                train_accuracy_journal,\n",
        "                correct_val_accuracy_journal, fce_val_accuracy_journal, realec_val_accuracy_journal,\n",
        "                last_save_on_step = last_save_on_step, \n",
        "                checkpoint_path = checkpoint_path, \n",
        "                epoch = epoch)"
      ],
      "metadata": {
        "colab": {
          "base_uri": "https://localhost:8080/",
          "height": 986
        },
        "outputId": "54fb2de2-ce48-464e-ad50-d5c4206120e0",
        "id": "K6YuR5Lv0AsU"
      },
      "execution_count": null,
      "outputs": [
        {
          "output_type": "stream",
          "name": "stdout",
          "text": [
            "Train loss: 46.362364768981934, Train acc: 69.295654296875\n",
            "last save at step None, path: \n"
          ]
        },
        {
          "output_type": "display_data",
          "data": {
            "text/plain": [
              "<Figure size 1296x720 with 4 Axes>"
            ],
            "image/png": "[encoded data removed]"
          },
          "metadata": {
            "needs_background": "light"
          }
        },
        {
          "output_type": "stream",
          "name": "stderr",
          "text": [
            "\r140it [01:16,  1.28it/s]/usr/local/lib/python3.7/dist-packages/ipykernel_launcher.py:3: UserWarning: Implicit dimension choice for log_softmax has been deprecated. Change the call to include dim=X as an argument.\n",
            "  This is separate from the ipykernel package so we can avoid doing imports until\n",
            "159it [01:26,  1.83it/s]\n",
            "/usr/local/lib/python3.7/dist-packages/ipykernel_launcher.py:5: UserWarning: volatile was removed and now has no effect. Use `with torch.no_grad():` instead.\n",
            "  \"\"\"\n",
            "/usr/local/lib/python3.7/dist-packages/ipykernel_launcher.py:6: UserWarning: volatile was removed and now has no effect. Use `with torch.no_grad():` instead.\n",
            "  \n",
            "/usr/local/lib/python3.7/dist-packages/ipykernel_launcher.py:7: UserWarning: volatile was removed and now has no effect. Use `with torch.no_grad():` instead.\n",
            "  import sys\n",
            "/usr/local/lib/python3.7/dist-packages/ipykernel_launcher.py:8: UserWarning: volatile was removed and now has no effect. Use `with torch.no_grad():` instead.\n",
            "  \n",
            "/usr/local/lib/python3.7/dist-packages/ipykernel_launcher.py:14: UserWarning: volatile was removed and now has no effect. Use `with torch.no_grad():` instead.\n",
            "  \n",
            "/usr/local/lib/python3.7/dist-packages/ipykernel_launcher.py:17: UserWarning: volatile was removed and now has no effect. Use `with torch.no_grad():` instead.\n"
          ]
        }
      ]
    },
    {
      "cell_type": "code",
      "source": [
        "def str_list(l):\n",
        "  return list(map(str,l))\n",
        "def line_to_list(l):\n",
        "  return list(map(float,l.strip().split('\\t')))\n",
        "\n",
        "with open(f'{EXPERIMENT_NAME}_journal.txt', 'w') as outfile:\n",
        "  print('='*10+'\\n')\n",
        "  print(EXPERIMENT_NAME+'\\n')\n",
        "  outfile.write(f'train loss every {str(PRINT_EVERY_STEP)} steps, test -- every 1 epoch\\n\\\n",
        "  last checpoint saved at {checkpoint_path}\\n')\n",
        "  outfile.write(f'BATCH_SIZE = {str(BATCH_SIZE)}, LEARNING_RATE = {str(LEARNING_RATE)},  WEIGHT_DECAY = {str(WEIGHT_DECAY)}\\n')\n",
        "  outfile.write('train loss\\n')\n",
        "  outfile.write('\\t'.join(str_list(train_loss_journal))+'\\n')\n",
        "  outfile.write('train accuracy\\n')\n",
        "  outfile.write('\\t'.join(str_list(train_accuracy_journal))+'\\n')\n",
        "\n",
        "  outfile.write('realec val loss\\n')\n",
        "  outfile.write('\\t'.join(str_list(realec_val_loss_journal))+'\\n')\n",
        "  outfile.write('realec val accuracy\\n')\n",
        "  outfile.write('\\t'.join(str_list(realec_val_accuracy_journal))+'\\n')\n",
        "\n",
        "  outfile.write('fce val loss\\n')\n",
        "  outfile.write('\\t'.join(str_list(fce_val_accuracy_journal))+'\\n')\n",
        "  outfile.write('fce val accuracy\\n')\n",
        "  outfile.write('\\t'.join(str_list(fce_val_accuracy_journal))+'\\n')\n",
        "\n",
        "  outfile.write('correct val loss\\n')\n",
        "  outfile.write('\\t'.join(str_list(correct_val_loss_journal))+'\\n')\n",
        "  outfile.write('correct val accuracy\\n')\n",
        "  outfile.write('\\t'.join(str_list(correct_val_accuracy_journal))+'\\n')\n",
        "\n",
        "with open(f'{EXPERIMENT_NAME}_journal.txt') as infile:\n",
        "  text = infile.read()\n",
        "  with open(f'journal.txt', 'a+') as outfile:\n",
        "    outfile.write(text)\n",
        "\n",
        "with open(f'{EXPERIMENT_NAME}_journal.txt') as infile:\n",
        "  text = infile.readlines()\n",
        "  print(*text,sep='\\n')\n"
      ],
      "metadata": {
        "id": "A-0jzQeN0AsV"
      },
      "execution_count": null,
      "outputs": []
    },
    {
      "cell_type": "code",
      "source": [
        ""
      ],
      "metadata": {
        "id": "zMLPYxw30AsV"
      },
      "execution_count": null,
      "outputs": []
    },
    {
      "cell_type": "markdown",
      "source": [
        "## REALEC + FCE + Correct"
      ],
      "metadata": {
        "id": "f07MRh_70BtL"
      }
    },
    {
      "cell_type": "markdown",
      "source": [
        "##### Build training dataset and dataloader"
      ],
      "metadata": {
        "id": "44vAeXMG0BtM"
      }
    },
    {
      "cell_type": "code",
      "source": [
        "#realec, fce, correct\n",
        "X = np.append(model_data['realec']['X_train'], model_data['correct']['X_train'])\n",
        "X = np.append(X, model_data['fce']['X_train'])\n",
        "y = np.append(model_data['realec']['y_train'], model_data['correct']['y_train'])\n",
        "y = np.append(y, model_data['fce']['y_train'])\n",
        "\n",
        "train_dataset = LECDataset(X, y)\n",
        "src_vocab_size = tgt_vocab_size = len(train_dataset.vocab.token2id)\n",
        "\n",
        "BATCH_SIZE = 64\n",
        "train_iter = DataLoader(dataset=train_dataset,\n",
        "                        batch_size=BATCH_SIZE,\n",
        "                        shuffle=True,\n",
        "                        num_workers=2,\n",
        "                        collate_fn=collate_fn)"
      ],
      "metadata": {
        "colab": {
          "base_uri": "https://localhost:8080/"
        },
        "outputId": "f27d4b6c-6edc-432e-b4eb-95cca40a860a",
        "id": "QjaL-VbV0BtM"
      },
      "execution_count": null,
      "outputs": [
        {
          "output_type": "stream",
          "name": "stdout",
          "text": [
            "INFO\t2022-05-26 23:55:02\tLoading source sentences\n"
          ]
        },
        {
          "output_type": "stream",
          "name": "stderr",
          "text": [
            "100%|██████████| 10168/10168 [00:04<00:00, 2340.60it/s]\n"
          ]
        },
        {
          "output_type": "stream",
          "name": "stdout",
          "text": [
            "INFO\t2022-05-26 23:55:07\tLoading source sentences\n"
          ]
        },
        {
          "output_type": "stream",
          "name": "stderr",
          "text": [
            "100%|██████████| 10168/10168 [00:02<00:00, 3483.72it/s]\n"
          ]
        },
        {
          "output_type": "stream",
          "name": "stdout",
          "text": [
            "INFO\t2022-05-26 23:55:10\tBuilding Vocab\n"
          ]
        },
        {
          "output_type": "stream",
          "name": "stderr",
          "text": [
            "7551it [00:00, 1170925.37it/s]"
          ]
        },
        {
          "output_type": "stream",
          "name": "stdout",
          "text": [
            "INFO\t2022-05-26 23:55:10\t\n",
            "Building dataset complete\n"
          ]
        },
        {
          "output_type": "stream",
          "name": "stderr",
          "text": [
            "\n"
          ]
        }
      ]
    },
    {
      "cell_type": "markdown",
      "source": [
        "##### Evaluation datasets and dataloaders"
      ],
      "metadata": {
        "id": "EeOXkQEW0BtM"
      }
    },
    {
      "cell_type": "code",
      "source": [
        "realec_dataset = LECDataset(model_data['realec']['X_test'], model_data['realec']['y_test'],\n",
        "                            vocab = train_dataset.vocab)\n",
        "fce_dataset = LECDataset(model_data['fce']['X_test'], model_data['fce']['y_test'],\n",
        "                         vocab = train_dataset.vocab)\n",
        "correct_dataset = LECDataset(model_data['correct']['X_test'], model_data['correct']['y_test'],\n",
        "                             vocab = train_dataset.vocab)\n",
        "\n",
        "BATCH_SIZE = 64\n",
        "realec_iter = DataLoader(dataset=realec_dataset,\n",
        "                        batch_size=BATCH_SIZE, \n",
        "                        shuffle=True,\n",
        "                        num_workers=2,\n",
        "                        collate_fn=collate_fn)\n",
        "fce_iter = DataLoader(dataset=fce_dataset,\n",
        "                        batch_size=BATCH_SIZE, \n",
        "                        shuffle=True,\n",
        "                        num_workers=2,\n",
        "                        collate_fn=collate_fn)\n",
        "correct_iter = DataLoader(dataset=correct_dataset,\n",
        "                        batch_size=BATCH_SIZE, \n",
        "                        shuffle=True,\n",
        "                        num_workers=2,\n",
        "                        collate_fn=collate_fn)"
      ],
      "metadata": {
        "colab": {
          "base_uri": "https://localhost:8080/"
        },
        "outputId": "42ed8550-812d-472f-a2e8-5ff7ea6b317e",
        "id": "vRpMXEX90BtN"
      },
      "execution_count": null,
      "outputs": [
        {
          "output_type": "stream",
          "name": "stdout",
          "text": [
            "INFO\t2022-05-26 23:55:10\tLoading source sentences\n"
          ]
        },
        {
          "output_type": "stream",
          "name": "stderr",
          "text": [
            "100%|██████████| 2543/2543 [00:00<00:00, 5801.50it/s]\n"
          ]
        },
        {
          "output_type": "stream",
          "name": "stdout",
          "text": [
            "INFO\t2022-05-26 23:55:10\tLoading source sentences\n"
          ]
        },
        {
          "output_type": "stream",
          "name": "stderr",
          "text": [
            "100%|██████████| 2543/2543 [00:00<00:00, 4928.69it/s]\n"
          ]
        },
        {
          "output_type": "stream",
          "name": "stdout",
          "text": [
            "INFO\t2022-05-26 23:55:11\t\n",
            "Building dataset complete\n",
            "INFO\t2022-05-26 23:55:11\tLoading source sentences\n"
          ]
        },
        {
          "output_type": "stream",
          "name": "stderr",
          "text": [
            "100%|██████████| 3517/3517 [00:00<00:00, 5833.27it/s]\n"
          ]
        },
        {
          "output_type": "stream",
          "name": "stdout",
          "text": [
            "INFO\t2022-05-26 23:55:11\tLoading source sentences\n"
          ]
        },
        {
          "output_type": "stream",
          "name": "stderr",
          "text": [
            "100%|██████████| 3517/3517 [00:00<00:00, 3999.04it/s]\n"
          ]
        },
        {
          "output_type": "stream",
          "name": "stdout",
          "text": [
            "INFO\t2022-05-26 23:55:12\t\n",
            "Building dataset complete\n",
            "INFO\t2022-05-26 23:55:12\tLoading source sentences\n"
          ]
        },
        {
          "output_type": "stream",
          "name": "stderr",
          "text": [
            "100%|██████████| 2402/2402 [00:00<00:00, 4717.68it/s]\n"
          ]
        },
        {
          "output_type": "stream",
          "name": "stdout",
          "text": [
            "INFO\t2022-05-26 23:55:13\tLoading source sentences\n"
          ]
        },
        {
          "output_type": "stream",
          "name": "stderr",
          "text": [
            "100%|██████████| 2402/2402 [00:00<00:00, 3384.72it/s]"
          ]
        },
        {
          "output_type": "stream",
          "name": "stdout",
          "text": [
            "INFO\t2022-05-26 23:55:13\t\n",
            "Building dataset complete\n"
          ]
        },
        {
          "output_type": "stream",
          "name": "stderr",
          "text": [
            "\n"
          ]
        }
      ]
    },
    {
      "cell_type": "markdown",
      "source": [
        "#### Initialize RNNs + emdeddings + optimizers"
      ],
      "metadata": {
        "id": "l4n7A81F0BtN"
      }
    },
    {
      "cell_type": "code",
      "source": [
        "HIDDEN_SIZE = 512\n",
        "NUM_LAYERS = 2\n",
        "DROPOUT = 0.3\n",
        "TIE_EMBEDDINGS = True\n",
        "TRAIN_EMBEDDINGS = False\n",
        "LOAD_CHECKPOINT = False"
      ],
      "metadata": {
        "id": "CbDJACjf0BtN"
      },
      "execution_count": null,
      "outputs": []
    },
    {
      "cell_type": "code",
      "source": [
        "if LOAD_CHECKPOINT:\n",
        "  checkpoint_path = './checkpoints/??'\n",
        "  checkpoint = load_checkpoint(checkpoint_path)\n",
        "else:\n",
        "  checkpoint_path = ''\n",
        "\n",
        "word_vec_size = nlp.vocab.vectors_length\n",
        "src_embedding = nn.Embedding(src_vocab_size, word_vec_size, padding_idx=PAD)\n",
        "tgt_embedding = nn.Embedding(tgt_vocab_size, word_vec_size, padding_idx=PAD)\n",
        "tgt_embedding.weight = src_embedding.weight\n",
        "\n",
        "# Initialize models.\n",
        "encoder = EncoderRNN(embedding=src_embedding,\n",
        "                     hidden_size=HIDDEN_SIZE,\n",
        "                     num_layers=NUM_LAYERS,\n",
        "                     dropout=DROPOUT)\n",
        "\n",
        "decoder = LuongAttnDecoderRNN(encoder, embedding=tgt_embedding,\n",
        "                              tie_embeddings=TIE_EMBEDDINGS,\n",
        "                              dropout=DROPOUT)\n",
        "\n",
        "glove_embeddings = load_pretrained_embedding(nlp, train_dataset.vocab)\n",
        "encoder.embedding.weight.data.copy_(glove_embeddings)\n",
        "decoder.embedding.weight.data.copy_(glove_embeddings)\n",
        "\n",
        "if not TRAIN_EMBEDDINGS:\n",
        "  encoder.embedding.weight.requires_grad = False\n",
        "decoder.embedding.weight.requires_grad = False\n",
        "        \n",
        "if LOAD_CHECKPOINT:\n",
        "    encoder.load_state_dict(checkpoint['encoder_state_dict'])\n",
        "    decoder.load_state_dict(checkpoint['decoder_state_dict'])\n",
        "    \n",
        "encoder.to(device)\n",
        "decoder.to(device)"
      ],
      "metadata": {
        "colab": {
          "base_uri": "https://localhost:8080/"
        },
        "outputId": "a1b85af5-69cc-4d20-a457-eb3fe74b1dd4",
        "id": "XHwkMJUI0BtN"
      },
      "execution_count": null,
      "outputs": [
        {
          "output_type": "stream",
          "name": "stderr",
          "text": [
            "100%|██████████| 7557/7557 [00:00<00:00, 63680.42it/s]\n"
          ]
        },
        {
          "output_type": "execute_result",
          "data": {
            "text/plain": [
              "LuongAttnDecoderRNN(\n",
              "  (embedding): Embedding(7557, 300, padding_idx=0)\n",
              "  (rnn): LSTM(300, 512, num_layers=2, dropout=0.3)\n",
              "  (attn): Linear(in_features=512, out_features=512, bias=True)\n",
              "  (concat): Linear(in_features=1024, out_features=512, bias=True)\n",
              "  (project): Linear(in_features=512, out_features=300, bias=True)\n",
              "  (out): Linear(in_features=300, out_features=7557, bias=True)\n",
              ")"
            ]
          },
          "metadata": {},
          "execution_count": 61
        }
      ]
    },
    {
      "cell_type": "code",
      "source": [
        "LEARNING_RATE = 0.001\n",
        "WEIGHT_DECAY = 1e-5\n",
        "MAX_GRAD_NORM = 2\n",
        "encoder_optim = optim.Adam([p for p in encoder.parameters() if p.requires_grad], \n",
        "                           lr=LEARNING_RATE, weight_decay=WEIGHT_DECAY)\n",
        "decoder_optim = optim.Adam([p for p in decoder.parameters() if p.requires_grad], \n",
        "                           lr=LEARNING_RATE, weight_decay=WEIGHT_DECAY)\n",
        "\n",
        "PRINT_EVERY_STEP = 20\n",
        "\n",
        "GLOBAL_STEP = 0 \n",
        "last_save_on_step = 0\n",
        "\n",
        "total_loss = 0\n",
        "total_corrects = 0\n",
        "total_words = 0\n",
        "\n",
        "train_loss_journal, correct_val_loss_journal, fce_val_loss_journal, realec_val_loss_journal = [], [], [], []\n",
        "train_accuracy_journal, correct_val_accuracy_journal, fce_val_accuracy_journal, realec_val_accuracy_journal = [], [], [], []\n",
        "last_save_on_step = None\n",
        "\n",
        "def update_journals(realec_loss, realec_accuracy, realec_val_loss_journal, realec_val_accuracy_journal,\n",
        "                      fce_loss, fce_accuracy, fce_val_loss_journal, fce_val_accuracy_journal,\n",
        "                      correct_loss, correct_accuracy, correct_val_loss_journal, correct_val_accuracy_journal):\n",
        "  realec_val_loss_journal.append(realec_loss)\n",
        "  realec_val_accuracy_journal.append(realec_accuracy)\n",
        "  fce_val_loss_journal.append(fce_loss)\n",
        "  fce_val_accuracy_journal.append(fce_accuracy)\n",
        "  correct_val_loss_journal.append(correct_loss)\n",
        "  correct_val_accuracy_journal.append(correct_accuracy)"
      ],
      "metadata": {
        "id": "j3Y7JjMb0BtN"
      },
      "execution_count": null,
      "outputs": []
    },
    {
      "cell_type": "markdown",
      "source": [
        "#### Train and Visualize"
      ],
      "metadata": {
        "id": "PwCnACsi0BtO"
      }
    },
    {
      "cell_type": "code",
      "source": [
        "EXPERIMENT_NAME = \"alltogether\"\n",
        "NUM_EPOCHS = 5"
      ],
      "metadata": {
        "id": "tcYQ0Esu0BtO"
      },
      "execution_count": null,
      "outputs": []
    },
    {
      "cell_type": "code",
      "source": [
        "for epoch in range(NUM_EPOCHS):\n",
        "  for batch_id, batch_data in tqdm(enumerate(train_iter)):\n",
        "\n",
        "    src_seqs, tgt_seqs, src_lens, tgt_lens = batch_data\n",
        "    \n",
        "    # Ignore batch if there is a long sequence.\n",
        "    max_seq_len = max(src_lens + tgt_lens)\n",
        "    if max_seq_len > MAX_LEN:\n",
        "      print('[!] Ignore batch: sequence length={} > max sequence length={}'.format(MAX_LEN))\n",
        "      continue\n",
        "    \n",
        "    loss, pred_seqs, attention_weights, num_corrects, num_words, encoder_grad_norm, decoder_grad_norm \\\n",
        "    = train(src_seqs, tgt_seqs, src_lens, tgt_lens, encoder, decoder, encoder_optim, decoder_optim)\n",
        "\n",
        "    # Statistics.\n",
        "    GLOBAL_STEP += 1\n",
        "    total_loss += loss\n",
        "    total_corrects += num_corrects\n",
        "    total_words += num_words\n",
        "    total_accuracy = 100 * (total_corrects / total_words)\n",
        "\n",
        "    if GLOBAL_STEP % PRINT_EVERY_STEP == 0:\n",
        "      train_loss_journal.append(total_loss)\n",
        "      train_accuracy_journal.append(total_accuracy.item())\n",
        "      plot_journal(train_loss_journal, \n",
        "                   correct_val_loss_journal, fce_val_loss_journal, realec_val_loss_journal,\n",
        "                   train_accuracy_journal,\n",
        "                   correct_val_accuracy_journal, fce_val_accuracy_journal, realec_val_accuracy_journal,\n",
        "                   last_save_on_step = last_save_on_step, \n",
        "                   checkpoint_path = checkpoint_path, \n",
        "                   epoch = epoch)\n",
        "      \n",
        "      total_loss = 0\n",
        "      total_corrects = 0\n",
        "      total_words = 0\n",
        "\n",
        "    del src_seqs, tgt_seqs, src_lens, tgt_lens, \\\n",
        "        loss, pred_seqs, attention_weights, num_corrects, num_words, \\\n",
        "        encoder_grad_norm, decoder_grad_norm\n",
        "\n",
        "  realec_loss, realec_accuracy = evaluation(realec_iter, encoder, decoder)\n",
        "  fce_loss, fce_accuracy = evaluation(fce_iter, encoder, decoder)\n",
        "  correct_loss, correct_accuracy = evaluation(correct_iter, encoder, decoder)\n",
        "  update_journals(realec_loss, realec_accuracy, realec_val_loss_journal, realec_val_accuracy_journal,\n",
        "                      fce_loss, fce_accuracy, fce_val_loss_journal, fce_val_accuracy_journal,\n",
        "                      correct_loss, correct_accuracy, correct_val_loss_journal, correct_val_accuracy_journal)\n",
        "\n",
        "  last_save_on_step = GLOBAL_STEP\n",
        "  checkpoint_path = save_checkpoint(EXPERIMENT_NAME, encoder, decoder, encoder_optim, decoder_optim, epoch)\n",
        "  \n",
        "  print('SAVE'*25)\n",
        "  print('Save checkpoint to \"{}\".'.format(checkpoint_path))\n",
        "  print('SAVE'*25)\n",
        "\n",
        "  plot_journal(train_loss_journal, \n",
        "                correct_val_loss_journal, fce_val_loss_journal, realec_val_loss_journal,\n",
        "                train_accuracy_journal,\n",
        "                correct_val_accuracy_journal, fce_val_accuracy_journal, realec_val_accuracy_journal,\n",
        "                last_save_on_step = last_save_on_step, \n",
        "                checkpoint_path = checkpoint_path, \n",
        "                epoch = epoch)"
      ],
      "metadata": {
        "colab": {
          "base_uri": "https://localhost:8080/",
          "height": 986
        },
        "outputId": "54fb2de2-ce48-464e-ad50-d5c4206120e0",
        "id": "MAyJ5B-X0BtO"
      },
      "execution_count": null,
      "outputs": [
        {
          "output_type": "stream",
          "name": "stdout",
          "text": [
            "Train loss: 46.362364768981934, Train acc: 69.295654296875\n",
            "last save at step None, path: \n"
          ]
        },
        {
          "output_type": "display_data",
          "data": {
            "text/plain": [
              "<Figure size 1296x720 with 4 Axes>"
            ],
            "image/png": "[encoded data removed]"
          },
          "metadata": {
            "needs_background": "light"
          }
        },
        {
          "output_type": "stream",
          "name": "stderr",
          "text": [
            "\r140it [01:16,  1.28it/s]/usr/local/lib/python3.7/dist-packages/ipykernel_launcher.py:3: UserWarning: Implicit dimension choice for log_softmax has been deprecated. Change the call to include dim=X as an argument.\n",
            "  This is separate from the ipykernel package so we can avoid doing imports until\n",
            "159it [01:26,  1.83it/s]\n",
            "/usr/local/lib/python3.7/dist-packages/ipykernel_launcher.py:5: UserWarning: volatile was removed and now has no effect. Use `with torch.no_grad():` instead.\n",
            "  \"\"\"\n",
            "/usr/local/lib/python3.7/dist-packages/ipykernel_launcher.py:6: UserWarning: volatile was removed and now has no effect. Use `with torch.no_grad():` instead.\n",
            "  \n",
            "/usr/local/lib/python3.7/dist-packages/ipykernel_launcher.py:7: UserWarning: volatile was removed and now has no effect. Use `with torch.no_grad():` instead.\n",
            "  import sys\n",
            "/usr/local/lib/python3.7/dist-packages/ipykernel_launcher.py:8: UserWarning: volatile was removed and now has no effect. Use `with torch.no_grad():` instead.\n",
            "  \n",
            "/usr/local/lib/python3.7/dist-packages/ipykernel_launcher.py:14: UserWarning: volatile was removed and now has no effect. Use `with torch.no_grad():` instead.\n",
            "  \n",
            "/usr/local/lib/python3.7/dist-packages/ipykernel_launcher.py:17: UserWarning: volatile was removed and now has no effect. Use `with torch.no_grad():` instead.\n"
          ]
        }
      ]
    },
    {
      "cell_type": "code",
      "source": [
        "def str_list(l):\n",
        "  return list(map(str,l))\n",
        "def line_to_list(l):\n",
        "  return list(map(float,l.strip().split('\\t')))\n",
        "\n",
        "with open(f'{EXPERIMENT_NAME}_journal.txt', 'w') as outfile:\n",
        "  print('='*10+'\\n')\n",
        "  print(EXPERIMENT_NAME+'\\n')\n",
        "  outfile.write(f'train loss every {str(PRINT_EVERY_STEP)} steps, test -- every 1 epoch\\n\\\n",
        "  last checpoint saved at {checkpoint_path}\\n')\n",
        "  outfile.write(f'BATCH_SIZE = {str(BATCH_SIZE)}, LEARNING_RATE = {str(LEARNING_RATE)},  WEIGHT_DECAY = {str(WEIGHT_DECAY)}\\n')\n",
        "  outfile.write('train loss\\n')\n",
        "  outfile.write('\\t'.join(str_list(train_loss_journal))+'\\n')\n",
        "  outfile.write('train accuracy\\n')\n",
        "  outfile.write('\\t'.join(str_list(train_accuracy_journal))+'\\n')\n",
        "\n",
        "  outfile.write('realec val loss\\n')\n",
        "  outfile.write('\\t'.join(str_list(realec_val_loss_journal))+'\\n')\n",
        "  outfile.write('realec val accuracy\\n')\n",
        "  outfile.write('\\t'.join(str_list(realec_val_accuracy_journal))+'\\n')\n",
        "\n",
        "  outfile.write('fce val loss\\n')\n",
        "  outfile.write('\\t'.join(str_list(fce_val_accuracy_journal))+'\\n')\n",
        "  outfile.write('fce val accuracy\\n')\n",
        "  outfile.write('\\t'.join(str_list(fce_val_accuracy_journal))+'\\n')\n",
        "\n",
        "  outfile.write('correct val loss\\n')\n",
        "  outfile.write('\\t'.join(str_list(correct_val_loss_journal))+'\\n')\n",
        "  outfile.write('correct val accuracy\\n')\n",
        "  outfile.write('\\t'.join(str_list(correct_val_accuracy_journal))+'\\n')\n",
        "\n",
        "with open(f'{EXPERIMENT_NAME}_journal.txt') as infile:\n",
        "  text = infile.read()\n",
        "  with open(f'journal.txt', 'a+') as outfile:\n",
        "    outfile.write(text)\n",
        "\n",
        "with open(f'{EXPERIMENT_NAME}_journal.txt') as infile:\n",
        "  text = infile.readlines()\n",
        "  print(*text,sep='\\n')\n"
      ],
      "metadata": {
        "id": "-Ip4GSyL0BtO"
      },
      "execution_count": null,
      "outputs": []
    },
    {
      "cell_type": "code",
      "source": [
        ""
      ],
      "metadata": {
        "id": "1p6MRg9x0BtO"
      },
      "execution_count": null,
      "outputs": []
    }
  ]
}